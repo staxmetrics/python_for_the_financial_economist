{
 "cells": [
  {
   "cell_type": "markdown",
   "id": "5729489a",
   "metadata": {},
   "source": [
    "# Minimum-Variance portofolio\n",
    "\n",
    "Assume that an investor can create a portfolio by allocating to three assets _A_, _B_ and _C_ with the following correlation matrix $\\boldsymbol{C}$, vector of volatilities $\\boldsymbol{v}$, and expected return vector $\\boldsymbol{\\mu}$\n",
    "\n",
    "$$\n",
    "\\boldsymbol{C} = \\begin{pmatrix} 1.0 & 0.2 & 0.15 \\\\\n",
    "0.2 & 1.0 & 0.4 \\\\\n",
    "0.15 & 0.4 & 1.0\\end{pmatrix}\n",
    "$$\n",
    "\n",
    "and \n",
    "\n",
    "$$\n",
    "\\boldsymbol{v} = \\begin{pmatrix} 0.1 \\\\ 0.15 \\\\ 0.2 \\end{pmatrix}\n",
    "$$\n",
    "\n",
    "\n",
    "and \n",
    "\n",
    "$$\n",
    "\\boldsymbol{\\mu} = \\begin{pmatrix} 0.04 \\\\ 0.06 \\\\ 0.08 \\end{pmatrix}\n",
    "$$"
   ]
  },
  {
   "cell_type": "code",
   "id": "c0c4e99c",
   "metadata": {
    "ExecuteTime": {
     "end_time": "2025-08-16T11:18:49.121063Z",
     "start_time": "2025-08-16T11:18:49.027161Z"
    }
   },
   "source": [
    "# we only need the numpy package\n",
    "import numpy as np"
   ],
   "outputs": [],
   "execution_count": 1
  },
  {
   "cell_type": "markdown",
   "id": "02be4b61-e56d-4812-a881-9777be678cd5",
   "metadata": {},
   "source": [
    "## Problem 1\n",
    "\n",
    "Define the correlation matrix, covariance matrix and the vector of expected returns as `numpy` arrays"
   ]
  },
  {
   "cell_type": "markdown",
   "id": "36c22e64-11f8-4c26-92aa-e536a2aeec25",
   "metadata": {},
   "source": [
    "## Problem 2\n",
    "\n",
    "Check if the covariance matrix is postive definite. "
   ]
  },
  {
   "cell_type": "markdown",
   "id": "df65b9f7-d8e9-4887-a0fe-3ea6deb66d26",
   "metadata": {},
   "source": [
    "## Problem 3\n",
    "\n",
    "Consider an equally weighted portfolio $w_A = w_B = w_C = 1/3$. What is the formula for the portfolio variance using matrix notation? Calculate the portfolio standard devation for the equally weighted portfolio. Also calculate the expected return for the portfolio. \n"
   ]
  },
  {
   "cell_type": "markdown",
   "id": "89128a6d-ea14-48fb-a593-095b4d9a83dd",
   "metadata": {},
   "source": [
    "## Problem 4\n",
    "\n",
    "The portfolio weights $\\mathbf{w} = (w_A \\; \\; w_B \\; \\; w_C)^\\top$ satisfies the budget constraint $\\mathbf{w}^\\top \\mathbf{1} =  w_A + w_B + w_C = 1$. The investor seeks to minimize the variance subject to this condition\n",
    "\n",
    "$$\n",
    "\\min \\mathbf{w}^\\top \\boldsymbol{\\Sigma} \\mathbf{w} \\; \\; \\;  \\text{s.t. } \\mathbf{w}^\\top \\mathbf{1}  = 1\n",
    "$$\n",
    "\n",
    "The Lagrangian reads\n",
    "\n",
    "$$\n",
    "\\mathcal{L} = \\mathbf{w}^\\top \\boldsymbol{\\Sigma} \\mathbf{w} - \\lambda (\\mathbf{w}^\\top \\mathbf{1}  - 1)\n",
    "$$\n",
    "\n",
    "Deriving the FOC and solving for the optimal weights yields\n",
    "\n",
    "$$\n",
    "\\mathbf{w}^* = \\frac{\\boldsymbol{\\Sigma}^{-1} \\mathbf{1}}{\\mathbf{1}^\\top \\boldsymbol{\\Sigma}^{-1} \\mathbf{1}}\n",
    "$$\n",
    "\n",
    "Define a function which calculates the minimum-variance portfolio weights given a covariance matrix. Calculate the minimum-variance portfolio weights. \n"
   ]
  }
 ],
 "metadata": {
  "kernelspec": {
   "display_name": "Python 3 (ipykernel)",
   "language": "python",
   "name": "python3"
  },
  "language_info": {
   "codemirror_mode": {
    "name": "ipython",
    "version": 3
   },
   "file_extension": ".py",
   "mimetype": "text/x-python",
   "name": "python",
   "nbconvert_exporter": "python",
   "pygments_lexer": "ipython3",
   "version": "3.11.9"
  }
 },
 "nbformat": 4,
 "nbformat_minor": 5
}
