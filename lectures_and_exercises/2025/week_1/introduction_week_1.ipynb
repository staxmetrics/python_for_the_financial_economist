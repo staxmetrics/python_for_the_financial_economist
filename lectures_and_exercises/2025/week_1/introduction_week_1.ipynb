{
 "cells": [
  {
   "cell_type": "markdown",
   "id": "sustainable-funds",
   "metadata": {},
   "source": [
    "# Week 1: Head-on with Python"
   ]
  },
  {
   "cell_type": "markdown",
   "id": "executive-queue",
   "metadata": {},
   "source": [
    "## Getting started\n",
    "\n",
    "Check out this [getting started guide](https://staxmetrics.github.io/python_for_the_financial_economist/). "
   ]
  },
  {
   "cell_type": "markdown",
   "id": "ahead-rebound",
   "metadata": {},
   "source": [
    "## Lectures and exercises\n",
    "\n",
    "The **lectures** will\n",
    "\n",
    "* Introduce different ways of working with Python\n",
    "* A recap of some matrix operations and an introduction to the `numpy` package\n",
    "\n",
    "The students are expected work on the assigned track  [Python Fundamentals](https://learn.datacamp.com/skill-tracks/python-fundamentals) at [DataCamp](https://learn.datacamp.com).\n"
   ]
  },
  {
   "cell_type": "markdown",
   "id": "domestic-split",
   "metadata": {},
   "source": [
    "## Introduction to Python \n",
    "\n",
    "DataCamp will be used throughout the course to introduce relevent Python concepts. All students attending the course should be able to sign up, free-of-charge, to [DataCamp](https://learn.datacamp.com). \n",
    "\n",
    "\n",
    "During the first week, I have assigned the track [Python Fundamentals](https://learn.datacamp.com/skill-tracks/python-fundamentals) which will introduce data types, functions, packages, etc. "
   ]
  },
  {
   "cell_type": "markdown",
   "id": "guided-theorem",
   "metadata": {},
   "source": [
    "## Jupyter notebooks\n",
    "\n",
    "Much of the course materiale will be presented using Jupyter notebooks. \n",
    "\n",
    "Jupyter notebooks are one of many ways to interact with Python and its scientific libraries (packages). One of the main strenghs is that Jupyter notebooks allow us excute python commands in an interactive fashion including visualizations and combine it with text and mathematical expressions. \n",
    "\n",
    "Ideal for learning Python, exploring idea and interacting with data. However, if the goal is to build your own  code library then it is not the way to go. \n",
    "\n",
    "To work with in Jupyter notebook, we need to excute the following command in the command prompt (after navigating to the desired starting folder)\n",
    "\n",
    "```console\n",
    "\n",
    "jupyter notebook\n",
    "\n",
    "```\n",
    "\n",
    "\n",
    "### Magic commands\n",
    "\n",
    "Magic commands are special commands that can help you with running and analyzing data in your notebook. They add a special functionality that is not straight forward to achieve with python code or jupyter notebook interface. Magic commands are easy to spot within the code. \n",
    "\n",
    "We may want to time exectution time of a function call"
   ]
  },
  {
   "cell_type": "code",
   "id": "spread-rover",
   "metadata": {
    "ExecuteTime": {
     "end_time": "2025-08-16T10:48:39.110324Z",
     "start_time": "2025-08-16T10:48:27.274518Z"
    }
   },
   "source": [
    "%timeit 3**2"
   ],
   "outputs": [
    {
     "name": "stdout",
     "output_type": "stream",
     "text": [
      "14.7 ns ± 1.07 ns per loop (mean ± std. dev. of 7 runs, 100,000,000 loops each)\n"
     ]
    }
   ],
   "execution_count": 1
  },
  {
   "cell_type": "markdown",
   "id": "continuous-yahoo",
   "metadata": {},
   "source": [
    "We may want the docstring of a function "
   ]
  },
  {
   "cell_type": "code",
   "id": "metallic-archive",
   "metadata": {
    "ExecuteTime": {
     "end_time": "2025-08-16T10:48:39.621595Z",
     "start_time": "2025-08-16T10:48:39.521394Z"
    }
   },
   "source": [
    "import numpy as np\n",
    "\n",
    "%pdoc np.square"
   ],
   "outputs": [],
   "execution_count": 2
  },
  {
   "cell_type": "markdown",
   "id": "minimal-religion",
   "metadata": {},
   "source": [
    "List of magic commands"
   ]
  },
  {
   "cell_type": "code",
   "id": "other-martial",
   "metadata": {
    "ExecuteTime": {
     "end_time": "2025-08-16T10:48:39.740294Z",
     "start_time": "2025-08-16T10:48:39.730879Z"
    }
   },
   "source": [
    "%lsmagic"
   ],
   "outputs": [
    {
     "data": {
      "text/plain": [
       "Available line magics:\n",
       "%alias  %alias_magic  %autoawait  %autocall  %automagic  %autosave  %bookmark  %cd  %clear  %cls  %code_wrap  %colors  %conda  %config  %connect_info  %copy  %ddir  %debug  %dhist  %dirs  %doctest_mode  %echo  %ed  %edit  %env  %gui  %hist  %history  %killbgscripts  %ldir  %less  %load  %load_ext  %loadpy  %logoff  %logon  %logstart  %logstate  %logstop  %ls  %lsmagic  %macro  %magic  %mamba  %matplotlib  %micromamba  %mkdir  %more  %notebook  %page  %pastebin  %pdb  %pdef  %pdoc  %pfile  %pinfo  %pinfo2  %pip  %popd  %pprint  %precision  %prun  %psearch  %psource  %pushd  %pwd  %pycat  %pylab  %qtconsole  %quickref  %recall  %rehashx  %reload_ext  %ren  %rep  %rerun  %reset  %reset_selective  %rmdir  %run  %save  %sc  %set_env  %store  %sx  %system  %tb  %time  %timeit  %unalias  %unload_ext  %uv  %who  %who_ls  %whos  %xdel  %xmode\n",
       "\n",
       "Available cell magics:\n",
       "%%!  %%HTML  %%SVG  %%bash  %%capture  %%cmd  %%code_wrap  %%debug  %%file  %%html  %%javascript  %%js  %%latex  %%markdown  %%perl  %%prun  %%pypy  %%python  %%python2  %%python3  %%ruby  %%script  %%sh  %%svg  %%sx  %%system  %%time  %%timeit  %%writefile\n",
       "\n",
       "Automagic is ON, % prefix IS NOT needed for line magics."
      ],
      "application/json": {
       "line": {
        "automagic": "AutoMagics",
        "autocall": "AutoMagics",
        "alias_magic": "BasicMagics",
        "lsmagic": "BasicMagics",
        "magic": "BasicMagics",
        "page": "BasicMagics",
        "pprint": "BasicMagics",
        "colors": "BasicMagics",
        "xmode": "BasicMagics",
        "quickref": "BasicMagics",
        "doctest_mode": "BasicMagics",
        "gui": "BasicMagics",
        "precision": "BasicMagics",
        "notebook": "BasicMagics",
        "save": "CodeMagics",
        "pastebin": "CodeMagics",
        "loadpy": "CodeMagics",
        "load": "CodeMagics",
        "edit": "KernelMagics",
        "config": "ConfigMagics",
        "prun": "ExecutionMagics",
        "pdb": "ExecutionMagics",
        "debug": "ExecutionMagics",
        "tb": "ExecutionMagics",
        "run": "ExecutionMagics",
        "timeit": "ExecutionMagics",
        "time": "ExecutionMagics",
        "macro": "ExecutionMagics",
        "code_wrap": "ExecutionMagics",
        "load_ext": "ExtensionMagics",
        "unload_ext": "ExtensionMagics",
        "reload_ext": "ExtensionMagics",
        "history": "HistoryMagics",
        "recall": "HistoryMagics",
        "rerun": "HistoryMagics",
        "logstart": "LoggingMagics",
        "logstop": "LoggingMagics",
        "logoff": "LoggingMagics",
        "logon": "LoggingMagics",
        "logstate": "LoggingMagics",
        "pinfo": "NamespaceMagics",
        "pinfo2": "NamespaceMagics",
        "pdef": "NamespaceMagics",
        "pdoc": "NamespaceMagics",
        "psource": "NamespaceMagics",
        "pfile": "NamespaceMagics",
        "psearch": "NamespaceMagics",
        "who_ls": "NamespaceMagics",
        "who": "NamespaceMagics",
        "whos": "NamespaceMagics",
        "reset": "NamespaceMagics",
        "reset_selective": "NamespaceMagics",
        "xdel": "NamespaceMagics",
        "alias": "OSMagics",
        "unalias": "OSMagics",
        "rehashx": "OSMagics",
        "pwd": "OSMagics",
        "cd": "OSMagics",
        "env": "OSMagics",
        "set_env": "OSMagics",
        "pushd": "OSMagics",
        "popd": "OSMagics",
        "dirs": "OSMagics",
        "dhist": "OSMagics",
        "sc": "OSMagics",
        "sx": "OSMagics",
        "system": "OSMagics",
        "bookmark": "OSMagics",
        "pycat": "OSMagics",
        "pip": "PackagingMagics",
        "conda": "PackagingMagics",
        "mamba": "PackagingMagics",
        "micromamba": "PackagingMagics",
        "uv": "PackagingMagics",
        "matplotlib": "PylabMagics",
        "pylab": "PylabMagics",
        "killbgscripts": "ScriptMagics",
        "autoawait": "AsyncMagics",
        "ed": "Other",
        "hist": "Other",
        "rep": "Other",
        "clear": "KernelMagics",
        "cls": "KernelMagics",
        "less": "KernelMagics",
        "more": "KernelMagics",
        "connect_info": "KernelMagics",
        "qtconsole": "KernelMagics",
        "autosave": "KernelMagics",
        "ls": "Other",
        "ddir": "Other",
        "ldir": "Other",
        "mkdir": "Other",
        "rmdir": "Other",
        "echo": "Other",
        "ren": "Other",
        "copy": "Other",
        "store": "StoreMagics"
       },
       "cell": {
        "js": "DisplayMagics",
        "javascript": "DisplayMagics",
        "latex": "DisplayMagics",
        "svg": "DisplayMagics",
        "html": "DisplayMagics",
        "markdown": "DisplayMagics",
        "prun": "ExecutionMagics",
        "debug": "ExecutionMagics",
        "timeit": "ExecutionMagics",
        "time": "ExecutionMagics",
        "capture": "ExecutionMagics",
        "code_wrap": "ExecutionMagics",
        "sx": "OSMagics",
        "system": "OSMagics",
        "!": "OSMagics",
        "writefile": "OSMagics",
        "script": "ScriptMagics",
        "sh": "Other",
        "bash": "Other",
        "perl": "Other",
        "ruby": "Other",
        "python": "Other",
        "python2": "Other",
        "python3": "Other",
        "pypy": "Other",
        "cmd": "Other",
        "SVG": "Other",
        "HTML": "Other",
        "file": "Other"
       }
      }
     },
     "execution_count": 3,
     "metadata": {},
     "output_type": "execute_result"
    }
   ],
   "execution_count": 3
  },
  {
   "cell_type": "markdown",
   "id": "consecutive-appointment",
   "metadata": {},
   "source": [
    "## Packages\n",
    "\n",
    "During the course, we will use a number of packages of scientific computing including \n",
    "\n",
    "* `numpy`: Numerical programing including working with arrays\n",
    "* `scipy` : Builds on Numpy as provides tools for scientific programming such as optimization, linear algebra, distributions, etc. \n",
    "* `matplotlib` : Plotting library\n",
    "\n",
    "If we load the `numpy` packages and name it `np`, we will be able to access the functionality of `numpy`. "
   ]
  },
  {
   "cell_type": "code",
   "id": "human-zimbabwe",
   "metadata": {
    "ExecuteTime": {
     "end_time": "2025-08-16T10:48:39.922759Z",
     "start_time": "2025-08-16T10:48:39.915224Z"
    }
   },
   "source": [
    "# import numpy as np \n",
    "import numpy as np\n",
    "\n",
    "# define two arrays \n",
    "a = np.array([1.0, 2.0])\n",
    "b = np.array([3.0, 4.0])\n",
    "\n",
    "# find outer-product\n",
    "np.outer(b, a)"
   ],
   "outputs": [
    {
     "data": {
      "text/plain": [
       "array([[3., 6.],\n",
       "       [4., 8.]])"
      ]
     },
     "execution_count": 4,
     "metadata": {},
     "output_type": "execute_result"
    }
   ],
   "execution_count": 4
  }
 ],
 "metadata": {
  "kernelspec": {
   "display_name": "Python 3 (ipykernel)",
   "language": "python",
   "name": "python3"
  },
  "language_info": {
   "codemirror_mode": {
    "name": "ipython",
    "version": 3
   },
   "file_extension": ".py",
   "mimetype": "text/x-python",
   "name": "python",
   "nbconvert_exporter": "python",
   "pygments_lexer": "ipython3",
   "version": "3.11.9"
  }
 },
 "nbformat": 4,
 "nbformat_minor": 5
}
