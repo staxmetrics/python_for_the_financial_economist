{
 "cells": [
  {
   "cell_type": "markdown",
   "id": "sustainable-funds",
   "metadata": {},
   "source": [
    "# Week 1: Head-on with Python"
   ]
  },
  {
   "cell_type": "markdown",
   "id": "executive-queue",
   "metadata": {},
   "source": [
    "## Getting started\n",
    "\n",
    "Check out this [getting started guide](https://staxmetrics.github.io/python_for_the_financial_economist/). "
   ]
  },
  {
   "cell_type": "markdown",
   "id": "ahead-rebound",
   "metadata": {},
   "source": [
    "## Lectures and exercises\n",
    "\n",
    "The **lectures** will\n",
    "\n",
    "* Introduce different ways of working with Python\n",
    "* Discuss pricing financial assets and how to model financial markets\n",
    "\n",
    "Students not familiar with linear algebra and matrix operations are expected to review the notebook __introduction_to_linear_algebra.ipynb__ (recap of some matrix operations and an introduction to the `numpy` package) and to the exercises for week 1.\n",
    "\n",
    "The students are expected work on the assigned track  [Python Fundamentals](https://learn.datacamp.com/skill-tracks/python-fundamentals) at [DataCamp](https://learn.datacamp.com).\n"
   ]
  },
  {
   "cell_type": "markdown",
   "id": "domestic-split",
   "metadata": {},
   "source": [
    "## Introduction to Python \n",
    "\n",
    "DataCamp will be used throughout the course to introduce relevent Python concepts. All students attending the course should be able to sign up, free-of-charge, to [DataCamp](https://learn.datacamp.com). \n",
    "\n",
    "\n",
    "During the first week, I have assigned the track [Python Fundamentals](https://learn.datacamp.com/skill-tracks/python-fundamentals) which will introduce data types, functions, packages, etc. "
   ]
  },
  {
   "cell_type": "markdown",
   "id": "guided-theorem",
   "metadata": {},
   "source": [
    "## Jupyter notebooks\n",
    "\n",
    "Much of the course materiale will be presented using Jupyter notebooks. \n",
    "\n",
    "Jupyter notebooks are one of many ways to interact with Python and its scientific libraries (packages). One of the main strenghs is that Jupyter notebooks allow us excute python commands in an interactive fashion including visualizations and combine it with text and mathematical expressions. \n",
    "\n",
    "Ideal for learning Python, exploring idea and interacting with data. However, if the goal is to build your own  code library then it is not the way to go. \n",
    "\n",
    "To work with in Jupyter notebook, we need to excute the following command in the command prompt (after navigating to the desired starting folder)\n",
    "\n",
    "```console\n",
    "\n",
    "jupyter notebook\n",
    "\n",
    "```\n",
    "\n",
    "\n",
    "### Magic commands\n",
    "\n",
    "Magic commands are special commands that can help you with running and analyzing data in your notebook. They add a special functionality that is not straight forward to achieve with python code or jupyter notebook interface. Magic commands are easy to spot within the code. \n",
    "\n",
    "We may want to time exectution time of a function call"
   ]
  },
  {
   "cell_type": "code",
   "execution_count": 1,
   "id": "spread-rover",
   "metadata": {
    "ExecuteTime": {
     "end_time": "2025-08-16T10:48:39.110324Z",
     "start_time": "2025-08-16T10:48:27.274518Z"
    }
   },
   "outputs": [
    {
     "name": "stdout",
     "output_type": "stream",
     "text": [
      "54 ns ± 2.82 ns per loop (mean ± std. dev. of 7 runs, 10,000,000 loops each)\n"
     ]
    }
   ],
   "source": [
    "%timeit 3**2"
   ]
  },
  {
   "cell_type": "markdown",
   "id": "continuous-yahoo",
   "metadata": {},
   "source": [
    "We may want the docstring of a function "
   ]
  },
  {
   "cell_type": "code",
   "execution_count": 2,
   "id": "metallic-archive",
   "metadata": {
    "ExecuteTime": {
     "end_time": "2025-08-16T10:48:39.621595Z",
     "start_time": "2025-08-16T10:48:39.521394Z"
    }
   },
   "outputs": [
    {
     "data": {
      "text/plain": [
       "\u001b[31mClass docstring:\u001b[39m\n",
       "    square(x, /, out=None, *, where=True, casting='same_kind', order='K', dtype=None, subok=True[, signature])\n",
       "    \n",
       "    Return the element-wise square of the input.\n",
       "    \n",
       "    Parameters\n",
       "    ----------\n",
       "    x : array_like\n",
       "        Input data.\n",
       "    out : ndarray, None, or tuple of ndarray and None, optional\n",
       "        A location into which the result is stored. If provided, it must have\n",
       "        a shape that the inputs broadcast to. If not provided or None,\n",
       "        a freshly-allocated array is returned. A tuple (possible only as a\n",
       "        keyword argument) must have length equal to the number of outputs.\n",
       "    where : array_like, optional\n",
       "        This condition is broadcast over the input. At locations where the\n",
       "        condition is True, the `out` array will be set to the ufunc result.\n",
       "        Elsewhere, the `out` array will retain its original value.\n",
       "        Note that if an uninitialized `out` array is created via the default\n",
       "        ``out=None``, locations within it where the condition is False will\n",
       "        remain uninitialized.\n",
       "    **kwargs\n",
       "        For other keyword-only arguments, see the\n",
       "        :ref:`ufunc docs <ufuncs.kwargs>`.\n",
       "    \n",
       "    Returns\n",
       "    -------\n",
       "    out : ndarray or scalar\n",
       "        Element-wise `x*x`, of the same shape and dtype as `x`.\n",
       "        This is a scalar if `x` is a scalar.\n",
       "    \n",
       "    See Also\n",
       "    --------\n",
       "    numpy.linalg.matrix_power\n",
       "    sqrt\n",
       "    power\n",
       "    \n",
       "    Examples\n",
       "    --------\n",
       "    >>> import numpy as np\n",
       "    >>> np.square([-1j, 1])\n",
       "    array([-1.-0.j,  1.+0.j])\n",
       "\u001b[31mCall docstring:\u001b[39m\n",
       "    Call self as a function."
      ]
     },
     "metadata": {},
     "output_type": "display_data"
    }
   ],
   "source": [
    "import numpy as np\n",
    "\n",
    "%pdoc np.square"
   ]
  },
  {
   "cell_type": "markdown",
   "id": "minimal-religion",
   "metadata": {},
   "source": [
    "List of magic commands"
   ]
  },
  {
   "cell_type": "code",
   "execution_count": 3,
   "id": "other-martial",
   "metadata": {
    "ExecuteTime": {
     "end_time": "2025-08-16T10:48:39.740294Z",
     "start_time": "2025-08-16T10:48:39.730879Z"
    }
   },
   "outputs": [
    {
     "data": {
      "application/json": {
       "cell": {
        "!": "OSMagics",
        "HTML": "Other",
        "SVG": "Other",
        "bash": "Other",
        "capture": "ExecutionMagics",
        "cmd": "Other",
        "code_wrap": "ExecutionMagics",
        "debug": "ExecutionMagics",
        "file": "Other",
        "html": "DisplayMagics",
        "javascript": "DisplayMagics",
        "js": "DisplayMagics",
        "latex": "DisplayMagics",
        "markdown": "DisplayMagics",
        "perl": "Other",
        "prun": "ExecutionMagics",
        "pypy": "Other",
        "python": "Other",
        "python2": "Other",
        "python3": "Other",
        "ruby": "Other",
        "script": "ScriptMagics",
        "sh": "Other",
        "svg": "DisplayMagics",
        "sx": "OSMagics",
        "system": "OSMagics",
        "time": "ExecutionMagics",
        "timeit": "ExecutionMagics",
        "writefile": "OSMagics"
       },
       "line": {
        "alias": "OSMagics",
        "alias_magic": "BasicMagics",
        "autoawait": "AsyncMagics",
        "autocall": "AutoMagics",
        "automagic": "AutoMagics",
        "autosave": "KernelMagics",
        "bookmark": "OSMagics",
        "cd": "OSMagics",
        "clear": "KernelMagics",
        "cls": "KernelMagics",
        "code_wrap": "ExecutionMagics",
        "colors": "BasicMagics",
        "conda": "PackagingMagics",
        "config": "ConfigMagics",
        "connect_info": "KernelMagics",
        "copy": "Other",
        "ddir": "Other",
        "debug": "ExecutionMagics",
        "dhist": "OSMagics",
        "dirs": "OSMagics",
        "doctest_mode": "BasicMagics",
        "echo": "Other",
        "ed": "Other",
        "edit": "KernelMagics",
        "env": "OSMagics",
        "gui": "BasicMagics",
        "hist": "Other",
        "history": "HistoryMagics",
        "killbgscripts": "ScriptMagics",
        "ldir": "Other",
        "less": "KernelMagics",
        "load": "CodeMagics",
        "load_ext": "ExtensionMagics",
        "loadpy": "CodeMagics",
        "logoff": "LoggingMagics",
        "logon": "LoggingMagics",
        "logstart": "LoggingMagics",
        "logstate": "LoggingMagics",
        "logstop": "LoggingMagics",
        "ls": "Other",
        "lsmagic": "BasicMagics",
        "macro": "ExecutionMagics",
        "magic": "BasicMagics",
        "mamba": "PackagingMagics",
        "matplotlib": "PylabMagics",
        "micromamba": "PackagingMagics",
        "mkdir": "Other",
        "more": "KernelMagics",
        "notebook": "BasicMagics",
        "page": "BasicMagics",
        "pastebin": "CodeMagics",
        "pdb": "ExecutionMagics",
        "pdef": "NamespaceMagics",
        "pdoc": "NamespaceMagics",
        "pfile": "NamespaceMagics",
        "pinfo": "NamespaceMagics",
        "pinfo2": "NamespaceMagics",
        "pip": "PackagingMagics",
        "popd": "OSMagics",
        "pprint": "BasicMagics",
        "precision": "BasicMagics",
        "prun": "ExecutionMagics",
        "psearch": "NamespaceMagics",
        "psource": "NamespaceMagics",
        "pushd": "OSMagics",
        "pwd": "OSMagics",
        "pycat": "OSMagics",
        "pylab": "PylabMagics",
        "qtconsole": "KernelMagics",
        "quickref": "BasicMagics",
        "recall": "HistoryMagics",
        "rehashx": "OSMagics",
        "reload_ext": "ExtensionMagics",
        "ren": "Other",
        "rep": "Other",
        "rerun": "HistoryMagics",
        "reset": "NamespaceMagics",
        "reset_selective": "NamespaceMagics",
        "rmdir": "Other",
        "run": "ExecutionMagics",
        "save": "CodeMagics",
        "sc": "OSMagics",
        "set_env": "OSMagics",
        "store": "StoreMagics",
        "sx": "OSMagics",
        "system": "OSMagics",
        "tb": "ExecutionMagics",
        "time": "ExecutionMagics",
        "timeit": "ExecutionMagics",
        "unalias": "OSMagics",
        "unload_ext": "ExtensionMagics",
        "uv": "PackagingMagics",
        "who": "NamespaceMagics",
        "who_ls": "NamespaceMagics",
        "whos": "NamespaceMagics",
        "xdel": "NamespaceMagics",
        "xmode": "BasicMagics"
       }
      },
      "text/plain": [
       "Available line magics:\n",
       "%alias  %alias_magic  %autoawait  %autocall  %automagic  %autosave  %bookmark  %cd  %clear  %cls  %code_wrap  %colors  %conda  %config  %connect_info  %copy  %ddir  %debug  %dhist  %dirs  %doctest_mode  %echo  %ed  %edit  %env  %gui  %hist  %history  %killbgscripts  %ldir  %less  %load  %load_ext  %loadpy  %logoff  %logon  %logstart  %logstate  %logstop  %ls  %lsmagic  %macro  %magic  %mamba  %matplotlib  %micromamba  %mkdir  %more  %notebook  %page  %pastebin  %pdb  %pdef  %pdoc  %pfile  %pinfo  %pinfo2  %pip  %popd  %pprint  %precision  %prun  %psearch  %psource  %pushd  %pwd  %pycat  %pylab  %qtconsole  %quickref  %recall  %rehashx  %reload_ext  %ren  %rep  %rerun  %reset  %reset_selective  %rmdir  %run  %save  %sc  %set_env  %store  %sx  %system  %tb  %time  %timeit  %unalias  %unload_ext  %uv  %who  %who_ls  %whos  %xdel  %xmode\n",
       "\n",
       "Available cell magics:\n",
       "%%!  %%HTML  %%SVG  %%bash  %%capture  %%cmd  %%code_wrap  %%debug  %%file  %%html  %%javascript  %%js  %%latex  %%markdown  %%perl  %%prun  %%pypy  %%python  %%python2  %%python3  %%ruby  %%script  %%sh  %%svg  %%sx  %%system  %%time  %%timeit  %%writefile\n",
       "\n",
       "Automagic is ON, % prefix IS NOT needed for line magics."
      ]
     },
     "execution_count": 3,
     "metadata": {},
     "output_type": "execute_result"
    }
   ],
   "source": [
    "%lsmagic"
   ]
  },
  {
   "cell_type": "markdown",
   "id": "consecutive-appointment",
   "metadata": {},
   "source": [
    "## Packages\n",
    "\n",
    "During the course, we will use a number of packages of scientific computing including \n",
    "\n",
    "* `numpy`: Numerical programing including working with arrays\n",
    "* `scipy` : Builds on Numpy as provides tools for scientific programming such as optimization, linear algebra, distributions, etc. \n",
    "* `matplotlib` : Plotting library\n",
    "\n",
    "If we load the `numpy` packages and name it `np`, we will be able to access the functionality of `numpy`. "
   ]
  },
  {
   "cell_type": "code",
   "execution_count": 5,
   "id": "human-zimbabwe",
   "metadata": {
    "ExecuteTime": {
     "end_time": "2025-08-16T10:48:39.922759Z",
     "start_time": "2025-08-16T10:48:39.915224Z"
    }
   },
   "outputs": [
    {
     "data": {
      "text/plain": [
       "array([[3., 6.],\n",
       "       [4., 8.]])"
      ]
     },
     "execution_count": 5,
     "metadata": {},
     "output_type": "execute_result"
    }
   ],
   "source": [
    "# import numpy as np \n",
    "import numpy as np\n",
    "\n",
    "# define two arrays \n",
    "a = np.array([1.0, 2.0])\n",
    "b = np.array([3.0, 4.0])\n",
    "\n",
    "# find outer-product\n",
    "np.outer(b, a)"
   ]
  }
 ],
 "metadata": {
  "kernelspec": {
   "display_name": "Python 3 (ipykernel)",
   "language": "python",
   "name": "python3"
  },
  "language_info": {
   "codemirror_mode": {
    "name": "ipython",
    "version": 3
   },
   "file_extension": ".py",
   "mimetype": "text/x-python",
   "name": "python",
   "nbconvert_exporter": "python",
   "pygments_lexer": "ipython3",
   "version": "3.13.5"
  }
 },
 "nbformat": 4,
 "nbformat_minor": 5
}
