{
 "cells": [
  {
   "cell_type": "markdown",
   "id": "5729489a",
   "metadata": {},
   "source": [
    "# Simulating the uncertainty of sample correlation estimator\n",
    "\n",
    "Assume that we want to examine the properties of the sample covariance estimator, in particular we want to look at the distribution of the correlations. We assume the correlation matrix $\\boldsymbol{C}$\n",
    "\n",
    "$$\n",
    "\\boldsymbol{C} = \\begin{pmatrix} 1 & \\rho & \\rho  & \\rho & \\rho \\\\\n",
    "\\rho & 1 & \\rho  & \\rho & \\rho \\\\\n",
    "\\rho & \\rho & 1  & \\rho & \\rho \\\\\n",
    "\\rho & \\rho & \\rho  & 1 & \\rho \\\\\n",
    "\\rho & \\rho & \\rho  & \\rho & 1 \\end{pmatrix}\n",
    "$$"
   ]
  },
  {
   "cell_type": "code",
   "id": "c0c4e99c",
   "metadata": {
    "ExecuteTime": {
     "end_time": "2025-08-16T11:19:33.037274Z",
     "start_time": "2025-08-16T11:19:32.513841Z"
    }
   },
   "source": [
    "# import numpy for working with matrices\n",
    "import numpy as np\n",
    "\n",
    "# import matplotlib for plotting\n",
    "import matplotlib.pyplot as plt"
   ],
   "outputs": [],
   "execution_count": 1
  },
  {
   "cell_type": "markdown",
   "id": "02be4b61-e56d-4812-a881-9777be678cd5",
   "metadata": {},
   "source": [
    "## Problem 1\n",
    "\n",
    "Assume $\\rho = 0.5$ and that the data generating process is normal \n",
    "\n",
    "$$\n",
    "\\mathbf{X} \\sim N(\\mathbf{0}, \\boldsymbol{C})\n",
    "$$\n",
    "\n",
    "Simulate $N=25$ observations $10\\;000$ times and plot the histogram of the correlation estimates for the first and second variable. \n"
   ]
  },
  {
   "cell_type": "markdown",
   "id": "a02ff809-d4a1-470f-a1ea-35b21a0a0c90",
   "metadata": {},
   "source": [
    "## Problem 2\n",
    "\n",
    "What happens if we increase $\\rho$?"
   ]
  },
  {
   "cell_type": "markdown",
   "id": "cb34178f-a51b-4147-8598-a86c1676f0a6",
   "metadata": {},
   "source": [
    "## Problem 3\n",
    "\n",
    "What happens if you apply the [Fisher transformation](https://en.wikipedia.org/wiki/Fisher_transformation) $z = \\frac{1}{2} \\ln \\frac{1 + \\hat{\\rho}}{1 - \\hat{\\rho}} = \\text{artanh}(\\hat{\\rho})$?"
   ]
  }
 ],
 "metadata": {
  "kernelspec": {
   "display_name": "Python 3 (ipykernel)",
   "language": "python",
   "name": "python3"
  },
  "language_info": {
   "codemirror_mode": {
    "name": "ipython",
    "version": 3
   },
   "file_extension": ".py",
   "mimetype": "text/x-python",
   "name": "python",
   "nbconvert_exporter": "python",
   "pygments_lexer": "ipython3",
   "version": "3.11.9"
  }
 },
 "nbformat": 4,
 "nbformat_minor": 5
}
