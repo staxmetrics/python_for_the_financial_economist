{
 "cells": [
  {
   "cell_type": "markdown",
   "id": "sustainable-funds",
   "metadata": {},
   "source": [
    "# Week 4: Evaluation and risk attribution"
   ]
  },
  {
   "cell_type": "markdown",
   "id": "ahead-rebound",
   "metadata": {},
   "source": [
    "## Lectures and exercises\n",
    "\n",
    "The **lectures** will introduce concepts related to\n",
    "\n",
    "* Risk and satisfaction measures\n",
    "* Allocating diversification benefits\n",
    "\n",
    "The **exercises** will cover\n",
    "\n",
    "* VaR and CVaR using historical simulation\n",
    "* Maximum drawdown\n",
    "* Portfolio diversification\n",
    "* Allocating diversification benefits for VaR and CVaR\n",
    "* Scenario based risk measures"
   ]
  }
 ],
 "metadata": {
  "kernelspec": {
   "display_name": "Python 3 (ipykernel)",
   "language": "python",
   "name": "python3"
  },
  "language_info": {
   "codemirror_mode": {
    "name": "ipython",
    "version": 3
   },
   "file_extension": ".py",
   "mimetype": "text/x-python",
   "name": "python",
   "nbconvert_exporter": "python",
   "pygments_lexer": "ipython3",
   "version": "3.13.5"
  }
 },
 "nbformat": 4,
 "nbformat_minor": 5
}
