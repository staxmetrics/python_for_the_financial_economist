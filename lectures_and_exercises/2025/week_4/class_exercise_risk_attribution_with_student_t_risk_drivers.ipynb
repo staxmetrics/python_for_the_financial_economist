{
 "cells": [
  {
   "cell_type": "markdown",
   "id": "5729489a",
   "metadata": {},
   "source": [
    "# Risk attribution with Student t distributed risk drivers\n",
    "\n"
   ]
  },
  {
   "cell_type": "code",
   "execution_count": 20,
   "id": "c0c4e99c",
   "metadata": {},
   "outputs": [],
   "source": [
    "import sys\n",
    "sys.path.insert(0,'C:\\\\code\\\\python_for_the_financial_economist\\\\')\n",
    "\n",
    "# import relevant packages\n",
    "import numpy as np\n",
    "import pandas as pd\n",
    "from scipy import stats\n",
    "import matplotlib.pyplot as plt\n",
    "\n",
    "# from codelib\n",
    "from codelib.visualization.base import risk_waterfall_chart, waterfall_chart\n",
    "\n",
    "from codelib.visualization.layout import DefaultStyle\n",
    "DefaultStyle();"
   ]
  },
  {
   "cell_type": "markdown",
   "id": "61b1bfca-6cb1-4c35-aa37-b44e034852aa",
   "metadata": {},
   "source": [
    "Assume that we can specify the return of an asset using the following decomposition\n",
    "\n",
    "$$\n",
    "\\mathbf{R} = \\alpha + \\beta_1 \\mathbf{Z}_1 + \\beta_2 \\mathbf{Z}_2 + \\varepsilon = \\boldsymbol{\\beta}^\\top \\mathbf{Z}\n",
    "$$\n",
    "\n",
    "where $\\boldsymbol{\\beta} = (\\beta_1, \\beta_2, 1)^\\top = (0.5, 0.75, 1)^\\top$ and \n",
    "\n",
    "$$\n",
    "\\mathbf{Z} = \\begin{pmatrix} \\mathbf{Z}_1 \\\\ \\mathbf{Z}_2 \\\\ \\alpha + \\varepsilon  \\end{pmatrix} \\sim t(\\boldsymbol{\\mu}, \\boldsymbol{\\Sigma}, \\nu)\n",
    "$$\n",
    "\n",
    "Assume that $\\nu = 10$ and \n",
    "\n",
    "$$\n",
    "\\boldsymbol{\\mu} = \\begin{pmatrix} 0.04 \\\\ 0.08 \\\\ 0.0\\end{pmatrix}\n",
    "$$\n",
    "\n",
    "and \n",
    "\n",
    "$$\n",
    "\\boldsymbol{\\Sigma} = \\begin{pmatrix} 0.1^2 & 0 & 0 \\\\ 0 & 0.15^2 & 0 \\\\ 0 & 0 & 0.05^2 \\end{pmatrix}\n",
    "$$"
   ]
  },
  {
   "cell_type": "markdown",
   "id": "0e098073-5124-47f5-b332-5cfa2d07b0dd",
   "metadata": {},
   "source": [
    "## Problem 1\n",
    "\n",
    "The variance of $\\mathbf{R}$ is given by \n",
    "\n",
    "$$\n",
    "\\text{Var}[\\mathbf{R}] = \\boldsymbol{\\beta}^\\top \\text{Cov}[\\mathbf{Z}]  \\boldsymbol{\\beta}\n",
    "$$\n",
    "\n",
    "What is the variance of $\\mathbf{R}$? What is the standard deviation?"
   ]
  },
  {
   "cell_type": "markdown",
   "id": "b1b38c01-60d9-4117-94ab-b51530c140ae",
   "metadata": {},
   "source": [
    "## Problem 2\n",
    "\n",
    "Following similar arguments as for a portfolio, the Euler decomposition of the standard devation of the asset return reads\n",
    "\n",
    "$$\n",
    "\\sigma_R(\\boldsymbol{\\beta}) = \\boldsymbol{\\beta}^\\top \\frac{\\text{Cov}[\\mathbf{Z}]  \\boldsymbol{\\beta}}{\\sqrt{\\boldsymbol{\\beta}^\\top \\text{Cov}[\\mathbf{Z}] \\boldsymbol{\\beta}}} = \\sum_{i=1}^3 \\beta_i \\frac{(\\text{Cov}[\\mathbf{Z}] \\boldsymbol{\\beta})_i }{\\sqrt{\\boldsymbol{\\beta}^\\top \\text{Cov}[\\mathbf{Z}] \\boldsymbol{\\beta}}}\n",
    "$$\n",
    "\n",
    "Attribute the risk using the above decomposition. Does the risk contributions sum to the total risk? Plot the results. "
   ]
  },
  {
   "cell_type": "markdown",
   "id": "4acaa26d-7f80-4e11-957f-405431f60591",
   "metadata": {},
   "source": [
    "## Problem 3\n",
    "\n",
    "We have the general result that if $\\mathbf{Z} \\sim t(\\boldsymbol{\\mu}, \\boldsymbol{\\Sigma}, \\nu)$ then\n",
    "\n",
    "$$\n",
    "\\boldsymbol{a} + \\boldsymbol{b} \\mathbf{Z} \\sim t(\\boldsymbol{a}+\\boldsymbol{b} \\boldsymbol{\\mu},\\boldsymbol{b} \\boldsymbol{\\Sigma} \\boldsymbol{b}^\\top, \\nu)\n",
    "$$\n",
    "\n",
    "Calculate the $\\text{VaR}_{5\\%} (\\mathbf{R})$."
   ]
  },
  {
   "cell_type": "markdown",
   "id": "c0a14bbc-4d3b-4d8d-9678-3096bda530be",
   "metadata": {},
   "source": [
    "## Problem 4\n",
    "\n",
    "We have the general result that if $\\mathbf{R} \\sim t(\\mu, \\sigma^2, \\nu)$ then\n",
    "\n",
    "$$\n",
    "R = \\mu + \\sigma Y\n",
    "$$\n",
    "\n",
    "where $Y \\sim t(0, 1, \\nu)$. Using this result will enable us to define the Euler decomposition \n",
    "\n",
    "$$\n",
    "\\text{VaR}_{\\alpha} (\\mathbf{R}) = \\boldsymbol{\\beta}^\\top (-\\boldsymbol{\\mu} - \\frac{\\boldsymbol{\\Sigma}  \\boldsymbol{\\beta}}{\\sqrt{\\boldsymbol{\\beta}^\\top \\boldsymbol{\\Sigma} \\boldsymbol{\\beta}}} q_t(\\alpha))\n",
    "$$\n",
    "\n",
    "where $q_t(\\alpha)$ is the quantile of a $t(0, 1, \\nu)$ distributed random variable. \n",
    "\n",
    "Attribute the risk using the above decomposition. Does the risk contributions sum to the total risk? Plot the results. "
   ]
  }
 ],
 "metadata": {
  "kernelspec": {
   "display_name": "Python 3 (ipykernel)",
   "language": "python",
   "name": "python3"
  },
  "language_info": {
   "codemirror_mode": {
    "name": "ipython",
    "version": 3
   },
   "file_extension": ".py",
   "mimetype": "text/x-python",
   "name": "python",
   "nbconvert_exporter": "python",
   "pygments_lexer": "ipython3",
   "version": "3.11.9"
  }
 },
 "nbformat": 4,
 "nbformat_minor": 5
}
