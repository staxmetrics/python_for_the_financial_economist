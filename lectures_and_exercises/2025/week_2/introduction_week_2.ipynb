{
 "cells": [
  {
   "cell_type": "markdown",
   "id": "sustainable-funds",
   "metadata": {},
   "source": [
    "# Week 2: Financial data"
   ]
  },
  {
   "cell_type": "markdown",
   "id": "domestic-split",
   "metadata": {},
   "source": [
    "For the second week, I have assigned the course [Introduction to Data Visualization with Matplotlib](https://learn.datacamp.com/courses/introduction-to-data-visualization-with-matplotlib) which will introduce plotting functionality in Python. "
   ]
  },
  {
   "cell_type": "markdown",
   "id": "ahead-rebound",
   "metadata": {},
   "source": [
    "## Lectures and exercises\n",
    "\n",
    "Look at the notebook data_sources.ipynb which present different ways to data directly into Python using different APIs.\n",
    "\n",
    "The **lectures** will cover\n",
    "\n",
    "* Discussing how to model financial markets\n",
    "\n",
    "The **exercises** will cover\n",
    "\n",
    "* Consequence of misspecifying the asset allocation problem\n",
    "* Consequence of mean-reversion for the square-root rule\n",
    "* Importing and plotting nominal yield data"
   ]
  }
 ],
 "metadata": {
  "kernelspec": {
   "display_name": "Python 3 (ipykernel)",
   "language": "python",
   "name": "python3"
  },
  "language_info": {
   "codemirror_mode": {
    "name": "ipython",
    "version": 3
   },
   "file_extension": ".py",
   "mimetype": "text/x-python",
   "name": "python",
   "nbconvert_exporter": "python",
   "pygments_lexer": "ipython3",
   "version": "3.11.9"
  }
 },
 "nbformat": 4,
 "nbformat_minor": 5
}
