{
 "cells": [
  {
   "cell_type": "markdown",
   "id": "5729489a",
   "metadata": {},
   "source": [
    "# Analyzing Economic Indicators with the FRED API\n",
    "\n"
   ]
  },
  {
   "cell_type": "code",
   "execution_count": 1,
   "id": "c0c4e99c",
   "metadata": {},
   "outputs": [],
   "source": [
    "# import relevant packages \n",
    "import pandas as pd\n",
    "from fredapi import Fred\n",
    "import matplotlib.pyplot as plt"
   ]
  },
  {
   "cell_type": "markdown",
   "id": "02be4b61-e56d-4812-a881-9777be678cd5",
   "metadata": {},
   "source": [
    "## Problem 1\n",
    "\n",
    "Ensure access to the FRED API. Apply your individual `API key`."
   ]
  },
  {
   "cell_type": "markdown",
   "id": "36c22e64-11f8-4c26-92aa-e536a2aeec25",
   "metadata": {},
   "source": [
    "## Problem 2\n",
    "\n",
    "Retrieve data for the three economic indicators starting from 2001-01-01: \n",
    "\n",
    "* GDP (Gross Domestic Product): Series ID `GDP`\n",
    "* Unemployment Rate: Series ID `UNRATE`\n",
    "* Consumer Price Index (CPI) for All Urban Consumers: Series ID `CPIAUCSL`\n",
    "\n",
    "What do you note about the data-frequency?"
   ]
  },
  {
   "cell_type": "markdown",
   "id": "df65b9f7-d8e9-4887-a0fe-3ea6deb66d26",
   "metadata": {},
   "source": [
    "## Problem 3\n",
    "\n",
    "Plot the three variables using line-plots.  "
   ]
  },
  {
   "cell_type": "markdown",
   "id": "89128a6d-ea14-48fb-a593-095b4d9a83dd",
   "metadata": {},
   "source": [
    "## Problem 4\n",
    "\n",
    "Calculate the quarterly growth rate for GDP and the annual inflation rate from the CPI data. Plot the growth rates using a line-plot. "
   ]
  }
 ],
 "metadata": {
  "kernelspec": {
   "display_name": "Python 3 (ipykernel)",
   "language": "python",
   "name": "python3"
  },
  "language_info": {
   "codemirror_mode": {
    "name": "ipython",
    "version": 3
   },
   "file_extension": ".py",
   "mimetype": "text/x-python",
   "name": "python",
   "nbconvert_exporter": "python",
   "pygments_lexer": "ipython3",
   "version": "3.11.9"
  }
 },
 "nbformat": 4,
 "nbformat_minor": 5
}
