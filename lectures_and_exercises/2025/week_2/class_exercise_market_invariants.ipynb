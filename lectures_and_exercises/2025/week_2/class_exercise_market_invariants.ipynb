{
 "cells": [
  {
   "cell_type": "markdown",
   "id": "5729489a",
   "metadata": {},
   "source": [
    "# The USD / EUR exchange rate\n",
    "\n"
   ]
  },
  {
   "cell_type": "code",
   "execution_count": 13,
   "id": "c0c4e99c",
   "metadata": {},
   "outputs": [],
   "source": [
    "# import relevant packages\n",
    "import yfinance as yf\n",
    "import numpy as np\n",
    "import pandas as pd\n",
    "import matplotlib.pyplot as plt"
   ]
  },
  {
   "cell_type": "markdown",
   "id": "02be4b61-e56d-4812-a881-9777be678cd5",
   "metadata": {},
   "source": [
    "## Problem 1\n",
    "\n",
    "Download historical exchange rate data for the DKK/USD currency pair using Yahoo Finance. Use '2006-01-01' as start date. "
   ]
  },
  {
   "cell_type": "markdown",
   "id": "6a19ca9e-e84a-4ad9-b1ea-03552f4a6f84",
   "metadata": {},
   "source": [
    "## Problem 2\n",
    "\n",
    "Define two `pd.Series` with the DKK / USD and USD / DKK exchange rate using the closing price. "
   ]
  },
  {
   "cell_type": "markdown",
   "id": "36c22e64-11f8-4c26-92aa-e536a2aeec25",
   "metadata": {},
   "source": [
    "## Problem 3\n",
    "\n",
    "Plot the time series of the exchanges rates and the natural logarithm of the exhanges rates in two seperate figures. "
   ]
  },
  {
   "cell_type": "markdown",
   "id": "df65b9f7-d8e9-4887-a0fe-3ea6deb66d26",
   "metadata": {},
   "source": [
    "## Problem 4\n",
    "\n",
    "Plot the density of the weekly changes in the natural logarithm of DKK / USD for both the first and second half of the sample. Use either a histogram from the `matplotlib` package or `seaborn.kdeplot`. \n"
   ]
  },
  {
   "cell_type": "markdown",
   "id": "73af9b18-cc3e-400c-8391-828dc5d2c3aa",
   "metadata": {},
   "source": [
    "## Problem 5\n",
    "\n",
    "Plot a scatter plot between the weekly changes in the natural logarithm of DKK / USD and its lagged value. "
   ]
  },
  {
   "cell_type": "markdown",
   "id": "a3c22310-91a3-4487-b765-f1af09f9c32a",
   "metadata": {},
   "source": [
    "## Problem 6\n",
    "\n",
    "Plot the autocorrelation function for the weekly changes in the natural logarithm of DKK / USD.\n"
   ]
  }
 ],
 "metadata": {
  "kernelspec": {
   "display_name": "Python 3 (ipykernel)",
   "language": "python",
   "name": "python3"
  },
  "language_info": {
   "codemirror_mode": {
    "name": "ipython",
    "version": 3
   },
   "file_extension": ".py",
   "mimetype": "text/x-python",
   "name": "python",
   "nbconvert_exporter": "python",
   "pygments_lexer": "ipython3",
   "version": "3.11.9"
  }
 },
 "nbformat": 4,
 "nbformat_minor": 5
}
