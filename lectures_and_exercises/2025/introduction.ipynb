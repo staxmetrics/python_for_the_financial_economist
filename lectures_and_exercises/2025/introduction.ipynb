{
 "cells": [
  {
   "cell_type": "markdown",
   "id": "removable-legislature",
   "metadata": {},
   "source": [
    "# Introduction to Python for the Financial Economist\n",
    "\n",
    "## Table of content\n",
    "\n",
    "* [Course objective](#CourseObj)\n",
    "* [Exam](#Exam)\n",
    "* [Course overview](#CourseOverview)\n",
    "    * [Week 1](#Week1)\n",
    "    * [Week 2](#Week2)\n",
    "    * [Week 3](#Week3)\n",
    "    * [Week 4](#Week4)\n",
    "    * [Week 5](#Week5)\n",
    "    * [Week 6](#Week6)\n",
    "    * [Week 7](#Week7)\n",
    "    * [Week 8](#Week8)\n",
    "    * [Week 9](#Week9)\n",
    "    * [Week 10](#Week10)\n",
    "* [Literature](#Literature)    "
   ]
  },
  {
   "cell_type": "markdown",
   "id": "located-repeat",
   "metadata": {},
   "source": [
    "## Course objective <a class=\"anchor\" id='CourseObj'></a>\n",
    "\n",
    "The aim of this course is to enable students to implement financial models using realistic data. Several topics in financial economics will be covered and the students will at the end of the course be able to independently implement financial models from scratch in Python. This will be highly relevant when writing academic papers (master thesis) and/or working in the financial industry.\n",
    "\n",
    "The students will learn Python by solving a range of different problems in financial economics. This includes implementation of different models from academic research papers.\n",
    "\n",
    "My hope is to help students prepare for the often tedious programming tasks involved when writing their master theses.\n",
    "\n",
    "See course description [here](https://kursuskatalog.cbs.dk/2025-2026/KAN-CFIAV1002U.aspx).\n",
    "\n",
    "## Exam <a class=\"anchor\" id='Exam'></a> \n",
    "\n",
    "The exam will consist of a two week project where students apply the coding skill and financial knowledge learned in the course  to a specific problem. \n",
    "\n",
    "__Format:__ Group take-home assignment. 2 students per group (max 25 pages). Students are allowed to hand-in individually (max 15 pages). \n",
    "\n",
    "__Duration:__ 14 days. \n",
    "\n",
    "__Subject:__ The learning objectives of the course is to _\"use Python and the methods used in the course-exercises to solve problems similar or slightly different from the problems solved in the exercises of the course.\"_\n",
    "\n",
    "The exam may be formulated as a set of specific problems, replication of a scientific paper or a more broad project on a particular topic discussed in the course. Previous exams are available in the [github repository](https://github.com/staxmetrics/python_for_the_financial_economist). "
   ]
  },
  {
   "cell_type": "markdown",
   "id": "serial-jumping",
   "metadata": {},
   "source": [
    "## Course overview <a class=\"anchor\" id='CourseOverview'></a> "
   ]
  },
  {
   "cell_type": "markdown",
   "id": "limited-fossil",
   "metadata": {},
   "source": [
    "### Week 1: Head-on with Python <a class=\"anchor\" id='Week2'></a> \n",
    "\n",
    "The first week will include\n",
    "\n",
    "* An introduction to the tools used (Pycharm, Jupyter notebooks, Github, etc.) and how to get started\n",
    "* An introduction to Python (DataCamp)\n",
    "* Examples using the `numpy` package to perform matrix and vector calculations\n",
    "\n"
   ]
  },
  {
   "cell_type": "markdown",
   "id": "original-genius",
   "metadata": {},
   "source": [
    "### Week 2: Financial data <a class=\"anchor\" id='Week2'></a> \n",
    "\n",
    "We will focus on relevant data sets used in the course, i.e. how to get data sets directly into our Jupyter notebooks or scripts in Pycharm. This will also be relevant when obtaining data for academic projects. \n",
    "\n",
    "Besides this, week 2 will include\n",
    "\n",
    "* An introduction to Matplotlib (DataCamp)\n",
    "* Discussion of how to model financial markets\n",
    "* Examples and exercises\n"
   ]
  },
  {
   "cell_type": "markdown",
   "id": "continuous-asian",
   "metadata": {},
   "source": [
    "### Week 3: Something about distributions <a class=\"anchor\" id='Week3'></a> \n",
    "\n",
    "We will focus on univariate and multivariate statistics using the subpackage `scipy.stats` of `scipy`. We will cover \n",
    "\n",
    "* Univariate statistics (random variables, moments, etc.)\n",
    "* Multivariate statistics \n"
   ]
  },
  {
   "cell_type": "markdown",
   "id": "streaming-transsexual",
   "metadata": {},
   "source": [
    "### Week 4: Risk measures and risk contribution <a class=\"anchor\" id='Week4'></a> \n",
    "\n",
    "We will focus on univariate and multivariate statistics using the subpackage `scipy.stats` of `scipy`. We will cover \n",
    "\n",
    "* Introduction to risk measures\n",
    "* Allocating diversification benefits\n",
    "\n"
   ]
  },
  {
   "cell_type": "markdown",
   "id": "every-responsibility",
   "metadata": {},
   "source": [
    "### Week 5: Optimization <a class=\"anchor\" id='Week5'></a> \n",
    "\n",
    "We will talk about optimization using the subpackages `scipy.optimize` of `scipy`. We will cover\n",
    "\n",
    "* Basic examples of gradient and non-gradient based optimization algorithms \n",
    "* Look at how to implement constrained, unconstrained and global optimization problems using `scipy.optimize`"
   ]
  },
  {
   "cell_type": "markdown",
   "id": "pending-leeds",
   "metadata": {},
   "source": [
    "### Week 6: Optimization and estimation <a class=\"anchor\" id='Week6'></a> \n",
    "\n",
    "We will continue to talk about optimization, but also talk have a look at estimation. We cover\n",
    "\n",
    "* Using the CVXOPT and CVXPY packages to solve convex optimization problems\n",
    "* Basic theory about estimators including introduction to maximum likelihood and non-linear least squares\n",
    "* \"m-estimators\" including maximum likelihood and non-linear least squares [Optional]"
   ]
  },
  {
   "cell_type": "markdown",
   "id": "automotive-backing",
   "metadata": {},
   "source": [
    "### Week 7: Something about yield curves and fixed income <a class=\"anchor\" id='Week7'></a> \n",
    "\n",
    "We will talk about some concepts related to fixed income, discounting and cash flows. These are fundamental building blocks in finance. Examples include\n",
    "\n",
    "* Extracting the yield curve from bond prices\n",
    "* Term-structure models such as the Nelson-Siegel and Vasicek model"
   ]
  },
  {
   "cell_type": "markdown",
   "id": "banner-screening",
   "metadata": {},
   "source": [
    "### Week 8: The covariance and correlation matrix <a class=\"anchor\" id='Week8'></a> \n",
    "\n",
    "The covariance and correlation matrix are key in modern portfolio theory. We will have a look at \n",
    "\n",
    "* Random matrix theory \n",
    "* Shrinkage estimators"
   ]
  },
  {
   "cell_type": "markdown",
   "id": "studied-killer",
   "metadata": {},
   "source": [
    "### Week 9: Modern portfolio theory <a class=\"anchor\" id='Week9'></a> \n",
    "\n",
    "We will talk about Moderne Portfolio Theory and its problems. "
   ]
  },
  {
   "cell_type": "markdown",
   "id": "renewable-finance",
   "metadata": {},
   "source": [
    "### Week 10: Risk based strategies and portfolio heuristics <a class=\"anchor\" id='Week10'></a> \n"
   ]
  },
  {
   "cell_type": "markdown",
   "id": "impossible-variable",
   "metadata": {},
   "source": [
    "# Literature <a class=\"anchor\" id='Literature'></a>\n",
    "\n",
    "There will not be any required literature. However, relevant literature that has inspired this course includes\n",
    "\n",
    "* [Attilio Meucci, \"Risk and Asset Allocation\"](https://www.amazon.com/Risk-Asset-Allocation-Springer-Finance/dp/3642009646)\n",
    "\n",
    "* [Claus Munk (2013), \"Fixed income modelling\"](https://www.amazon.co.uk/Fixed-Income-Modelling-Claus-Munk/dp/0198716443)\n",
    "\n",
    "* [A. Colin Cameron and Pravin K. Trivedi](https://www.amazon.com/Microeconometrics-Methods-Applications-Colin-Cameron/dp/0521848059)\n",
    "\n",
    "* [Riccardo Rebonato and Alexander Denev, \"Portfolio Management under stress\"](https://www.amazon.com/Portfolio-Management-under-Stress-Bayesian-Net/dp/1107048117)"
   ]
  },
  {
   "cell_type": "markdown",
   "id": "reverse-america",
   "metadata": {},
   "source": [
    "## List of symbols, etc. "
   ]
  }
 ],
 "metadata": {
  "kernelspec": {
   "display_name": "Python 3 (ipykernel)",
   "language": "python",
   "name": "python3"
  },
  "language_info": {
   "codemirror_mode": {
    "name": "ipython",
    "version": 3
   },
   "file_extension": ".py",
   "mimetype": "text/x-python",
   "name": "python",
   "nbconvert_exporter": "python",
   "pygments_lexer": "ipython3",
   "version": "3.11.9"
  },
  "toc-autonumbering": false,
  "toc-showcode": true,
  "toc-showmarkdowntxt": false
 },
 "nbformat": 4,
 "nbformat_minor": 5
}
