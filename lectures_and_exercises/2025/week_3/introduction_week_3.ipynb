{
 "cells": [
  {
   "cell_type": "markdown",
   "id": "sustainable-funds",
   "metadata": {},
   "source": [
    "# Week 3: Something about distributions"
   ]
  },
  {
   "cell_type": "markdown",
   "id": "domestic-split",
   "metadata": {},
   "source": [
    "## DataCamp\n",
    "\n",
    "During the third week, I have assigned the course [Introduction to Data Visualization with Seaborn](https://learn.datacamp.com/courses/introduction-to-data-visualization-with-seaborn) which will introduce the seaborn package.\n",
    "\n",
    "## Recap of statistics\n",
    "\n",
    "Please have a look at the notebooks covering:\n",
    "\n",
    "* `Univariate statistics: univariate_statistics.ipynb`\n",
    "* `Multivariate statistics: multivariate_statistics.ipynb`\n",
    "\n",
    "It may be unnecessary to go into great detail with the notebooks if you are already familiar with the content."
   ]
  },
  {
   "cell_type": "markdown",
   "id": "ahead-rebound",
   "metadata": {},
   "source": [
    "## Lectures and exercises\n",
    "\n",
    "The **lectures** will discuss\n",
    "\n",
    "* Multivariate forecasting and flexible probabilities\n",
    "\n",
    "The **exercises** will cover\n",
    "\n",
    "* The Student's t distribution\n",
    "* The empirical distribution function\n",
    "* Moments with scenario probabilities \n",
    "* Exponential decay probabilities "
   ]
  }
 ],
 "metadata": {
  "kernelspec": {
   "display_name": "Python 3 (ipykernel)",
   "language": "python",
   "name": "python3"
  },
  "language_info": {
   "codemirror_mode": {
    "name": "ipython",
    "version": 3
   },
   "file_extension": ".py",
   "mimetype": "text/x-python",
   "name": "python",
   "nbconvert_exporter": "python",
   "pygments_lexer": "ipython3",
   "version": "3.13.5"
  }
 },
 "nbformat": 4,
 "nbformat_minor": 5
}
