{
 "cells": [
  {
   "cell_type": "markdown",
   "id": "5729489a",
   "metadata": {},
   "source": [
    "# Scenario probability distribution\n",
    "\n"
   ]
  },
  {
   "cell_type": "code",
   "execution_count": 1,
   "id": "c0c4e99c",
   "metadata": {},
   "outputs": [],
   "source": [
    "# import relevant packages\n",
    "import yfinance as yf\n",
    "import numpy as np\n",
    "import pandas as pd\n",
    "import matplotlib.pyplot as plt"
   ]
  },
  {
   "cell_type": "code",
   "execution_count": 2,
   "id": "1820f1a0-517b-4e7a-8039-0b76c1b2ac33",
   "metadata": {},
   "outputs": [
    {
     "name": "stderr",
     "output_type": "stream",
     "text": [
      "[*********************100%%**********************]  3 of 3 completed\n"
     ]
    }
   ],
   "source": [
    "# Define the time period\n",
    "start_date = \"2006-01-01\"\n",
    "end_date = \"2024-09-16\"\n",
    "\n",
    "# downloads the Adjusted Close prices for the VIX, S&P 500 ETF (SPY), and Aggregate Bond ETF (AGG\n",
    "tickers = [\"^VIX\", \"SPY\", \"AGG\"]\n",
    "df_data = yf.download(tickers, start=start_date, end=end_date)['Adj Close']"
   ]
  },
  {
   "cell_type": "code",
   "execution_count": 3,
   "id": "0e2db082-e079-4d3e-a63e-3fab90dd61a7",
   "metadata": {},
   "outputs": [
    {
     "data": {
      "text/html": [
       "<div>\n",
       "<style scoped>\n",
       "    .dataframe tbody tr th:only-of-type {\n",
       "        vertical-align: middle;\n",
       "    }\n",
       "\n",
       "    .dataframe tbody tr th {\n",
       "        vertical-align: top;\n",
       "    }\n",
       "\n",
       "    .dataframe thead th {\n",
       "        text-align: right;\n",
       "    }\n",
       "</style>\n",
       "<table border=\"1\" class=\"dataframe\">\n",
       "  <thead>\n",
       "    <tr style=\"text-align: right;\">\n",
       "      <th>Ticker</th>\n",
       "      <th>AGG</th>\n",
       "      <th>SPY</th>\n",
       "      <th>^VIX</th>\n",
       "    </tr>\n",
       "    <tr>\n",
       "      <th>Date</th>\n",
       "      <th></th>\n",
       "      <th></th>\n",
       "      <th></th>\n",
       "    </tr>\n",
       "  </thead>\n",
       "  <tbody>\n",
       "    <tr>\n",
       "      <th>2006-01-03</th>\n",
       "      <td>56.682934</td>\n",
       "      <td>89.060509</td>\n",
       "      <td>11.14</td>\n",
       "    </tr>\n",
       "    <tr>\n",
       "      <th>2006-01-04</th>\n",
       "      <td>56.818069</td>\n",
       "      <td>89.482307</td>\n",
       "      <td>11.37</td>\n",
       "    </tr>\n",
       "    <tr>\n",
       "      <th>2006-01-05</th>\n",
       "      <td>56.818069</td>\n",
       "      <td>89.538513</td>\n",
       "      <td>11.31</td>\n",
       "    </tr>\n",
       "    <tr>\n",
       "      <th>2006-01-06</th>\n",
       "      <td>56.688534</td>\n",
       "      <td>90.283630</td>\n",
       "      <td>11.00</td>\n",
       "    </tr>\n",
       "    <tr>\n",
       "      <th>2006-01-09</th>\n",
       "      <td>56.750458</td>\n",
       "      <td>90.515602</td>\n",
       "      <td>11.13</td>\n",
       "    </tr>\n",
       "  </tbody>\n",
       "</table>\n",
       "</div>"
      ],
      "text/plain": [
       "Ticker            AGG        SPY   ^VIX\n",
       "Date                                   \n",
       "2006-01-03  56.682934  89.060509  11.14\n",
       "2006-01-04  56.818069  89.482307  11.37\n",
       "2006-01-05  56.818069  89.538513  11.31\n",
       "2006-01-06  56.688534  90.283630  11.00\n",
       "2006-01-09  56.750458  90.515602  11.13"
      ]
     },
     "execution_count": 3,
     "metadata": {},
     "output_type": "execute_result"
    }
   ],
   "source": [
    "df_data.head()"
   ]
  },
  {
   "cell_type": "markdown",
   "id": "02be4b61-e56d-4812-a881-9777be678cd5",
   "metadata": {},
   "source": [
    "## Problem 1\n",
    "\n",
    "Calculate the log-returns for the for S&P 500 ETF (SPY) and Aggregate Bond ETF (AGG) using the Adj. closing prices. "
   ]
  },
  {
   "cell_type": "markdown",
   "id": "6a19ca9e-e84a-4ad9-b1ea-03552f4a6f84",
   "metadata": {},
   "source": [
    "## Problem 2\n",
    "\n",
    "Calculate the unconditional covariance and correlation matrix based on the full sample. "
   ]
  },
  {
   "cell_type": "markdown",
   "id": "b2b42513-0df2-43cd-aa88-e465fab16a03",
   "metadata": {},
   "source": [
    "## Problem 3\n",
    "\n",
    "Calculate the covariance matrix using scenario probabilities \n",
    "\n",
    "$$\n",
    "p_t \\propto \\left \\{\\begin{array}{ll} 1 & \\text{if } VIX_t \\geq 20 \\\\ 0 & \\text{if } VIX_t < 20 \\end{array} \\right .\n",
    "$$\n",
    "\n",
    "Plot the probabilities over time. \n",
    "\n",
    "Use the below function to calculate the probabilities. "
   ]
  },
  {
   "cell_type": "code",
   "execution_count": 4,
   "id": "e1e3ef60-e769-4a50-a839-be114a46b72c",
   "metadata": {},
   "outputs": [],
   "source": [
    "from typing import Tuple \n",
    "\n",
    "def crisp_conditioning_probs(x: np.typing.ArrayLike, condition: Tuple = (-np.inf, np.inf)) -> np.ndarray:\n",
    "    \"\"\"\n",
    "    Creates an array of crisp condition probabilities.\n",
    "\n",
    "    Currently only works for one state variable.\n",
    "\n",
    "    Parameters\n",
    "    ----------\n",
    "    x:\n",
    "        Array for setting the shape of.\n",
    "    condition:\n",
    "        Tuple with lower and upper bound.\n",
    "    axis:\n",
    "        The axis to create the weights over. Default is 0.\n",
    "\n",
    "    Returns\n",
    "    -------\n",
    "    ndarray\n",
    "        Array of equal weights.\n",
    "    \"\"\"\n",
    "\n",
    "    probs = (x >= condition[0]) & (x <= condition[1])\n",
    "    probs = probs / np.sum(probs)\n",
    "\n",
    "    return probs\n"
   ]
  },
  {
   "cell_type": "markdown",
   "id": "73af9b18-cc3e-400c-8391-828dc5d2c3aa",
   "metadata": {},
   "source": [
    "## Problem 5\n",
    "\n",
    "Calculate the conditional covariance and correlation matrix based on the full sample with the defined probabilities. You may want to use `numpy.cov` which has an argument `aweights` which together with `ddof=0` can be viewed as probabilities.  "
   ]
  }
 ],
 "metadata": {
  "kernelspec": {
   "display_name": "Python 3 (ipykernel)",
   "language": "python",
   "name": "python3"
  },
  "language_info": {
   "codemirror_mode": {
    "name": "ipython",
    "version": 3
   },
   "file_extension": ".py",
   "mimetype": "text/x-python",
   "name": "python",
   "nbconvert_exporter": "python",
   "pygments_lexer": "ipython3",
   "version": "3.11.9"
  }
 },
 "nbformat": 4,
 "nbformat_minor": 5
}
