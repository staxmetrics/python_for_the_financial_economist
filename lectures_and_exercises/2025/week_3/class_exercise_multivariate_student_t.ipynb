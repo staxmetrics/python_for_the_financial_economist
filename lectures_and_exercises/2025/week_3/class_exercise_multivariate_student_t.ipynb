{
 "cells": [
  {
   "cell_type": "markdown",
   "id": "5729489a",
   "metadata": {},
   "source": [
    "# Multivariate Student T distribution\n",
    "\n"
   ]
  },
  {
   "cell_type": "code",
   "execution_count": 26,
   "id": "c0c4e99c",
   "metadata": {},
   "outputs": [],
   "source": [
    "# import relevant packages\n",
    "import numpy as np\n",
    "import pandas as pd\n",
    "from scipy import stats\n",
    "import matplotlib.pyplot as plt"
   ]
  },
  {
   "cell_type": "markdown",
   "id": "cf0cf32e-6f11-492f-9f90-c8f4e084cc85",
   "metadata": {},
   "source": [
    "## Problem 1\n",
    "\n",
    "The multivariate Student T distribution $\\mathbf{X} \\sim t(\\boldsymbol{\\mu}, \\boldsymbol{\\Sigma}, \\nu)$ can be simulated using  [`scipy.stats.multivariate_t`](https://docs.scipy.org/doc/scipy/reference/generated/scipy.stats.multivariate_t.html#scipy.stats.multivariate_t) and has the density\n",
    "\n",
    "$$\n",
    "f_{\\mathbf{X}}({\\mathbf{x}})  = \\frac{\\Gamma\\left[(\\nu+p)/2\\right]}{\\Gamma(\\nu/2)\\nu^{p/2}\\pi^{p/2}\\left|{\\boldsymbol\\Sigma}\\right|^{1/2}}\\left[1+\\frac{1}{\\nu}({\\mathbf x}-{\\boldsymbol\\mu})^{\\rm T}{\\boldsymbol\\Sigma}^{-1}({\\mathbf x}-{\\boldsymbol\\mu})\\right]^{-(\\nu+p)/2}\n",
    "$$\n",
    "\n",
    "where $p$ is the length of the random vector, $\\nu$ is the degree of freedoms, $\\boldsymbol{\\mu}$ is a $p \\times 1$ vector and $\\boldsymbol{\\Sigma}$ is a $p \\times p$ positive definite matrix. \n",
    "\n",
    "The expected value is given by (if $\\nu > 1$)\n",
    "\n",
    "$$\n",
    "\\text{E} [\\mathbf{X}] = \\boldsymbol{\\mu}\n",
    "$$\n",
    "\n",
    "and the covariance matrix (if $\\nu > 2$)\n",
    "\n",
    "$$\n",
    "\\text{Cov} [\\mathbf{X}] = \\frac{\\nu}{\\nu - 2} \\boldsymbol{\\Sigma}\n",
    "$$\n",
    "\n",
    "Validate the formula for a bivariate multivariate t distribution with $\\boldsymbol{\\mu} = (0, 0)^\\top$, $\\boldsymbol{\\Sigma} = \\mathbb{I}_2$ and $\\nu = 10$ using simulation. Use at least 999 999 simulations. "
   ]
  },
  {
   "cell_type": "markdown",
   "id": "0bd6889e-d922-4e02-bd24-c343a1037e91",
   "metadata": {},
   "source": [
    "## Problem 2\n",
    "\n",
    "Consider the case with $p = 100$ with $\\boldsymbol{\\mu} = \\mathbf{0}$ and $\\boldsymbol{\\Sigma} = \\mathbb{I}_p$. \n",
    "\n",
    "Verify using simulations that $\\sum_{i=1}^p X_i = \\mathbf{1}^\\top \\mathbf{X} \\sim t(0, p, \\nu)$. "
   ]
  },
  {
   "cell_type": "markdown",
   "id": "7da85546-fa0d-4ad0-8840-4c0f5627c1a8",
   "metadata": {},
   "source": [
    "## Problem 3\n",
    "\n",
    "For the above cases the marginal distribution will be $X_i \\sim t(0, 1, \\nu)$. Verify that uncorrelated Student t distributed variables cannot be independent by simulating $\\sum_{i=1}^p Y_i$ with $Y_i \\sim t(0, 1, \\nu)$ and comparing the histogram with the theoretical distribution derived above. Additionally, try to add the pdf of a $N(0, p \\frac{\\nu}{\\nu - 2})$ random variable. "
   ]
  }
 ],
 "metadata": {
  "kernelspec": {
   "display_name": "Python 3 (ipykernel)",
   "language": "python",
   "name": "python3"
  },
  "language_info": {
   "codemirror_mode": {
    "name": "ipython",
    "version": 3
   },
   "file_extension": ".py",
   "mimetype": "text/x-python",
   "name": "python",
   "nbconvert_exporter": "python",
   "pygments_lexer": "ipython3",
   "version": "3.11.9"
  }
 },
 "nbformat": 4,
 "nbformat_minor": 5
}
