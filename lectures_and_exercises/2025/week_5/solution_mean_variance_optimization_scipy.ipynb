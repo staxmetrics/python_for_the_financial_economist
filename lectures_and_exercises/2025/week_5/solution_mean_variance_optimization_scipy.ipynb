{
 "cells": [
  {
   "cell_type": "markdown",
   "id": "5729489a",
   "metadata": {},
   "source": [
    "# Mean Variance Optimization with Scipy"
   ]
  },
  {
   "cell_type": "code",
   "execution_count": 1,
   "id": "c0c4e99c",
   "metadata": {
    "ExecuteTime": {
     "end_time": "2025-09-27T16:45:19.220055Z",
     "start_time": "2025-09-27T16:45:19.186227Z"
    }
   },
   "outputs": [],
   "source": [
    "import sys\n",
    "sys.path.insert(0,'C:\\\\code\\\\python_for_the_financial_economist\\\\')\n",
    "\n",
    "# import relevant packages\n",
    "import numpy as np\n",
    "import pandas as pd\n",
    "from scipy import stats, optimize\n",
    "import matplotlib.pyplot as plt\n",
    "\n",
    "# own functions from codelib\n",
    "from codelib.statistics import moments as mom\n",
    "from codelib.portfolio_optimization.mean_variance import portfolio_mean, portfolio_std, portfolio_variance, minimum_variance_portfolio\n",
    "\n",
    "from codelib.visualization.layout import DefaultStyle\n",
    "DefaultStyle();"
   ]
  },
  {
   "cell_type": "markdown",
   "id": "61b1bfca-6cb1-4c35-aa37-b44e034852aa",
   "metadata": {},
   "source": [
    "Consider the portfolio optimization problem \n",
    "\n",
    "\n",
    "where the expected return vector is given by \n",
    "\n",
    "$$\n",
    "\\boldsymbol{\\mu} = \\begin{pmatrix} 0.032 \\\\ 0.0322 \\\\ 0.084 \\\\ 0.082 \\end{pmatrix},\n",
    "$$\n",
    "\n",
    "the vector of volatilites is given by \n",
    "\n",
    "$$\n",
    "\\mathbf{v} = \\begin{pmatrix} 0.05 \\\\ 0.05 \\\\ 0.22 \\\\ 0.22 \\end{pmatrix},\n",
    "$$\n",
    "\n",
    "and the correlation matrix is given by \n",
    "\n",
    "$$\n",
    "\\mathbf{C} = \\begin{pmatrix} 1.0 & 0.85 & 0.5 & 0.45 \\\\\n",
    "                      0.85 & 1.0 & 0.5 & 0.45 \\\\\n",
    "                      0.5 & 0.5 & 1.0 & 0.9 \\\\\n",
    "                      0.45 & 0.45 & 0.9 & 1.0 \\end{pmatrix}\n",
    "$$"
   ]
  },
  {
   "cell_type": "code",
   "execution_count": 2,
   "id": "af980dca-9292-4cf9-b27a-037b80b04f63",
   "metadata": {
    "ExecuteTime": {
     "end_time": "2025-09-27T16:45:19.412873Z",
     "start_time": "2025-09-27T16:45:19.407480Z"
    }
   },
   "outputs": [],
   "source": [
    "corr_mat = np.array([[1.0, 0.85, 0.5, 0.45],\n",
    "                     [0.85, 1.0, 0.5, 0.45],\n",
    "                     [0.5, 0.5, 1.0, 0.9],\n",
    "                     [0.45, 0.45, 0.9, 1.0]])\n",
    "\n",
    "vols = np.array([5.0, 5.0, 22.0, 22.0]) / 100.0\n",
    "mu = np.array([3.2, 3.22, 8.4, 8.2]) / 100.0\n",
    "\n",
    "cov_mat = mom.corr_to_cov_matrix(corr_mat, vols)"
   ]
  },
  {
   "cell_type": "markdown",
   "id": "0e098073-5124-47f5-b332-5cfa2d07b0dd",
   "metadata": {},
   "source": [
    "## Problem 1\n",
    "\n",
    "Set up the minimization problem that enable you to find the minimum variance portfolio using `scipy.optimize`. Apply a budget constraint requiring the portfolio weights to sum to one. Compare with the analytical solution. \n",
    "\n",
    "### Solution\n",
    "\n",
    "We have the minimization problem \n",
    "\n",
    "$$\n",
    "\\mathbf{w}^{Min-Var} = \\arg \\min \\mathbf{w}^\\top \\boldsymbol{\\Sigma} \\mathbf{w} \\; \\; \\text{st. } \\mathbf{1}^\\top \\mathbf{w} = 1\n",
    "$$\n",
    "\n",
    "The analytical solution is given by \n",
    "\n",
    "$$\n",
    "\\mathbf{w}^{Min-Var} = \\frac{\\boldsymbol{\\Sigma}^{-1} \\mathbf{1}}{\\mathbf{1}^\\top \\boldsymbol{\\Sigma}^{-1} \\mathbf{1}}\n",
    "$$"
   ]
  },
  {
   "cell_type": "code",
   "execution_count": 3,
   "id": "c16ee5c0-70ac-4c62-842f-c83abf9b6fcc",
   "metadata": {
    "ExecuteTime": {
     "end_time": "2025-09-27T16:45:19.524194Z",
     "start_time": "2025-09-27T16:45:19.435395Z"
    }
   },
   "outputs": [
    {
     "name": "stdout",
     "output_type": "stream",
     "text": [
      "Optimization terminated successfully    (Exit mode 0)\n",
      "            Current function value: 0.0020520678369532882\n",
      "            Iterations: 8\n",
      "            Function evaluations: 8\n",
      "            Gradient evaluations: 8\n"
     ]
    },
    {
     "data": {
      "text/plain": [
       "     message: Optimization terminated successfully\n",
       "     success: True\n",
       "      status: 0\n",
       "         fun: 0.0020520678369532882\n",
       "           x: [ 5.389e-01  5.389e-01 -1.002e-01  2.231e-02]\n",
       "         nit: 8\n",
       "         jac: [ 4.104e-03  4.104e-03  4.104e-03  4.104e-03]\n",
       "        nfev: 8\n",
       "        njev: 8\n",
       " multipliers: [ 4.104e-03]"
      ]
     },
     "execution_count": 3,
     "metadata": {},
     "output_type": "execute_result"
    }
   ],
   "source": [
    "\"\"\"\n",
    "Solving with scipy\n",
    "\"\"\"\n",
    "\n",
    "# define sum to one constraint\n",
    "sum_to_one_cons = {'type': 'eq',\n",
    "                   'fun' : lambda x: np.sum(x) - 1.0, \n",
    "                   'jac' : lambda x: np.ones_like(x)} \n",
    "\n",
    "# define initial guess \n",
    "x0 = np.ones_like(mu) / len(mu)\n",
    "\n",
    "# define Jacobian \n",
    "port_var_der = lambda w, cov_mat: 2 * w @ cov_mat\n",
    "\n",
    "\n",
    "res = optimize.minimize(portfolio_variance, x0=x0, args=(cov_mat,),\n",
    "                        method='SLSQP',\n",
    "                        jac=port_var_der,\n",
    "                        constraints=[sum_to_one_cons],  # no_short_cons,\n",
    "                        options={'ftol': 1e-9, 'disp': True}) #, bounds=bounds)\n",
    "\n",
    "w_min_var_opt = res.x\n",
    "\n",
    "# show results\n",
    "res"
   ]
  },
  {
   "cell_type": "code",
   "execution_count": 4,
   "id": "f7617ddd-8a80-4f34-a781-bd20563c65eb",
   "metadata": {
    "ExecuteTime": {
     "end_time": "2025-09-27T16:45:19.548871Z",
     "start_time": "2025-09-27T16:45:19.539484Z"
    }
   },
   "outputs": [
    {
     "name": "stdout",
     "output_type": "stream",
     "text": [
      "Optimization terminated successfully    (Exit mode 0)\n",
      "            Current function value: 0.0020520678369532917\n",
      "            Iterations: 8\n",
      "            Function evaluations: 40\n",
      "            Gradient evaluations: 8\n"
     ]
    },
    {
     "data": {
      "text/plain": [
       "     message: Optimization terminated successfully\n",
       "     success: True\n",
       "      status: 0\n",
       "         fun: 0.0020520678369532917\n",
       "           x: [ 5.389e-01  5.389e-01 -1.002e-01  2.231e-02]\n",
       "         nit: 8\n",
       "         jac: [ 4.104e-03  4.104e-03  4.104e-03  4.104e-03]\n",
       "        nfev: 40\n",
       "        njev: 8\n",
       " multipliers: [ 4.104e-03]"
      ]
     },
     "execution_count": 4,
     "metadata": {},
     "output_type": "execute_result"
    }
   ],
   "source": [
    "\"\"\"\n",
    "Solving with scipy - not providing gradient information\n",
    "\"\"\"\n",
    "\n",
    "# define sum to one constraint\n",
    "sum_to_one_cons = {'type': 'eq',\n",
    "                   'fun' : lambda x: np.sum(x) - 1.0} \n",
    "\n",
    "# define initial guess \n",
    "x0 = np.ones_like(mu) / len(mu)\n",
    "\n",
    "res = optimize.minimize(portfolio_variance, x0=x0, args=(cov_mat,),\n",
    "                        method='SLSQP',\n",
    "                        constraints=[sum_to_one_cons],  # no_short_cons,\n",
    "                        options={'ftol': 1e-9, 'disp': True}) #, bounds=bounds)\n",
    "\n",
    "w_min_var_opt = res.x\n",
    "\n",
    "# show results\n",
    "res"
   ]
  },
  {
   "cell_type": "code",
   "execution_count": 5,
   "id": "555cd2a6-6ee5-4bea-a5dc-2dc9173ad9f6",
   "metadata": {
    "ExecuteTime": {
     "end_time": "2025-09-27T16:45:19.604639Z",
     "start_time": "2025-09-27T16:45:19.599743Z"
    }
   },
   "outputs": [
    {
     "data": {
      "text/plain": [
       "array([ 0.53892691,  0.53892691, -0.10016861,  0.02231479])"
      ]
     },
     "execution_count": 5,
     "metadata": {},
     "output_type": "execute_result"
    }
   ],
   "source": [
    "w_min_var_opt"
   ]
  },
  {
   "cell_type": "code",
   "execution_count": 6,
   "id": "8e3ff034-b11b-446c-b995-a6d6f70f162c",
   "metadata": {
    "ExecuteTime": {
     "end_time": "2025-09-27T16:45:19.659369Z",
     "start_time": "2025-09-27T16:45:19.653325Z"
    }
   },
   "outputs": [
    {
     "data": {
      "text/plain": [
       "array([ 0.53892691,  0.53892691, -0.1001686 ,  0.02231479])"
      ]
     },
     "execution_count": 6,
     "metadata": {},
     "output_type": "execute_result"
    }
   ],
   "source": [
    "minimum_variance_portfolio(cov_mat)"
   ]
  },
  {
   "cell_type": "markdown",
   "id": "20ca35b5-26f2-4ff0-ae68-f1cb059188f1",
   "metadata": {},
   "source": [
    "## Problem 2\n",
    "\n",
    "Minimize the portfolio variance subject to the constraints that \n",
    "\n",
    "* The expected return should be above 6%\n",
    "* No shorting (all weights should be equal or greater than 0)\n",
    "* The portfolio weights need to sum to one (budget constraint)\n",
    "\n",
    "### Solution"
   ]
  },
  {
   "cell_type": "code",
   "execution_count": 7,
   "id": "15f29c10-03e0-455e-83ae-93aa0e9ec8c7",
   "metadata": {
    "ExecuteTime": {
     "end_time": "2025-09-27T16:45:19.718654Z",
     "start_time": "2025-09-27T16:45:19.703916Z"
    }
   },
   "outputs": [
    {
     "name": "stdout",
     "output_type": "stream",
     "text": [
      "Optimization terminated successfully    (Exit mode 0)\n",
      "            Current function value: 0.01681639651655581\n",
      "            Iterations: 12\n",
      "            Function evaluations: 12\n",
      "            Gradient evaluations: 12\n"
     ]
    },
    {
     "data": {
      "text/plain": [
       "     message: Optimization terminated successfully\n",
       "     success: True\n",
       "      status: 0\n",
       "         fun: 0.01681639651655581\n",
       "           x: [ 1.044e-01  3.506e-01  3.420e-01  2.029e-01]\n",
       "         nit: 12\n",
       "         jac: [ 7.783e-03  7.968e-03  5.579e-02  5.394e-02]\n",
       "        nfev: 12\n",
       "        njev: 12\n",
       " multipliers: [-2.176e-02  0.000e+00  0.000e+00  0.000e+00  0.000e+00\n",
       "                9.232e-01]"
      ]
     },
     "execution_count": 7,
     "metadata": {},
     "output_type": "execute_result"
    }
   ],
   "source": [
    "# budget constraint \n",
    "sum_to_one_cons = {'type': 'eq',\n",
    "                   'fun' : lambda x: np.sum(x) - 1.0, \n",
    "                   'jac' : lambda x: np.ones_like(x)}\n",
    "\n",
    "# not shorting constraint\n",
    "no_short_cons = {'type': 'ineq',\n",
    "                 'fun' : lambda x: x,\n",
    "                 'jac' : lambda x: np.eye(len(x))}\n",
    "\n",
    "# alternatively use \n",
    "bounds = [(0.0, 1.0)] * len(mu)\n",
    "\n",
    "# define return constraint \n",
    "target_cons = {'type': 'ineq',\n",
    "               'fun' : lambda x: x @ mu - 0.06,\n",
    "               'jac' : lambda x: mu}\n",
    "\n",
    "port_var_der = lambda w, cov_mat: 2 * w @ cov_mat\n",
    "\n",
    "\n",
    "x0 = np.ones_like(mu) / len(mu)\n",
    "res = optimize.minimize(portfolio_variance, x0=x0, args=(cov_mat,),\n",
    "                        method='SLSQP',\n",
    "                        jac=port_var_der,\n",
    "                        constraints=[sum_to_one_cons,\n",
    "                                     no_short_cons, \n",
    "                                     target_cons],  # no_short_cons,\n",
    "                        options={'ftol': 1e-9, 'disp': True}) #, bounds=bounds)\n",
    "\n",
    "w_mean_var_opt = res.x\n",
    "\n",
    "res"
   ]
  },
  {
   "cell_type": "code",
   "execution_count": 8,
   "id": "82bb749a-e3dd-4129-92d3-a3007fc5539c",
   "metadata": {
    "ExecuteTime": {
     "end_time": "2025-09-27T16:45:19.809380Z",
     "start_time": "2025-09-27T16:45:19.803118Z"
    }
   },
   "outputs": [
    {
     "data": {
      "text/plain": [
       "array([0.10444791, 0.35063358, 0.34197387, 0.20294464])"
      ]
     },
     "execution_count": 8,
     "metadata": {},
     "output_type": "execute_result"
    }
   ],
   "source": [
    "w_mean_var_opt"
   ]
  }
 ],
 "metadata": {
  "kernelspec": {
   "display_name": "Python 3 (ipykernel)",
   "language": "python",
   "name": "python3"
  },
  "language_info": {
   "codemirror_mode": {
    "name": "ipython",
    "version": 3
   },
   "file_extension": ".py",
   "mimetype": "text/x-python",
   "name": "python",
   "nbconvert_exporter": "python",
   "pygments_lexer": "ipython3",
   "version": "3.13.5"
  }
 },
 "nbformat": 4,
 "nbformat_minor": 5
}
