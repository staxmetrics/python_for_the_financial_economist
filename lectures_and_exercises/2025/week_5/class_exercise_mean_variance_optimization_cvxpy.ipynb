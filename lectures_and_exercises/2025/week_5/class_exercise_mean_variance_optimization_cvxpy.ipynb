{
 "cells": [
  {
   "cell_type": "markdown",
   "id": "5729489a",
   "metadata": {},
   "source": [
    "# Mean Variance Optimization with CVXOPT and CVXPY"
   ]
  },
  {
   "cell_type": "code",
   "execution_count": 3,
   "id": "c0c4e99c",
   "metadata": {},
   "outputs": [],
   "source": [
    "import sys\n",
    "sys.path.insert(0,'C:\\\\code\\\\python_for_the_financial_economist\\\\')\n",
    "\n",
    "# import relevant packages\n",
    "import numpy as np\n",
    "import pandas as pd\n",
    "from scipy import stats, optimize\n",
    "import matplotlib.pyplot as plt\n",
    "\n",
    "# packages for convex optimization\n",
    "import cvxpy as cp\n",
    "import cvxopt\n",
    "\n",
    "# own functions from codelib\n",
    "from codelib.statistics import moments as mom\n",
    "from codelib.portfolio_optimization.mean_variance import portfolio_mean, portfolio_std, portfolio_variance, minimum_variance_portfolio\n",
    "\n",
    "from codelib.visualization.layout import DefaultStyle\n",
    "DefaultStyle();"
   ]
  },
  {
   "cell_type": "markdown",
   "id": "61b1bfca-6cb1-4c35-aa37-b44e034852aa",
   "metadata": {},
   "source": [
    "Consider the portfolio optimization problem \n",
    "\n",
    "\n",
    "where the expected return vector is given by \n",
    "\n",
    "$$\n",
    "\\boldsymbol{\\mu} = \\begin{pmatrix} 0.032 \\\\ 0.0322 \\\\ 0.084 \\\\ 0.082 \\end{pmatrix},\n",
    "$$\n",
    "\n",
    "the vector of volatilites is given by \n",
    "\n",
    "$$\n",
    "\\mathbf{v} = \\begin{pmatrix} 0.05 \\\\ 0.05 \\\\ 0.22 \\\\ 0.22 \\end{pmatrix},\n",
    "$$\n",
    "\n",
    "and the correlation matrix is given by \n",
    "\n",
    "$$\n",
    "\\mathbf{C} = \\begin{pmatrix} 1.0 & 0.85 & 0.5 & 0.45 \\\\\n",
    "                      0.85 & 1.0 & 0.5 & 0.45 \\\\\n",
    "                      0.5 & 0.5 & 1.0 & 0.9 \\\\\n",
    "                      0.45 & 0.45 & 0.9 & 1.0 \\end{pmatrix}\n",
    "$$"
   ]
  },
  {
   "cell_type": "code",
   "execution_count": 4,
   "id": "af980dca-9292-4cf9-b27a-037b80b04f63",
   "metadata": {},
   "outputs": [],
   "source": [
    "corr_mat = np.array([[1.0, 0.85, 0.5, 0.45],\n",
    "                     [0.85, 1.0, 0.5, 0.45],\n",
    "                     [0.5, 0.5, 1.0, 0.9],\n",
    "                     [0.45, 0.45, 0.9, 1.0]])\n",
    "\n",
    "vols = np.array([5.0, 5.0, 22.0, 22.0]) / 100.0\n",
    "mu = np.array([3.2, 3.22, 8.4, 8.2]) / 100.0\n",
    "\n",
    "cov_mat = mom.corr_to_cov_matrix(corr_mat, vols)"
   ]
  },
  {
   "cell_type": "markdown",
   "id": "0e098073-5124-47f5-b332-5cfa2d07b0dd",
   "metadata": {},
   "source": [
    "## Problem 1\n",
    "\n",
    "Set up the minimization problem that enable you to find the minimum variance portfolio using both `cvxopt` and `cvxpy`. Apply a budget constraint requiring the portfolio weights to sum to one. Compare with the analytical solution. "
   ]
  },
  {
   "cell_type": "markdown",
   "id": "20ca35b5-26f2-4ff0-ae68-f1cb059188f1",
   "metadata": {},
   "source": [
    "## Problem 2\n",
    "\n",
    "Minimize the portfolio variance subject to the constraints that using the `CVXPY` or `CVXOPT` package. \n",
    "\n",
    "* The expected return should be above 6%\n",
    "* No shorting (all weights should be equal or greater than 0)\n",
    "* The portfolio weights need to sum to one (budget constraint)"
   ]
  }
 ],
 "metadata": {
  "kernelspec": {
   "display_name": "Python 3 (ipykernel)",
   "language": "python",
   "name": "python3"
  },
  "language_info": {
   "codemirror_mode": {
    "name": "ipython",
    "version": 3
   },
   "file_extension": ".py",
   "mimetype": "text/x-python",
   "name": "python",
   "nbconvert_exporter": "python",
   "pygments_lexer": "ipython3",
   "version": "3.11.9"
  }
 },
 "nbformat": 4,
 "nbformat_minor": 5
}
