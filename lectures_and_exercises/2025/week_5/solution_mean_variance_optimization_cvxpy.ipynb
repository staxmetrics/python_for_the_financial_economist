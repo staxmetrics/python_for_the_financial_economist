{
 "cells": [
  {
   "cell_type": "markdown",
   "id": "5729489a",
   "metadata": {},
   "source": [
    "# Mean Variance Optimization with CVXOPT and CVXPY"
   ]
  },
  {
   "cell_type": "code",
   "id": "c0c4e99c",
   "metadata": {
    "ExecuteTime": {
     "end_time": "2025-09-27T16:44:21.876022Z",
     "start_time": "2025-09-27T16:44:20.158732Z"
    }
   },
   "source": [
    "import sys\n",
    "sys.path.insert(0,'C:\\\\code\\\\python_for_the_financial_economist\\\\')\n",
    "\n",
    "# import relevant packages\n",
    "import numpy as np\n",
    "import pandas as pd\n",
    "from scipy import stats, optimize\n",
    "import matplotlib.pyplot as plt\n",
    "\n",
    "# packages for convex optimization\n",
    "import cvxpy as cp\n",
    "import cvxopt\n",
    "\n",
    "# own functions from codelib\n",
    "from codelib.statistics import moments as mom\n",
    "from codelib.portfolio_optimization.mean_variance import portfolio_mean, portfolio_std, portfolio_variance, minimum_variance_portfolio\n",
    "\n",
    "from codelib.visualization.layout import DefaultStyle\n",
    "DefaultStyle();"
   ],
   "outputs": [],
   "execution_count": 1
  },
  {
   "cell_type": "markdown",
   "id": "61b1bfca-6cb1-4c35-aa37-b44e034852aa",
   "metadata": {},
   "source": [
    "Consider the portfolio optimization problem \n",
    "\n",
    "\n",
    "where the expected return vector is given by \n",
    "\n",
    "$$\n",
    "\\boldsymbol{\\mu} = \\begin{pmatrix} 0.032 \\\\ 0.0322 \\\\ 0.084 \\\\ 0.082 \\end{pmatrix},\n",
    "$$\n",
    "\n",
    "the vector of volatilites is given by \n",
    "\n",
    "$$\n",
    "\\mathbf{v} = \\begin{pmatrix} 0.05 \\\\ 0.05 \\\\ 0.22 \\\\ 0.22 \\end{pmatrix},\n",
    "$$\n",
    "\n",
    "and the correlation matrix is given by \n",
    "\n",
    "$$\n",
    "\\mathbf{C} = \\begin{pmatrix} 1.0 & 0.85 & 0.5 & 0.45 \\\\\n",
    "                      0.85 & 1.0 & 0.5 & 0.45 \\\\\n",
    "                      0.5 & 0.5 & 1.0 & 0.9 \\\\\n",
    "                      0.45 & 0.45 & 0.9 & 1.0 \\end{pmatrix}\n",
    "$$"
   ]
  },
  {
   "cell_type": "code",
   "id": "af980dca-9292-4cf9-b27a-037b80b04f63",
   "metadata": {
    "ExecuteTime": {
     "end_time": "2025-09-27T16:44:21.896199Z",
     "start_time": "2025-09-27T16:44:21.891397Z"
    }
   },
   "source": [
    "corr_mat = np.array([[1.0, 0.85, 0.5, 0.45],\n",
    "                     [0.85, 1.0, 0.5, 0.45],\n",
    "                     [0.5, 0.5, 1.0, 0.9],\n",
    "                     [0.45, 0.45, 0.9, 1.0]])\n",
    "\n",
    "vols = np.array([5.0, 5.0, 22.0, 22.0]) / 100.0\n",
    "mu = np.array([3.2, 3.22, 8.4, 8.2]) / 100.0\n",
    "\n",
    "cov_mat = mom.corr_to_cov_matrix(corr_mat, vols)"
   ],
   "outputs": [],
   "execution_count": 2
  },
  {
   "cell_type": "markdown",
   "id": "0e098073-5124-47f5-b332-5cfa2d07b0dd",
   "metadata": {},
   "source": [
    "## Problem 1\n",
    "\n",
    "Set up the minimization problem that enable you to find the minimum variance portfolio using both `cvxopt` and `cvxpy`. Apply a budget constraint requiring the portfolio weights to sum to one. Compare with the analytical solution. \n",
    "\n",
    "### Solution\n",
    "\n",
    "We have the minimization problem \n",
    "\n",
    "$$\n",
    "\\mathbf{w}^{Min-Var} = \\arg \\min \\mathbf{w}^\\top \\boldsymbol{\\Sigma} \\mathbf{w} \\; \\; \\text{st. } \\mathbf{1}^\\top \\mathbf{w} = 1\n",
    "$$\n",
    "\n",
    "The analytical solution is given by \n",
    "\n",
    "$$\n",
    "\\mathbf{w}^{Min-Var} = \\frac{\\boldsymbol{\\Sigma}^{-1} \\mathbf{1}}{\\mathbf{1}^\\top \\boldsymbol{\\Sigma}^{-1} \\mathbf{1}}\n",
    "$$"
   ]
  },
  {
   "cell_type": "code",
   "id": "7d412621-62e8-4b71-8718-29fa48a012a1",
   "metadata": {
    "ExecuteTime": {
     "end_time": "2025-09-27T16:44:21.908808Z",
     "start_time": "2025-09-27T16:44:21.905332Z"
    }
   },
   "source": [
    "# number of assets\n",
    "num_assets = len(mu)"
   ],
   "outputs": [],
   "execution_count": 3
  },
  {
   "cell_type": "code",
   "id": "ed28ccca-221a-43d5-a73c-ba635e474eba",
   "metadata": {
    "ExecuteTime": {
     "end_time": "2025-09-27T16:44:22.354521Z",
     "start_time": "2025-09-27T16:44:22.308221Z"
    }
   },
   "source": [
    "\"\"\"\n",
    "Solving with CVXOPT\n",
    "\"\"\"\n",
    "\n",
    "P = cvxopt.matrix(cov_mat) #<- we need to minimize\n",
    "q = cvxopt.matrix(np.zeros(num_assets)) \n",
    "A = cvxopt.matrix([[1.0, 1.0, 1.0, 1.0]]).T\n",
    "b = cvxopt.matrix([1.0])\n",
    "\n",
    "# solve problem \n",
    "sol = cvxopt.solvers.qp(P, q, A=A, b=b)\n",
    "\n",
    "# solution \n",
    "np.array(sol['x']) # <- gives the same solution as the analytical formula"
   ],
   "outputs": [
    {
     "data": {
      "text/plain": [
       "array([[ 0.53892691],\n",
       "       [ 0.53892691],\n",
       "       [-0.1001686 ],\n",
       "       [ 0.02231479]])"
      ]
     },
     "execution_count": 4,
     "metadata": {},
     "output_type": "execute_result"
    }
   ],
   "execution_count": 4
  },
  {
   "cell_type": "code",
   "id": "5e9729d8-d3af-4837-9626-e01f8a15d719",
   "metadata": {
    "ExecuteTime": {
     "end_time": "2025-09-27T16:44:22.491383Z",
     "start_time": "2025-09-27T16:44:22.437142Z"
    }
   },
   "source": [
    "\"\"\"\n",
    "Solving with CVXPY\n",
    "\"\"\"\n",
    "\n",
    "# define variables\n",
    "P = cov_mat\n",
    "A = np.ones(num_assets)\n",
    "b = 1.0\n",
    "\n",
    "\n",
    "# define problem \n",
    "x = cp.Variable(num_assets)\n",
    "prob = cp.Problem(cp.Minimize(cp.quad_form(x, P)),\n",
    "                  constraints=[cp.sum(x) == 1]) # cp.sum(x) == 1 or  A @ x == b\n",
    "\n",
    "# solve problem\n",
    "prob.solve()\n",
    "\n",
    "# solution \n",
    "x.value # <- gives the same solution as the analytical formula"
   ],
   "outputs": [
    {
     "data": {
      "text/plain": [
       "array([ 0.53892691,  0.53892691, -0.1001686 ,  0.02231479])"
      ]
     },
     "execution_count": 5,
     "metadata": {},
     "output_type": "execute_result"
    }
   ],
   "execution_count": 5
  },
  {
   "cell_type": "code",
   "id": "8e3ff034-b11b-446c-b995-a6d6f70f162c",
   "metadata": {
    "ExecuteTime": {
     "end_time": "2025-09-27T16:44:22.581963Z",
     "start_time": "2025-09-27T16:44:22.569191Z"
    }
   },
   "source": [
    "\"\"\"\n",
    "Solving analytically\n",
    "\"\"\"\n",
    "\n",
    "minimum_variance_portfolio(cov_mat)"
   ],
   "outputs": [
    {
     "data": {
      "text/plain": [
       "array([ 0.53892691,  0.53892691, -0.1001686 ,  0.02231479])"
      ]
     },
     "execution_count": 6,
     "metadata": {},
     "output_type": "execute_result"
    }
   ],
   "execution_count": 6
  },
  {
   "cell_type": "markdown",
   "id": "20ca35b5-26f2-4ff0-ae68-f1cb059188f1",
   "metadata": {},
   "source": [
    "## Problem 2\n",
    "\n",
    "Minimize the portfolio variance subject to the constraints that using the `CVXPY` or `CVXOPT` package. \n",
    "\n",
    "* The expected return should be above 6%\n",
    "* No shorting (all weights should be equal or greater than 0)\n",
    "* The portfolio weights need to sum to one (budget constraint)\n",
    "\n",
    "### Solution"
   ]
  },
  {
   "cell_type": "code",
   "id": "a5a8bee9-b158-44f2-87bc-2d527cff9488",
   "metadata": {
    "ExecuteTime": {
     "end_time": "2025-09-27T16:44:22.707243Z",
     "start_time": "2025-09-27T16:44:22.673886Z"
    }
   },
   "source": [
    "\"\"\"\n",
    "Solving with CVXOPT\n",
    "\"\"\"\n",
    "\n",
    "# objectiv function\n",
    "P = cvxopt.matrix(cov_mat) #<- we need to minimize\n",
    "q = cvxopt.matrix(np.zeros(num_assets)) \n",
    "# equality constraint\n",
    "A = cvxopt.matrix([[1.0, 1.0, 1.0, 1.0]]).T\n",
    "b = cvxopt.matrix([1.0])\n",
    "# inequality constraints\n",
    "G = cvxopt.matrix(np.vstack((-np.eye(num_assets),\n",
    "                             -mu)))\n",
    "h = cvxopt.matrix(np.r_[np.zeros(num_assets), -0.06])\n",
    "\n",
    "# solve problem \n",
    "sol = cvxopt.solvers.qp(P, q, A=A, b=b, G=G, h=h)\n",
    "\n",
    "# solution \n",
    "np.array(sol['x']) # <- gives the same solution as the analytical formula\n"
   ],
   "outputs": [
    {
     "name": "stdout",
     "output_type": "stream",
     "text": [
      "     pcost       dcost       gap    pres   dres\n",
      " 0:  6.8954e-03 -9.9866e-01  6e+00  2e+00  3e+00\n",
      " 1:  7.8252e-03 -6.4361e-01  7e-01  3e-02  3e-02\n",
      " 2:  8.5319e-03 -1.8427e-02  3e-02  1e-03  1e-03\n",
      " 3:  8.5500e-03  7.6858e-03  9e-04  3e-05  4e-05\n",
      " 4:  8.4181e-03  8.3773e-03  4e-05  1e-06  1e-06\n",
      " 5:  8.4086e-03  8.4056e-03  3e-06  1e-16  1e-15\n",
      " 6:  8.4082e-03  8.4081e-03  1e-07  1e-16  2e-14\n",
      " 7:  8.4082e-03  8.4082e-03  1e-09  6e-17  4e-14\n",
      "Optimal solution found.\n"
     ]
    },
    {
     "data": {
      "text/plain": [
       "array([[0.10446003],\n",
       "       [0.35062141],\n",
       "       [0.34197392],\n",
       "       [0.20294464]])"
      ]
     },
     "execution_count": 7,
     "metadata": {},
     "output_type": "execute_result"
    }
   ],
   "execution_count": 7
  },
  {
   "cell_type": "code",
   "id": "edecf842-d4e0-4a67-af3c-255cc341a579",
   "metadata": {
    "ExecuteTime": {
     "end_time": "2025-09-27T16:44:22.864464Z",
     "start_time": "2025-09-27T16:44:22.842877Z"
    }
   },
   "source": [
    "\"\"\"\n",
    "Solving with CVXPY\n",
    "\"\"\"\n",
    "\n",
    "# define variables\n",
    "P = cov_mat\n",
    "A = np.ones(num_assets)\n",
    "b = 1.0\n",
    "\n",
    "\n",
    "# define problem \n",
    "x = cp.Variable(num_assets)\n",
    "prob = cp.Problem(cp.Minimize(cp.quad_form(x, P)),\n",
    "                  constraints=[cp.sum(x) == 1, \n",
    "                               x @ mu >= 0.06,\n",
    "                               x >= 0])\n",
    "# solve problem\n",
    "prob.solve()\n",
    "\n",
    "# solution \n",
    "x.value # <- gives the same solution as the analytical formula"
   ],
   "outputs": [
    {
     "data": {
      "text/plain": [
       "array([0.10444791, 0.35063358, 0.34197387, 0.20294464])"
      ]
     },
     "execution_count": 8,
     "metadata": {},
     "output_type": "execute_result"
    }
   ],
   "execution_count": 8
  }
 ],
 "metadata": {
  "kernelspec": {
   "display_name": "Python 3 (ipykernel)",
   "language": "python",
   "name": "python3"
  },
  "language_info": {
   "codemirror_mode": {
    "name": "ipython",
    "version": 3
   },
   "file_extension": ".py",
   "mimetype": "text/x-python",
   "name": "python",
   "nbconvert_exporter": "python",
   "pygments_lexer": "ipython3",
   "version": "3.11.9"
  }
 },
 "nbformat": 4,
 "nbformat_minor": 5
}
