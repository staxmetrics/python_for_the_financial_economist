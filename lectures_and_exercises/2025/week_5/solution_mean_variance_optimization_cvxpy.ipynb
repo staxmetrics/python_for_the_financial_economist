{
 "cells": [
  {
   "cell_type": "markdown",
   "id": "5729489a",
   "metadata": {},
   "source": [
    "# Mean Variance Optimization with CVXOPT and CVXPY"
   ]
  },
  {
   "cell_type": "code",
   "execution_count": 1,
   "id": "c0c4e99c",
   "metadata": {
    "ExecuteTime": {
     "end_time": "2025-09-27T16:44:21.876022Z",
     "start_time": "2025-09-27T16:44:20.158732Z"
    }
   },
   "outputs": [],
   "source": [
    "import sys\n",
    "sys.path.insert(0,'C:\\\\code\\\\python_for_the_financial_economist\\\\')\n",
    "\n",
    "# import relevant packages\n",
    "import numpy as np\n",
    "import pandas as pd\n",
    "from scipy import stats, optimize\n",
    "import matplotlib.pyplot as plt\n",
    "\n",
    "# packages for convex optimization\n",
    "import cvxpy as cp\n",
    "import cvxopt\n",
    "\n",
    "# own functions from codelib\n",
    "from codelib.statistics import moments as mom\n",
    "from codelib.portfolio_optimization.mean_variance import portfolio_mean, portfolio_std, portfolio_variance, minimum_variance_portfolio\n",
    "\n",
    "from codelib.visualization.layout import DefaultStyle\n",
    "DefaultStyle();"
   ]
  },
  {
   "cell_type": "markdown",
   "id": "61b1bfca-6cb1-4c35-aa37-b44e034852aa",
   "metadata": {},
   "source": [
    "Consider the portfolio optimization problem \n",
    "\n",
    "$$\n",
    "\\arg \\min \\mathbf{w}^\\top \\boldsymbol{\\Sigma} \\mathbf{w} \\; \\; \\text{st. } \\mathbf{1}^\\top \\mathbf{w} = 1\n",
    "$$\n",
    "\n",
    "where the expected return vector is given by \n",
    "\n",
    "$$\n",
    "\\boldsymbol{\\mu} = \\begin{pmatrix} 0.032 \\\\ 0.0322 \\\\ 0.084 \\\\ 0.082 \\end{pmatrix},\n",
    "$$\n",
    "\n",
    "the vector of volatilites is given by \n",
    "\n",
    "$$\n",
    "\\mathbf{v} = \\begin{pmatrix} 0.05 \\\\ 0.05 \\\\ 0.22 \\\\ 0.22 \\end{pmatrix},\n",
    "$$\n",
    "\n",
    "and the correlation matrix is given by \n",
    "\n",
    "$$\n",
    "\\mathbf{C} = \\begin{pmatrix} 1.0 & 0.85 & 0.5 & 0.45 \\\\\n",
    "                      0.85 & 1.0 & 0.5 & 0.45 \\\\\n",
    "                      0.5 & 0.5 & 1.0 & 0.9 \\\\\n",
    "                      0.45 & 0.45 & 0.9 & 1.0 \\end{pmatrix}\n",
    "$$"
   ]
  },
  {
   "cell_type": "code",
   "execution_count": 2,
   "id": "af980dca-9292-4cf9-b27a-037b80b04f63",
   "metadata": {
    "ExecuteTime": {
     "end_time": "2025-09-27T16:44:21.896199Z",
     "start_time": "2025-09-27T16:44:21.891397Z"
    }
   },
   "outputs": [],
   "source": [
    "corr_mat = np.array([[1.0, 0.85, 0.5, 0.45],\n",
    "                     [0.85, 1.0, 0.5, 0.45],\n",
    "                     [0.5, 0.5, 1.0, 0.9],\n",
    "                     [0.45, 0.45, 0.9, 1.0]])\n",
    "\n",
    "vols = np.array([5.0, 5.0, 22.0, 22.0]) / 100.0\n",
    "mu = np.array([3.2, 3.22, 8.4, 8.2]) / 100.0\n",
    "\n",
    "cov_mat = mom.corr_to_cov_matrix(corr_mat, vols)"
   ]
  },
  {
   "cell_type": "markdown",
   "id": "0e098073-5124-47f5-b332-5cfa2d07b0dd",
   "metadata": {},
   "source": [
    "## Problem 1\n",
    "\n",
    "Set up the minimization problem that enable you to find the minimum variance portfolio using both `cvxopt` and `cvxpy`. Apply a budget constraint requiring the portfolio weights to sum to one. Compare with the analytical solution. \n",
    "\n",
    "### Solution\n",
    "\n",
    "We have the minimization problem \n",
    "\n",
    "$$\n",
    "\\mathbf{w}^{Min-Var} = \\arg \\min \\mathbf{w}^\\top \\boldsymbol{\\Sigma} \\mathbf{w} \\; \\; \\text{st. } \\mathbf{1}^\\top \\mathbf{w} = 1\n",
    "$$\n",
    "\n",
    "The analytical solution is given by \n",
    "\n",
    "$$\n",
    "\\mathbf{w}^{Min-Var} = \\frac{\\boldsymbol{\\Sigma}^{-1} \\mathbf{1}}{\\mathbf{1}^\\top \\boldsymbol{\\Sigma}^{-1} \\mathbf{1}}\n",
    "$$"
   ]
  },
  {
   "cell_type": "code",
   "execution_count": 3,
   "id": "7d412621-62e8-4b71-8718-29fa48a012a1",
   "metadata": {
    "ExecuteTime": {
     "end_time": "2025-09-27T16:44:21.908808Z",
     "start_time": "2025-09-27T16:44:21.905332Z"
    }
   },
   "outputs": [],
   "source": [
    "# number of assets\n",
    "num_assets = len(mu)"
   ]
  },
  {
   "cell_type": "code",
   "execution_count": 4,
   "id": "ed28ccca-221a-43d5-a73c-ba635e474eba",
   "metadata": {
    "ExecuteTime": {
     "end_time": "2025-09-27T16:44:22.354521Z",
     "start_time": "2025-09-27T16:44:22.308221Z"
    },
    "scrolled": true
   },
   "outputs": [
    {
     "data": {
      "text/plain": [
       "array([[ 0.53892691],\n",
       "       [ 0.53892691],\n",
       "       [-0.1001686 ],\n",
       "       [ 0.02231479]])"
      ]
     },
     "execution_count": 4,
     "metadata": {},
     "output_type": "execute_result"
    }
   ],
   "source": [
    "\"\"\"\n",
    "Solving with CVXOPT\n",
    "\"\"\"\n",
    "\n",
    "P = cvxopt.matrix(cov_mat) #<- we need to minimize\n",
    "q = cvxopt.matrix(np.zeros(num_assets)) \n",
    "A = cvxopt.matrix([[1.0, 1.0, 1.0, 1.0]]).T\n",
    "b = cvxopt.matrix([1.0])\n",
    "\n",
    "# solve problem \n",
    "sol = cvxopt.solvers.qp(P, q, A=A, b=b)\n",
    "\n",
    "# solution \n",
    "np.array(sol['x']) # <- gives the same solution as the analytical formula"
   ]
  },
  {
   "cell_type": "code",
   "execution_count": 4,
   "id": "3c2efcf0-530a-40c8-ba34-bfeb8dc3696c",
   "metadata": {},
   "outputs": [
    {
     "data": {
      "text/plain": [
       "\u001b[31mSignature:\u001b[39m\n",
       "cvxopt.solvers.qp(\n",
       "    P,\n",
       "    q,\n",
       "    G=\u001b[38;5;28;01mNone\u001b[39;00m,\n",
       "    h=\u001b[38;5;28;01mNone\u001b[39;00m,\n",
       "    A=\u001b[38;5;28;01mNone\u001b[39;00m,\n",
       "    b=\u001b[38;5;28;01mNone\u001b[39;00m,\n",
       "    solver=\u001b[38;5;28;01mNone\u001b[39;00m,\n",
       "    kktsolver=\u001b[38;5;28;01mNone\u001b[39;00m,\n",
       "    initvals=\u001b[38;5;28;01mNone\u001b[39;00m,\n",
       "    **kwargs,\n",
       ")\n",
       "\u001b[31mDocstring:\u001b[39m\n",
       "Solves a quadratic program\n",
       "\n",
       "    minimize    (1/2)*x'*P*x + q'*x\n",
       "    subject to  G*x <= h\n",
       "                A*x = b.\n",
       "\n",
       "\n",
       "Input arguments.\n",
       "\n",
       "    P is a n x n dense or sparse 'd' matrix with the lower triangular\n",
       "    part of P stored in the lower triangle.  Must be positive\n",
       "    semidefinite.\n",
       "\n",
       "    q is an n x 1 dense 'd' matrix.\n",
       "\n",
       "    G is an m x n dense or sparse 'd' matrix.\n",
       "\n",
       "    h is an m x 1 dense 'd' matrix.\n",
       "\n",
       "    A is a p x n dense or sparse 'd' matrix.\n",
       "\n",
       "    b is a p x 1 dense 'd' matrix or None.\n",
       "\n",
       "    solver is None or 'mosek'.\n",
       "\n",
       "    The default values for G, h, A and b are empty matrices with\n",
       "    zero rows.\n",
       "\n",
       "\n",
       "Output arguments (default solver).\n",
       "\n",
       "    Returns a dictionary with keys 'status', 'x', 's', 'y', 'z',\n",
       "    'primal objective', 'dual objective', 'gap', 'relative gap',\n",
       "    'primal infeasibility, 'dual infeasibility', 'primal slack',\n",
       "    'dual slack'.\n",
       "\n",
       "    The 'status' field has values 'optimal' or 'unknown'.\n",
       "    If the status is 'optimal', 'x', 's', 'y', 'z' are an approximate\n",
       "    solution of the primal and dual optimal solutions\n",
       "\n",
       "        G*x + s = h,  A*x = b\n",
       "        P*x + G'*z + A'*y + q = 0\n",
       "        s >= 0, z >= 0\n",
       "        s'*z = o.\n",
       "\n",
       "    If the status is 'unknown', 'x', 's', 'y', 'z' are the last\n",
       "    iterates before termination.  These satisfy s > 0 and z > 0, but\n",
       "    are not necessarily feasible.\n",
       "\n",
       "    The values of the other fields are defined as follows.\n",
       "\n",
       "    - 'primal objective': the primal objective (1/2)*x'*P*x + q'*x.\n",
       "\n",
       "    - 'dual objective': the dual objective\n",
       "\n",
       "          L(x,y,z) = (1/2)*x'*P*x + q'*x + z'*(G*x - h) + y'*(A*x-b).\n",
       "\n",
       "    - 'gap': the duality gap s'*z.\n",
       "\n",
       "    - 'relative gap': the relative gap, defined as\n",
       "\n",
       "          gap / -primal objective\n",
       "\n",
       "      if the primal objective is negative,\n",
       "\n",
       "          gap / dual objective\n",
       "\n",
       "      if the dual objective is positive, and None otherwise.\n",
       "\n",
       "    - 'primal infeasibility': the residual in the primal constraints,\n",
       "      defined as the maximum of the residual in the inequalities\n",
       "\n",
       "          || G*x + s - h || / max(1, ||h||)\n",
       "\n",
       "      and the residual in the equalities\n",
       "\n",
       "          || A*x - b || / max(1, ||b||).\n",
       "\n",
       "\n",
       "    - 'dual infeasibility': the residual in the dual constraints,\n",
       "      defined as\n",
       "\n",
       "          || P*x + G'*z + A'*y + q || / max(1, ||q||).\n",
       "\n",
       "    - 'primal slack': the smallest primal slack, min_k s_k.\n",
       "    - 'dual slack': the smallest dual slack, min_k z_k.\n",
       "\n",
       "    If the exit status is 'optimal', then the primal and dual\n",
       "    infeasibilities are guaranteed to be less than\n",
       "    solvers.options['feastol'] (default 1e-7).  The gap is less than\n",
       "    solvers.options['abstol'] (default 1e-7) or the relative gap is\n",
       "    less than solvers.options['reltol'] (default 1e-6).\n",
       "\n",
       "    Termination with status 'unknown' indicates that the algorithm\n",
       "    failed to find a solution that satisfies the specified tolerances.\n",
       "    In some cases, the returned solution may be fairly accurate.  If\n",
       "    the primal and dual infeasibilities, the gap, and the relative gap\n",
       "    are small, then x, y, s, z are close to optimal.\n",
       "\n",
       "\n",
       "Output arguments (MOSEK solver).\n",
       "\n",
       "    The return dictionary has two additional fields\n",
       "    'residual as primal infeasibility certificate' and\n",
       "    'residual as dual infeasibility certificate', and 'status' field\n",
       "    can also have the values 'primal infeasible' or 'dual infeasible'.\n",
       "\n",
       "    If the exit status is 'optimal', the different fields have the\n",
       "    same meaning as for the default solver, but the the magnitude of\n",
       "    the residuals and duality gap is controlled by the MOSEK exit\n",
       "    criteria.  The 'residual as primal infeasibility certificate' and\n",
       "    'residual as dual infeasibility certificate' are None.\n",
       "\n",
       "    Status 'primal infeasible'.\n",
       "    - 'x', 's': None.\n",
       "    - 'y', 'z' are an approximate certificate of infeasibility\n",
       "\n",
       "          G'*z + A'*y = 0,  h'*z + b'*y = -1,  z >= 0.\n",
       "\n",
       "    - 'primal objective': None.\n",
       "    - 'dual objective': 1.0.\n",
       "    - 'gap', 'relative gap': None.\n",
       "    - 'primal infeasibility' and 'dual infeasibility': None.\n",
       "    - 'primal slack': None.\n",
       "    - 'dual slack': the smallest dual slack min z_k.\n",
       "    - 'residual as primal infeasibility certificate': the residual in\n",
       "      the condition of the infeasibility certificate, defined as\n",
       "\n",
       "          || G'*z + A'*y || / max(1, ||c||).\n",
       "\n",
       "    - 'residual as dual infeasibility certificate': None.\n",
       "\n",
       "    Status 'dual infeasible'.\n",
       "    - 'x', 's' are an approximate proof of dual infeasibility\n",
       "\n",
       "          P*x = 0,  q'*x = -1,  G*x + s = 0,  A*x = 0,  s >= 0.\n",
       "\n",
       "    - 'y', 'z': None.\n",
       "    - 'primal objective': -1.0.\n",
       "    - 'dual objective': None.\n",
       "    - 'gap', 'relative gap': None.\n",
       "    - 'primal infeasibility' and 'dual infeasibility': None.\n",
       "    - 'primal slack': the smallest primal slack min_k s_k .\n",
       "    - 'dual slack': None.\n",
       "    - 'residual as primal infeasibility certificate': None.\n",
       "    - 'residual as dual infeasibility certificate: the residual in\n",
       "      the conditions of the infeasibility certificate, defined as\n",
       "      the maximum of\n",
       "\n",
       "          || P*x || / max(1, ||q||),\n",
       "          || G*x + s || / max(1, ||h||),\n",
       "          || A*x || / max(1, ||b||).\n",
       "\n",
       "\n",
       "    If status is 'unknown', all the other fields are None.\n",
       "\n",
       "\n",
       "Control parameters.\n",
       "\n",
       "    The control parameters for the different solvers can be modified\n",
       "    by adding an entry to the dictionary cvxopt.solvers.options.  The\n",
       "    following parameters control the execution of the default solver.\n",
       "\n",
       "        options['show_progress'] True/False (default: True)\n",
       "        options['maxiters'] positive integer (default: 100)\n",
       "        options['refinement']  positive integer (default: 0)\n",
       "        options['abstol'] scalar (default: 1e-7)\n",
       "        options['reltol'] scalar (default: 1e-6)\n",
       "        options['feastol'] scalar (default: 1e-7).\n",
       "\n",
       "    The MOSEK parameters can me modified by adding an entry\n",
       "    options['mosek'], containing a dictionary with MOSEK\n",
       "    parameter/value pairs, as described in the MOSEK documentation.\n",
       "\n",
       "    Options that are not recognized are replaced by their default\n",
       "    values.\n",
       "\u001b[31mFile:\u001b[39m      c:\\users\\johan\\anaconda3\\envs\\fin_econ_2025\\lib\\site-packages\\cvxopt\\coneprog.py\n",
       "\u001b[31mType:\u001b[39m      function"
      ]
     },
     "metadata": {},
     "output_type": "display_data"
    }
   ],
   "source": [
    "?cvxopt.solvers.qp"
   ]
  },
  {
   "cell_type": "code",
   "execution_count": 5,
   "id": "5e9729d8-d3af-4837-9626-e01f8a15d719",
   "metadata": {
    "ExecuteTime": {
     "end_time": "2025-09-27T16:44:22.491383Z",
     "start_time": "2025-09-27T16:44:22.437142Z"
    }
   },
   "outputs": [
    {
     "data": {
      "text/plain": [
       "array([ 0.53892691,  0.53892691, -0.1001686 ,  0.02231479])"
      ]
     },
     "execution_count": 5,
     "metadata": {},
     "output_type": "execute_result"
    }
   ],
   "source": [
    "\"\"\"\n",
    "Solving with CVXPY\n",
    "\"\"\"\n",
    "\n",
    "# define variables\n",
    "P = cov_mat\n",
    "A = np.ones(num_assets)\n",
    "b = 1.0\n",
    "\n",
    "\n",
    "# define problem \n",
    "x = cp.Variable(num_assets)\n",
    "prob = cp.Problem(cp.Minimize(cp.quad_form(x, P)),\n",
    "                  constraints=[cp.sum(x) == 1]) # cp.sum(x) == 1 or  A @ x == b\n",
    "\n",
    "# solve problem\n",
    "prob.solve()\n",
    "\n",
    "# solution \n",
    "x.value # <- gives the same solution as the analytical formula"
   ]
  },
  {
   "cell_type": "code",
   "execution_count": 6,
   "id": "8e3ff034-b11b-446c-b995-a6d6f70f162c",
   "metadata": {
    "ExecuteTime": {
     "end_time": "2025-09-27T16:44:22.581963Z",
     "start_time": "2025-09-27T16:44:22.569191Z"
    }
   },
   "outputs": [
    {
     "data": {
      "text/plain": [
       "array([ 0.53892691,  0.53892691, -0.1001686 ,  0.02231479])"
      ]
     },
     "execution_count": 6,
     "metadata": {},
     "output_type": "execute_result"
    }
   ],
   "source": [
    "\"\"\"\n",
    "Solving analytically\n",
    "\"\"\"\n",
    "\n",
    "minimum_variance_portfolio(cov_mat)"
   ]
  },
  {
   "cell_type": "markdown",
   "id": "20ca35b5-26f2-4ff0-ae68-f1cb059188f1",
   "metadata": {},
   "source": [
    "## Problem 2\n",
    "\n",
    "Minimize the portfolio variance subject to the constraints that using the `CVXPY` or `CVXOPT` package. \n",
    "\n",
    "* The expected return should be above 6%\n",
    "* No shorting (all weights should be equal or greater than 0)\n",
    "* The portfolio weights need to sum to one (budget constraint)\n",
    "\n",
    "### Solution"
   ]
  },
  {
   "cell_type": "code",
   "execution_count": 7,
   "id": "a5a8bee9-b158-44f2-87bc-2d527cff9488",
   "metadata": {
    "ExecuteTime": {
     "end_time": "2025-09-27T16:44:22.707243Z",
     "start_time": "2025-09-27T16:44:22.673886Z"
    }
   },
   "outputs": [
    {
     "name": "stdout",
     "output_type": "stream",
     "text": [
      "     pcost       dcost       gap    pres   dres\n",
      " 0:  6.8954e-03 -9.9866e-01  6e+00  2e+00  3e+00\n",
      " 1:  7.8252e-03 -6.4361e-01  7e-01  3e-02  3e-02\n",
      " 2:  8.5319e-03 -1.8427e-02  3e-02  1e-03  1e-03\n",
      " 3:  8.5500e-03  7.6858e-03  9e-04  3e-05  4e-05\n",
      " 4:  8.4181e-03  8.3773e-03  4e-05  1e-06  1e-06\n",
      " 5:  8.4086e-03  8.4056e-03  3e-06  1e-16  1e-15\n",
      " 6:  8.4082e-03  8.4081e-03  1e-07  1e-16  2e-14\n",
      " 7:  8.4082e-03  8.4082e-03  1e-09  6e-17  4e-14\n",
      "Optimal solution found.\n"
     ]
    },
    {
     "data": {
      "text/plain": [
       "array([[0.10446003],\n",
       "       [0.35062141],\n",
       "       [0.34197392],\n",
       "       [0.20294464]])"
      ]
     },
     "execution_count": 7,
     "metadata": {},
     "output_type": "execute_result"
    }
   ],
   "source": [
    "\"\"\"\n",
    "Solving with CVXOPT\n",
    "\"\"\"\n",
    "\n",
    "# objectiv function\n",
    "P = cvxopt.matrix(cov_mat) #<- we need to minimize\n",
    "q = cvxopt.matrix(np.zeros(num_assets)) \n",
    "# equality constraint\n",
    "A = cvxopt.matrix([[1.0, 1.0, 1.0, 1.0]]).T\n",
    "b = cvxopt.matrix([1.0])\n",
    "# inequality constraints\n",
    "G = cvxopt.matrix(np.vstack((-np.eye(num_assets),\n",
    "                             -mu)))\n",
    "h = cvxopt.matrix(np.r_[np.zeros(num_assets), -0.06])\n",
    "\n",
    "# solve problem \n",
    "sol = cvxopt.solvers.qp(P, q, A=A, b=b, G=G, h=h)\n",
    "\n",
    "# solution \n",
    "np.array(sol['x']) # <- gives the same solution as the analytical formula\n"
   ]
  },
  {
   "cell_type": "code",
   "execution_count": 8,
   "id": "edecf842-d4e0-4a67-af3c-255cc341a579",
   "metadata": {
    "ExecuteTime": {
     "end_time": "2025-09-27T16:44:22.864464Z",
     "start_time": "2025-09-27T16:44:22.842877Z"
    }
   },
   "outputs": [
    {
     "data": {
      "text/plain": [
       "array([0.10444791, 0.35063358, 0.34197387, 0.20294464])"
      ]
     },
     "execution_count": 8,
     "metadata": {},
     "output_type": "execute_result"
    }
   ],
   "source": [
    "\"\"\"\n",
    "Solving with CVXPY\n",
    "\"\"\"\n",
    "\n",
    "# define variables\n",
    "P = cov_mat\n",
    "A = np.ones(num_assets)\n",
    "b = 1.0\n",
    "\n",
    "\n",
    "# define problem \n",
    "x = cp.Variable(num_assets)\n",
    "prob = cp.Problem(cp.Minimize(cp.quad_form(x, P)),\n",
    "                  constraints=[cp.sum(x) == 1, \n",
    "                               x @ mu >= 0.06,\n",
    "                               x >= 0])\n",
    "# solve problem\n",
    "prob.solve()\n",
    "\n",
    "# solution \n",
    "x.value # <- gives the same solution as the analytical formula"
   ]
  }
 ],
 "metadata": {
  "kernelspec": {
   "display_name": "Python 3 (ipykernel)",
   "language": "python",
   "name": "python3"
  },
  "language_info": {
   "codemirror_mode": {
    "name": "ipython",
    "version": 3
   },
   "file_extension": ".py",
   "mimetype": "text/x-python",
   "name": "python",
   "nbconvert_exporter": "python",
   "pygments_lexer": "ipython3",
   "version": "3.13.5"
  }
 },
 "nbformat": 4,
 "nbformat_minor": 5
}
