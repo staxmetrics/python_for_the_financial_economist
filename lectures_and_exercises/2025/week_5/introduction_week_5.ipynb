{
 "cells": [
  {
   "cell_type": "markdown",
   "id": "sustainable-funds",
   "metadata": {},
   "source": [
    "# Week 5: Optimization"
   ]
  },
  {
   "cell_type": "markdown",
   "id": "ahead-rebound",
   "metadata": {},
   "source": [
    "## Lectures and exercises\n",
    "\n",
    "The **lectures** will introduce\n",
    "\n",
    "* Optimization\n",
    "\n",
    "Please look at the notebooks (self-study)\n",
    "\n",
    "* `optimization_with_scipy.ipynb`\n",
    "* `convex_optimization.ipynb`\n",
    "\n",
    "The **exercises** will ask the students to solve different problems in relation to optimization."
   ]
  }
 ],
 "metadata": {
  "kernelspec": {
   "display_name": "Python 3 (ipykernel)",
   "language": "python",
   "name": "python3"
  },
  "language_info": {
   "codemirror_mode": {
    "name": "ipython",
    "version": 3
   },
   "file_extension": ".py",
   "mimetype": "text/x-python",
   "name": "python",
   "nbconvert_exporter": "python",
   "pygments_lexer": "ipython3",
   "version": "3.11.9"
  }
 },
 "nbformat": 4,
 "nbformat_minor": 5
}
