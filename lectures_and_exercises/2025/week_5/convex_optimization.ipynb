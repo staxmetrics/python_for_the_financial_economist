{
 "cells": [
  {
   "cell_type": "code",
   "id": "personal-retention",
   "metadata": {
    "ExecuteTime": {
     "end_time": "2025-09-27T16:51:23.693504Z",
     "start_time": "2025-09-27T16:51:23.288055Z"
    }
   },
   "source": [
    "import sys\n",
    "sys.path.insert(0,'C:\\\\code\\\\python_for_the_financial_economist\\\\')\n",
    "\n",
    "\"\"\"\n",
    "Magic commands\n",
    "\"\"\"\n",
    "\n",
    "%load_ext autoreload\n",
    "%autoreload 2\n",
    "\n",
    "# animations, etc. requires below magic command\n",
    "# %matplotlib notebook\n",
    "\n",
    "\n",
    "\"\"\"\n",
    "Load relevant packages\n",
    "\"\"\"\n",
    "\n",
    "import numpy as np\n",
    "import pandas as pd\n",
    "\n",
    "# plotting\n",
    "import matplotlib.pyplot as plt\n",
    "import seaborn as sns\n",
    "\n",
    "# matrix square root\n",
    "from scipy.linalg import sqrtm\n",
    "from scipy import stats\n",
    "\n",
    "# packages for convex programming\n",
    "import cvxopt\n",
    "import cvxpy as cp"
   ],
   "outputs": [],
   "execution_count": 1
  },
  {
   "cell_type": "markdown",
   "id": "47306f92",
   "metadata": {},
   "source": [
    "# Convex optimization\n",
    "\n",
    "Convex optimization relates to optimization problems where the objective function is a convex function subject to only convex and affine constraints. \n",
    "\n",
    "The main advantage of convex programming problems is that there is only on local minimum, which is also globally optimal, and that we have can use efficient algorithms to solve such problems numerically. \n",
    "\n",
    "In finance, we will encounter convex optimization problems, in particular linear and quadratic programming problems, in many application, e.g. portfolio optimization. \n",
    "\n",
    "This Jupyter notebook will give a brief introduction to convex programming problems relevant for primarily portfolio optimization while the interested reader is refered to [Boyd and Vandenberghe (2004)](https://web.stanford.edu/~boyd/cvxbook/bv_cvxbook.pdf). The focus is on how to implement convex optimization problems using the `cvxopt` and `cvxpy` packages. \n",
    "\n",
    "## The general problem \n",
    "\n",
    "Convex programming solves the problem \n",
    "\n",
    "$$\n",
    "\\begin{align*}\n",
    "\t\\min_{\\mathbf{x}}  \\quad & f(\\mathbf{x}) \\\\\n",
    "\t\\textrm{s.t.} \\quad & \\mathbf{A} \\mathbf{x} = \\mathbf{b}\\\\\n",
    "\t & g(\\mathbf{x}) \\leq \\mathbf{0}\n",
    "\\end{align*}\n",
    "$$\n",
    "\n",
    "where $\\mathbf{x}$ is a n-dimensional vector, $f : \\mathbb{R}^n \\to \\mathbb{R}$ is a convex function, $\\mathbf{A}$ and $\\mathbf{b}$ defines an affine set, $g(\\mathbf{x}) = (g_1 (\\mathbf{x}), ..., g_K (\\mathbf{x}) )^\\top$ is a vector of convex functions defining a convex set. \n",
    "\n",
    "__Note__:  A function $f()$ is said to be convex if\n",
    "\n",
    "$$\n",
    "f(\\alpha \\mathbf{x} + \\beta \\mathbf{y}) \\leq \\alpha f(\\mathbf{x}) + \\beta f(\\mathbf{y})\n",
    "$$\n",
    "\n",
    "for $\\alpha \\geq 0$, $\\beta \\geq 0$, $\\alpha + \\beta = 1$, $\\mathbf{x}, \\mathbf{y} \\in \\mathbb{R}^N$\n",
    "\n",
    "## Linear programming\n",
    "\n",
    "In linear programming the convex objective function is required to be linear and we only allow for linear equality and inequality constraints. \n",
    "\n",
    "$$\n",
    "\\begin{align*}\n",
    "\t\\min_{\\mathbf{x}}  \\quad & \\mathbf{c}^\\top \\mathbf{x} \\\\\n",
    "\t\\textrm{s.t.} \\quad & \\mathbf{A} \\mathbf{x} = \\mathbf{b}\\\\\n",
    "\t & \\mathbf{G} \\mathbf{x} \\leq \\mathbf{h}\n",
    "\\end{align*}\n",
    "$$\n",
    "\n",
    "where $\\mathbf{A}$ is a $m \\times n$ matrix, $\\mathbf{b}$ is a $m$-dimensional vector, where $m$ is the number of equality constraints.\n",
    "\n",
    "__Example: Solving a linear program__\n",
    "\n",
    "Note: Example is taken from [CVXOPT tutorial](https://cvxopt.org/examples/tutorial/lp.html). \n",
    "\n",
    "Consider the linear program \n",
    "\n",
    "$$\n",
    "\\begin{align*}\n",
    "\t\\arg \\min_{\\mathbf{x}}  \\quad & 2 x_1 + x_2\\\\\n",
    "\t\\textrm{s.t.} \\quad & -x_1 + x_2 \\leq 1 \\\\\n",
    "\t & x_1 + x_2 \\geq 2 \\\\\n",
    "     & x_2 \\geq 0 \\\\\n",
    "     & x_1 - 2x_2 \\leq 4\n",
    "\\end{align*}\n",
    "$$\n",
    "\n",
    "\n",
    "Solve the problem. "
   ]
  },
  {
   "cell_type": "code",
   "id": "eabbcd98",
   "metadata": {
    "ExecuteTime": {
     "end_time": "2025-09-27T16:51:24.867314Z",
     "start_time": "2025-09-27T16:51:23.918554Z"
    }
   },
   "source": [
    "\"\"\"\n",
    "CVXOPT\n",
    "\"\"\"\n",
    "\n",
    "# define input matrices\n",
    "c = cvxopt.matrix([2.0, 1.0])\n",
    "G = cvxopt.matrix([[-1.0, -1.0, 0.0, 1.0],[1.0, -1.0, -1.0, -2.0]])\n",
    "h = cvxopt.matrix([ 1.0, -2.0, 0.0, 4.0 ])\n",
    "\n",
    "# solve problem \n",
    "sol = cvxopt.solvers.lp(c, G, h)"
   ],
   "outputs": [
    {
     "name": "stdout",
     "output_type": "stream",
     "text": [
      "     pcost       dcost       gap    pres   dres   k/t\n",
      " 0:  2.6471e+00 -7.0588e-01  2e+01  8e-01  2e+00  1e+00\n",
      " 1:  3.0726e+00  2.8437e+00  1e+00  1e-01  2e-01  3e-01\n",
      " 2:  2.4891e+00  2.4808e+00  1e-01  1e-02  2e-02  5e-02\n",
      " 3:  2.4999e+00  2.4998e+00  1e-03  1e-04  2e-04  5e-04\n",
      " 4:  2.5000e+00  2.5000e+00  1e-05  1e-06  2e-06  5e-06\n",
      " 5:  2.5000e+00  2.5000e+00  1e-07  1e-08  2e-08  5e-08\n",
      "Optimal solution found.\n"
     ]
    }
   ],
   "execution_count": 2
  },
  {
   "cell_type": "code",
   "id": "ae94cd5f",
   "metadata": {
    "ExecuteTime": {
     "end_time": "2025-09-27T16:51:25.754363Z",
     "start_time": "2025-09-27T16:51:25.685479Z"
    }
   },
   "source": [
    "np.array(sol['x'])"
   ],
   "outputs": [
    {
     "data": {
      "text/plain": [
       "array([[0.5],\n",
       "       [1.5]])"
      ]
     },
     "execution_count": 3,
     "metadata": {},
     "output_type": "execute_result"
    }
   ],
   "execution_count": 3
  },
  {
   "cell_type": "code",
   "id": "43ae7d37",
   "metadata": {
    "ExecuteTime": {
     "end_time": "2025-09-27T16:51:25.913868Z",
     "start_time": "2025-09-27T16:51:25.835140Z"
    }
   },
   "source": [
    "\"\"\"\n",
    "CVXPY\n",
    "\"\"\"\n",
    "\n",
    "# define variables\n",
    "c = np.array([2.0, 1.0])\n",
    "G = np.array([[-1.0, -1.0, 0.0, 1.0],[1.0, -1.0, -1.0, -2.0]]).T\n",
    "h = np.array([ 1.0, -2.0, 0.0, 4.0 ])\n",
    "\n",
    "# define problem \n",
    "x = cp.Variable(2)\n",
    "prob = cp.Problem(cp.Minimize(c @ x), constraints=[G @ x <= h])\n",
    "\n",
    "# solve problem\n",
    "prob.solve()\n",
    "\n",
    "# solution \n",
    "x.value"
   ],
   "outputs": [
    {
     "data": {
      "text/plain": [
       "array([0.5, 1.5])"
      ]
     },
     "execution_count": 4,
     "metadata": {},
     "output_type": "execute_result"
    }
   ],
   "execution_count": 4
  },
  {
   "cell_type": "markdown",
   "id": "a6463ef8",
   "metadata": {},
   "source": [
    "## Quadratic programming\n",
    "\n",
    "We will often encounter quadratic programming problems in finance and economics, e.g. in relation to portfolio optimization and linear regression. Quadratic programming solves the optimization problem \n",
    "\n",
    "$$\n",
    "\\begin{align*}\n",
    "\t\\min_{\\mathbf{x}}  \\quad & \\frac{1}{2} \\mathbf{x}^\\top  \\mathbf{P}  \\mathbf{x}  +  \\mathbf{q}^\\top \\mathbf{x} \\\\\n",
    "\t\\textrm{s.t.} \\quad & \\mathbf{A} \\mathbf{x} = \\mathbf{b}\\\\\n",
    "\t & \\mathbf{G} \\mathbf{x} \\leq \\mathbf{h}\n",
    "\\end{align*}\n",
    "$$\n",
    "\n",
    "Clearly, linear programming is a special case of quadratic programming. \n",
    "\n",
    "\n",
    "__Example:  Portofolio optimization - quadratic utility__\n",
    "\n",
    "\n",
    "Assume that an investor has a quadratic utility function \n",
    "\n",
    "$$\n",
    "U(\\mathbf{w}) = \\mathbf{w}^\\top \\boldsymbol{\\mu} - \\frac{\\lambda}{2} \\mathbf{w}^\\top \\boldsymbol{\\Sigma} \\mathbf{w}\n",
    "$$\n",
    "\n",
    "where $\\mathbf{w}$ is the portfolio weights, $\\boldsymbol{\\mu}$ is a vector of expected returns, and $\\boldsymbol{\\Sigma}$ denotes the covariance matrix. \n",
    "\n",
    "The investor seeks to maximize the utility given the constraint that the portfolio weights sum to one\n",
    "\n",
    "$$\n",
    "\\mathbf{1}^\\top \\mathbf{w} = 1\n",
    "$$\n",
    "\n",
    "The solution to this optimization problem is given by (see e.g. [Rebonato and Denev, \"Portfolio Management under stress\"](https://www.amazon.com/Portfolio-Management-under-Stress-Bayesian-Net/dp/1107048117))\n",
    "\n",
    "$$\n",
    "\\mathbf{w}^* = \\frac{1}{\\lambda} \\boldsymbol{\\Sigma}^{-1} \\boldsymbol{\\mu} - \\frac{1}{\\lambda} \\boldsymbol{\\Sigma}^{-1} \\mathbf{A}^\\top \\mathbf{C}^{-1} \\left(\\mathbf{A}\\boldsymbol{\\Sigma}^{-1}\\boldsymbol{\\mu}  - \\lambda \\mathbf{b} \\right)\n",
    "$$\n",
    "\n",
    "with $\\mathbf{A} = \\mathbf{1}^\\top$, $\\mathbf{b} = 1$, and $\\mathbf{C} = \\mathbf{A} \\boldsymbol{\\Sigma}^{-1}\\mathbf{A}^\\top$. Note that this solution is valid for more general constraints of the form $\\mathbf{A}^\\top \\mathbf{w} = \\mathbf{b}$. \n",
    "\n",
    "\n",
    "We assume that \n",
    "\n",
    "$$\n",
    "\\boldsymbol{\\mu}  = \\begin{bmatrix} 0.02 \\\\ 0.04 \\\\ 0.08 \\end{bmatrix}, \\; \\mathbf{v} = \\begin{bmatrix} 0.075 \\\\ 0.15 \\\\ 0.3 \\end{bmatrix}, \\; \\textbf{Corr} = \\begin{bmatrix} 1.0 & 0.2 & 0.1 \\\\\n",
    "                     0.2 & 1.0 & 0.4 \\\\\n",
    "                     0.1 & 0.4 & 1.0 \\end{bmatrix}\n",
    "$$\n",
    "\n",
    "and $\\lambda = 5$. \n",
    "\n",
    "Compare the solution to the one obtained using `cvxopt` or `cvxpy`."
   ]
  },
  {
   "cell_type": "code",
   "id": "958036f2",
   "metadata": {
    "ExecuteTime": {
     "end_time": "2025-09-27T16:51:26.051091Z",
     "start_time": "2025-09-27T16:51:25.982066Z"
    }
   },
   "source": [
    "\"\"\"\n",
    "Define input parameters\n",
    "\"\"\"\n",
    "\n",
    "mu = np.array([0.02, 0.04, 0.08])\n",
    "\n",
    "vols = np.array([0.075, 0.15, 0.3])\n",
    "\n",
    "corr_mat = np.array([[1.0, 0.2, 0.1],\n",
    "                     [0.2, 1.0, 0.4],\n",
    "                     [0.1, 0.4, 1.0]])\n",
    "\n",
    "cov_mat = np.outer(vols, vols) * corr_mat\n",
    "cov_mat"
   ],
   "outputs": [
    {
     "data": {
      "text/plain": [
       "array([[0.005625, 0.00225 , 0.00225 ],\n",
       "       [0.00225 , 0.0225  , 0.018   ],\n",
       "       [0.00225 , 0.018   , 0.09    ]])"
      ]
     },
     "execution_count": 5,
     "metadata": {},
     "output_type": "execute_result"
    }
   ],
   "execution_count": 5
  },
  {
   "cell_type": "code",
   "id": "523bb605",
   "metadata": {
    "ExecuteTime": {
     "end_time": "2025-09-27T16:51:26.280685Z",
     "start_time": "2025-09-27T16:51:26.206544Z"
    }
   },
   "source": [
    "def calculate_optimal_weights(mu: np.ndarray, cov_matrix: np.ndarray, risk_aversion: float) -> np.ndarray: \n",
    "    \n",
    "    \"\"\"\n",
    "    Function that calculates optimal port. weights\n",
    "    \n",
    "    Parameters\n",
    "    ----------\n",
    "    mu: \n",
    "        Expected returns\n",
    "    cov_matrix: \n",
    "        Covariance matrix\n",
    "    risk_aversion: \n",
    "        Risk aversion parameter\n",
    "    \n",
    "    Returns\n",
    "    -------\n",
    "    float\n",
    "        Optimal portfolio weights\n",
    "    \"\"\"\n",
    "    sigma_inv = np.linalg.inv(cov_matrix)\n",
    "    A = np.ones_like(mu)\n",
    "    C = A @ sigma_inv @ A\n",
    "    C_inv = 1.0 / C\n",
    "    b = 1.0\n",
    "    \n",
    "    first_part = 1.0 / risk_aversion * sigma_inv @ mu \n",
    "    second_part = 1.0 / risk_aversion * sigma_inv @ A * C_inv * (A @ sigma_inv @ mu - risk_aversion * b)\n",
    "    \n",
    "    opt_weights = first_part - second_part\n",
    "    \n",
    "    return opt_weights"
   ],
   "outputs": [],
   "execution_count": 6
  },
  {
   "cell_type": "code",
   "id": "8cf6e46b",
   "metadata": {
    "ExecuteTime": {
     "end_time": "2025-09-27T16:51:26.429031Z",
     "start_time": "2025-09-27T16:51:26.352150Z"
    }
   },
   "source": [
    "risk_aversion = 5\n",
    "print(\"optimal weights: \")\n",
    "w_opt = calculate_optimal_weights(mu, cov_mat, risk_aversion)\n",
    "w_opt"
   ],
   "outputs": [
    {
     "name": "stdout",
     "output_type": "stream",
     "text": [
      "optimal weights: \n"
     ]
    },
    {
     "data": {
      "text/plain": [
       "array([0.66414857, 0.2115203 , 0.12433113])"
      ]
     },
     "execution_count": 7,
     "metadata": {},
     "output_type": "execute_result"
    }
   ],
   "execution_count": 7
  },
  {
   "cell_type": "code",
   "id": "28069aa2",
   "metadata": {
    "ExecuteTime": {
     "end_time": "2025-09-27T16:51:26.548956Z",
     "start_time": "2025-09-27T16:51:26.474912Z"
    }
   },
   "source": [
    "\"\"\"\n",
    "CVXOPT\n",
    "\"\"\"\n",
    "\n",
    "P = cvxopt.matrix(cov_mat * risk_aversion) #<- we need to minimize\n",
    "q = cvxopt.matrix(-mu) #<- we need to minimize\n",
    "A = cvxopt.matrix([[1.0, 1.0, 1.0]]).T\n",
    "b = cvxopt.matrix([1.0])\n",
    "\n",
    "# solve problem \n",
    "sol = cvxopt.solvers.qp(P, q, A=A, b=b)\n",
    "\n",
    "# solution \n",
    "np.array(sol['x']) # <- gives the same solution as the analytical formula"
   ],
   "outputs": [
    {
     "data": {
      "text/plain": [
       "array([[0.66414857],\n",
       "       [0.2115203 ],\n",
       "       [0.12433113]])"
      ]
     },
     "execution_count": 8,
     "metadata": {},
     "output_type": "execute_result"
    }
   ],
   "execution_count": 8
  },
  {
   "cell_type": "code",
   "id": "6a845053",
   "metadata": {
    "ExecuteTime": {
     "end_time": "2025-09-27T16:51:26.698952Z",
     "start_time": "2025-09-27T16:51:26.618724Z"
    }
   },
   "source": [
    "\"\"\"\n",
    "CVXPY\n",
    "\"\"\"\n",
    "num_assets = len(mu)\n",
    "# define variables\n",
    "P = cov_mat * risk_aversion\n",
    "q = mu\n",
    "A = np.ones(num_assets)\n",
    "b = 1.0\n",
    "\n",
    "\n",
    "# define problem \n",
    "x = cp.Variable(num_assets)\n",
    "prob = cp.Problem(cp.Maximize(q @ x - 0.5 * cp.quad_form(x, P)),\n",
    "                  constraints=[cp.sum(x) == 1]) # cp.sum(x) == 1 or  A @ x == b\n",
    "\n",
    "# solve problem\n",
    "prob.solve()\n",
    "\n",
    "# solution \n",
    "x.value"
   ],
   "outputs": [
    {
     "data": {
      "text/plain": [
       "array([0.66414857, 0.2115203 , 0.12433113])"
      ]
     },
     "execution_count": 9,
     "metadata": {},
     "output_type": "execute_result"
    }
   ],
   "execution_count": 9
  },
  {
   "cell_type": "markdown",
   "id": "576cf976",
   "metadata": {},
   "source": [
    "If add the constraint that all assets need an allocation above 30%, then we do not have an analytical solution anymore - but luckily we can apply `cvxopt` or `cvxpy`. "
   ]
  },
  {
   "cell_type": "code",
   "id": "fd10b135",
   "metadata": {
    "ExecuteTime": {
     "end_time": "2025-09-27T16:51:26.857284Z",
     "start_time": "2025-09-27T16:51:26.773218Z"
    }
   },
   "source": [
    "num_assets = len(mu)\n",
    "# define variables\n",
    "P = cov_mat * risk_aversion\n",
    "q = mu\n",
    "A = np.ones(num_assets)\n",
    "b = 1.0\n",
    "\n",
    "\n",
    "# define problem \n",
    "x = cp.Variable(num_assets)\n",
    "prob = cp.Problem(cp.Maximize(q @ x - 0.5 * cp.quad_form(x, P)),\n",
    "                  constraints=[A @ x == b,\n",
    "                               x >= 0.3]) # <- just add this input, cvxpy will set the matrices up correctly!\n",
    "\n",
    "# solve problem\n",
    "prob.solve()\n",
    "\n",
    "# solution \n",
    "x.value"
   ],
   "outputs": [
    {
     "data": {
      "text/plain": [
       "array([0.4, 0.3, 0.3])"
      ]
     },
     "execution_count": 10,
     "metadata": {},
     "output_type": "execute_result"
    }
   ],
   "execution_count": 10
  },
  {
   "cell_type": "markdown",
   "id": "8322757e",
   "metadata": {},
   "source": [
    "## Second-order cone programming\n",
    "\n",
    "A second-order cone program is an optimization problem of the form (following the notation from [CVXPY](https://www.cvxpy.org/examples/basic/socp.html))\n",
    "\n",
    "$$\n",
    "\\begin{align*}\n",
    "\t\\arg \\min_{\\mathbf{x}}  \\quad & \\mathbf{f}^\\top \\mathbf{x} \\\\\n",
    "\t\\textrm{s.t.} \\quad & \\Vert \\mathbf{A}_i \\mathbf{x} + \\mathbf{b}_i \\Vert_2  \\leq \\mathbf{c}_i^\\top \\mathbf{x} + d_i, \\; i = 1, ..., m\\\\\n",
    "\t & \\mathbf{F} \\mathbf{x} = \\mathbf{g}\n",
    "\\end{align*}\n",
    "$$\n",
    "\n",
    "where $\\mathbf{x}$ is the optimization variable,  $\\mathbf{f}$ is a $n$-dimensional vector, $\\mathbf{A}_i$ is a $n_i \\times n$  matrix, $\\mathbf{b}_i$ is a $n_i$-dimensional vector, $\\mathbf{c}_i$ is a $n$-dimensional vector, $d_i$ is a scalar, $\\mathbf{F}$ is a $p \\times n$ matrix and $\\mathbf{g}$ is a $p$-dimensional vector. \n",
    "\n",
    "__Example: Portfolio optimization with VaR constraint__\n",
    "\n",
    "Assume that the net return is multivariate normal $\\mathbf{R} \\sim \\text{MN}(\\boldsymbol{\\mu}, \\boldsymbol{\\Sigma})$ with\n",
    "\n",
    "$$\n",
    "\\boldsymbol{\\mu}  = \\begin{bmatrix} 0.02 \\\\ 0.04 \\\\ 0.08 \\end{bmatrix}, \\; \\mathbf{v} = \\begin{bmatrix} 0.075 \\\\ 0.15 \\\\ 0.3 \\end{bmatrix}, \\; \\textbf{Corr} = \\begin{bmatrix} 1.0 & 0.2 & 0.1 \\\\\n",
    "                     0.2 & 1.0 & 0.4 \\\\\n",
    "                     0.1 & 0.4 & 1.0 \\end{bmatrix}\n",
    "$$\n",
    "\n",
    "Assume that we want to maximize the expected return subject to the (negative) Value at Risk  being larger certain threshold, $b$, \n",
    "\n",
    "$$\n",
    "\\begin{align*}\n",
    "\t\\max_{\\mathbf{w}}  \\quad & \\boldsymbol{\\mu}^\\top \\mathbf{w} \\\\\n",
    "\t\\textrm{s.t.} \\quad & \\boldsymbol{\\mu}^\\top \\mathbf{w} + \\Phi^{-1}(\\alpha) \\sqrt{\\mathbf{w}^\\top \\boldsymbol{\\Sigma} \\mathbf{w}} \\geq b\\\\\n",
    "     & \\mathbf{w} \\geq \\mathbf{0} \\\\\n",
    "\t & \\mathbf{1}^\\top \\mathbf{w} = 1\n",
    "\\end{align*}\n",
    "$$\n",
    "\n",
    "Since $\\boldsymbol{\\mu}^\\top \\mathbf{w} + \\Phi^{-1}(\\alpha) \\sqrt{\\mathbf{w}^\\top \\boldsymbol{\\Sigma} \\mathbf{w}} \\geq b$ is equivalent to $\\boldsymbol{\\mu}^\\top \\mathbf{w} + \\Phi^{-1}(\\alpha) \\Vert \\boldsymbol{\\Sigma}^{1/2} \\mathbf{w} \\Vert \\geq b$, we can equivalently write the problem as \n",
    "\n",
    "$$\n",
    "\\begin{align*}\n",
    "\t\\max_{\\mathbf{w}}  \\quad & \\boldsymbol{\\mu}^\\top \\mathbf{w} \\\\\n",
    "\t\\textrm{s.t.} \\quad & \\Vert \\boldsymbol{\\Sigma}^{1/2} \\mathbf{w} \\Vert \\leq \\frac{1}{\\Phi^{-1}(\\alpha)}\\boldsymbol{\\mu}^\\top \\mathbf{w} -\\frac{1}{\\Phi^{-1}(\\alpha)}b\\\\\n",
    "     & \\mathbf{w} \\geq \\mathbf{0} \\\\    \n",
    "\t & \\mathbf{1}^\\top \\mathbf{w}= 1\n",
    "\\end{align*}\n",
    "$$\n",
    "\n",
    "which is a second-order cone programming problem. "
   ]
  },
  {
   "cell_type": "code",
   "id": "ccf1d20a",
   "metadata": {
    "ExecuteTime": {
     "end_time": "2025-09-27T16:51:26.978457Z",
     "start_time": "2025-09-27T16:51:26.904117Z"
    }
   },
   "source": [
    "\"\"\"\n",
    "Define input parameters\n",
    "\"\"\"\n",
    "\n",
    "mu = np.array([0.02, 0.04, 0.08])\n",
    "\n",
    "vols = np.array([0.075, 0.15, 0.3])\n",
    "\n",
    "corr_mat = np.array([[1.0, 0.2, 0.1],\n",
    "                     [0.2, 1.0, 0.4],\n",
    "                     [0.1, 0.4, 1.0]])\n",
    "\n",
    "cov_mat = np.outer(vols, vols) * corr_mat"
   ],
   "outputs": [],
   "execution_count": 11
  },
  {
   "cell_type": "code",
   "id": "817ed5dc",
   "metadata": {
    "ExecuteTime": {
     "end_time": "2025-09-27T16:51:27.115177Z",
     "start_time": "2025-09-27T16:51:27.005984Z"
    }
   },
   "source": [
    "# define variables, etc. \n",
    "tail = 0.05\n",
    "loss = 0.14112535684744942 # minimum attainable VaR(5%) is ~14.1%\n",
    "\n",
    "f = mu\n",
    "A = sqrtm(cov_mat) \n",
    "c = mu / stats.norm.ppf(tail)\n",
    "d = -loss /  stats.norm.ppf(tail)\n",
    "\n",
    "# variables \n",
    "w = cp.Variable(num_assets)\n",
    "\n",
    "# constraints \n",
    "constraints = [cp.sum(w) == 1, w >= 0]\n",
    "constraints += [cp.SOC(c @ w + d, A @ w)]\n",
    "\n",
    "# problem \n",
    "prob = cp.Problem(cp.Maximize(f @ w), constraints=constraints)\n",
    "\n",
    "# solve problem\n",
    "prob.solve(verbose=False)\n",
    "\n",
    "# solution \n",
    "w.value"
   ],
   "outputs": [
    {
     "data": {
      "text/plain": [
       "array([0.85553006, 0.13596845, 0.00850149])"
      ]
     },
     "execution_count": 12,
     "metadata": {},
     "output_type": "execute_result"
    }
   ],
   "execution_count": 12
  },
  {
   "cell_type": "markdown",
   "id": "0506520b",
   "metadata": {},
   "source": [
    "## Semidefinite programming\n",
    "\n",
    "A semidefinite program (SDP) is an optimization problem of the form \n",
    "\n",
    "$$\n",
    "\\begin{align*}\n",
    "\t\\min_{\\mathbf{X}}  \\quad &  \\text{tr}(\\mathbf{C} \\mathbf{X}) \\\\\n",
    "\t\\textrm{s.t.} \\quad & \\text{tr}(\\mathbf{A}_i \\mathbf{X}) = b_i, \\; i = 1, ..., m\\\\\n",
    "    & \\mathbf{X} \\succeq 0\n",
    "\\end{align*}\n",
    "$$\n",
    "\n",
    "where $\\text{tr}$ is the [trace operator](https://en.wikipedia.org/wiki/Trace_(linear_algebra)). The optimization variable $\\mathbf{X} \\in \\mathcal{S}^n$ is a $n \\times n$ symmetric matrix. The problem data $\\mathbf{C}, \\mathbf{A}_1, ..., \\mathbf{A}_m \\in \\mathcal{S}^n$ are $n \\times n$ symmetric matrices. $\\mathbf{X} \\succeq 0$ is a matrix inequality requiring $\\mathbf{X}$ to be a symmetric and positive semidefinite matrix ($\\succ$ means positive definite matrix). \n",
    "\n",
    "See e.g. [Boyd and Vandenberghe (2004)](https://web.stanford.edu/~boyd/cvxbook/bv_cvxbook.pdf) and [Freund (2004)](https://ocw.mit.edu/courses/15-084j-nonlinear-programming-spring-2004/a632b565602fd2eb3be574c537eea095_lec23_semidef_opt.pdf) for additional information.\n",
    "\n",
    "__Example: How to set up a problem__\n",
    "\n",
    "Note: Example taken from [Freund (2004)](https://ocw.mit.edu/courses/15-084j-nonlinear-programming-spring-2004/a632b565602fd2eb3be574c537eea095_lec23_semidef_opt.pdf). \n",
    "\n",
    "Consider the case with $m=2$ and $n = 3$ with the following matrices \n",
    "\n",
    "$$\n",
    "\\mathbf{A}_1 = \\begin{pmatrix} 1 & 0 & 1 \\\\ 0 & 3 & 7 \\\\ 1 & 7 & 5 \\end{pmatrix}, \\quad\n",
    "\\mathbf{A}_2 = \\begin{pmatrix} 0 & 2 & 8 \\\\ 2 & 6 & 0 \\\\ 8 & 0 & 4 \\end{pmatrix}, \\quad\n",
    "\\mathbf{C} = \\begin{pmatrix} 1 & 2 & 3 \\\\ 2 & 9 & 0 \\\\ 3 & 0 & 7 \\end{pmatrix}\n",
    "$$\n",
    "\n",
    "and the values $b_1 = 11$ and $b_2 = 19$. The optimization variable $\\mathbf{X}$ will be a $3 \\times 3$ symmetric matrix: \n",
    "\n",
    "$$\n",
    "\\mathbf{X} = \\begin{pmatrix} x_{11} & x_{12} & x_{13} \\\\ x_{21} & x_{22} & x_{23} \\\\ x_{31} & x_{32} & x_{33} \\end{pmatrix}\n",
    "$$\n",
    "\n",
    "Doing some tedious matrix calculations, we are able to show that the problem is given by (using that $\\mathbf{X}$ is symmetric, e.g. $x_{12} = x_{21}$)\n",
    "\n",
    "$$\n",
    "\\begin{align*}\n",
    "\t\\min  \\quad &  x_{11} + 4 x_{12} + 6 x_{13} + 9 x_{22} + 0 x_{23} + 7 x_{33} \\\\\n",
    "\t\\textrm{s.t.} \\quad & x_{11} + 0 x_{12} + 2 x_{13} + 3 x_{22} + 14 x_{23} + 5 x_{33} = 11, \\\\\n",
    "    & 0 x_{11} + 4 x_{12} + 16 x_{13} + 6 x_{22} + 0 x_{23} + 4 x_{33} = 19 \\\\\n",
    "    & \\begin{pmatrix} x_{11} & x_{12} & x_{13} \\\\ x_{21} & x_{22} & x_{23} \\\\ x_{31} & x_{32} & x_{33} \\end{pmatrix} \\succeq 0\n",
    "\\end{align*}\n",
    "$$\n",
    "\n",
    "In the following code-block, we show how to implement the problem with `cvxpy`"
   ]
  },
  {
   "cell_type": "code",
   "id": "d9c4979f",
   "metadata": {
    "ExecuteTime": {
     "end_time": "2025-09-27T16:51:27.247071Z",
     "start_time": "2025-09-27T16:51:27.159882Z"
    }
   },
   "source": [
    "\"\"\"\n",
    "Define relevant matrices\n",
    "\"\"\"\n",
    "\n",
    "\n",
    "A1 = np.array([[1, 0, 1], \n",
    "               [0, 3, 7], \n",
    "               [1, 7, 5]])\n",
    "\n",
    "b1 = 11\n",
    "\n",
    "A2 = np.array([[0, 2, 8], \n",
    "               [2, 6, 0], \n",
    "               [8, 0, 4]])\n",
    "\n",
    "b2 = 19\n",
    "\n",
    "C = np.array([[1, 2, 3], \n",
    "              [2, 9, 0], \n",
    "              [3, 0, 7]])\n",
    "\n",
    "\"\"\"\n",
    "Define X matrix - optimization variable\n",
    "\"\"\"\n",
    "\n",
    "X = cp.Variable((3, 3), symmetric=True) # tell cvxpy that X is a symmetric n x n matrix\n",
    "\n",
    "\"\"\"\n",
    "Define constraints\n",
    "\"\"\"\n",
    "\n",
    "constraints = [X >> 0] # matrix X is positive definite\n",
    "\n",
    "constraints.append(cp.trace(A1 @ X) == b1)\n",
    "constraints.append(cp.trace(A2 @ X) == b2)\n",
    "\n",
    "\"\"\"\n",
    "Define problem \n",
    "\"\"\"\n",
    "\n",
    "prob = cp.Problem(cp.Minimize(cp.trace(C @ X)), constraints)\n",
    "\n",
    "\"\"\"\n",
    "Solve problem and print solution\n",
    "\"\"\"\n",
    "\n",
    "prob.solve()\n",
    "\n",
    "print(\"The optimal value is\", prob.value)\n",
    "print(\"A solution X is\")\n",
    "print(X.value)"
   ],
   "outputs": [
    {
     "name": "stdout",
     "output_type": "stream",
     "text": [
      "The optimal value is 13.902182526039585\n",
      "A solution X is\n",
      "[[1.05600838 0.36917833 0.86830385]\n",
      " [0.36917833 0.12907089 0.30358367]\n",
      " [0.86830385 0.30358367 0.71399996]]\n"
     ]
    }
   ],
   "execution_count": 13
  },
  {
   "cell_type": "markdown",
   "id": "46c83a03",
   "metadata": {},
   "source": [
    "__Example: Relation to linear programming__\n",
    "\n",
    "If we had a linear programming problem of the form \n",
    "\n",
    "$$\n",
    "\\begin{align*}\n",
    "\t\\min_{\\mathbf{x}}  \\quad & \\mathbf{c}^\\top \\mathbf{x} \\\\\n",
    "\t\\textrm{s.t.} \\quad & \\mathbf{A} \\mathbf{x} = \\mathbf{b}\\\\\n",
    "\\end{align*}\n",
    "$$\n",
    "\n",
    "We would be able to define an equivalent semidefinite programming problem by defining \n",
    "\n",
    "$$\n",
    "\\mathbf{A}_i = \\begin{pmatrix} a_{i1} & 0 &  \\dots & 0 \\\\ 0 & a_{i2} & \\dots & 0 \\\\ \\vdots & \\vdots & \\ddots & \\vdots \\\\\n",
    "0 & 0 & \\dots & a_{in}\\end{pmatrix}, i = 1, \\dots, m \\quad \\text{and} \\quad  \\mathbf{C} = \\begin{pmatrix} c_1 & 0 &  \\dots & 0 \\\\ 0 & c_2 & \\dots & 0 \\\\ \\vdots & \\vdots & \\ddots & \\vdots \\\\\n",
    "0 & 0 & \\dots & c_n\\end{pmatrix}\n",
    "$$\n",
    "\n",
    "such that we can write the linear programming problem as \n",
    "\n",
    "$$\n",
    "\\begin{align*}\n",
    "\t\\min_{\\mathbf{X}}  \\quad &  \\text{tr}(\\mathbf{C} \\mathbf{X}) \\\\\n",
    "\t\\textrm{s.t.} \\quad & \\text{tr}(\\mathbf{A}_i \\mathbf{X}) = b_i, \\; i = 1, ..., m\\\\\n",
    "    & x_{ij} = 0, i = 1, \\dots, n, j = i + 1, \\dots, n \\\\\n",
    "    & \\mathbf{X} \\succeq 0\n",
    "\\end{align*}\n",
    "$$\n",
    "\n",
    "Thus, we are restricting $\\mathbf{X}$ to be a diagonal matrix. \n",
    "\n",
    "In practice, we would not transform a linear programming problem to a semidefinite one, but this illustrates that a semidefinite programming problem includes linear programming as a special case. \n",
    "\n",
    "__Example: Maximization of entry in correlation matrix__\n",
    "\n",
    "Note: This example is adapted from [[W]](https://en.wikipedia.org/wiki/Semidefinite_programming). \n",
    "\n",
    "Let $\\mathbf{X}$ be a $3 \\times 3$ correlation matrix \n",
    "\n",
    "\n",
    "$$\n",
    "\\mathbf{X} = \\begin{pmatrix} 1 & x_{12} & x_{13} \\\\ x_{21} & 1 & x_{23} \\\\ x_{31} & x_{32} & 1 \\end{pmatrix} \\succeq 0\n",
    "$$\n",
    "\n",
    "We assume that $x_{12} = -0.15$ and $x_{23} = 0.45$. What is the maximum value that $x_{13}$ can take?"
   ]
  },
  {
   "cell_type": "code",
   "id": "96c869f8",
   "metadata": {
    "ExecuteTime": {
     "end_time": "2025-09-27T16:51:27.341849Z",
     "start_time": "2025-09-27T16:51:27.273886Z"
    }
   },
   "source": [
    "n = 3\n",
    "\n",
    "\"\"\"\n",
    "Define X matrix - optimization variable\n",
    "\"\"\"\n",
    "\n",
    "X = cp.Variable((n, n), symmetric=True) # tell cvxpy that X is a symmetric n x n matrix\n",
    "\n",
    "\"\"\"\n",
    "Define constraint matrices\n",
    "\"\"\"\n",
    "\n",
    "# positive definite constraint\n",
    "constraints = [X >> 0]\n",
    "\n",
    "# add diagonal constraints - diagonal must be equal to one\n",
    "for i in range(n):\n",
    "    A = np.zeros((n,n))\n",
    "    A[i, i] = 1.0\n",
    "    \n",
    "    constraints.append(cp.trace(A @ X) == 1.0)\n",
    "    \n",
    "# add constraints on x12 and x23 \n",
    "A = np.zeros((n,n))\n",
    "A[0, 1] = 1.0\n",
    "\n",
    "constraints.append(cp.trace(A @ X) == -0.15)\n",
    "\n",
    "A = np.zeros((n,n))\n",
    "A[1, 2] = 1.0\n",
    "\n",
    "constraints.append(cp.trace(A @ X) == 0.45)\n",
    "\n",
    "\n",
    "\"\"\"\n",
    "Define problem \n",
    "\"\"\"\n",
    "\n",
    "C = np.zeros((n, n))\n",
    "C[0, 2] = C[2, 0] = 0.5\n",
    "\n",
    "prob = cp.Problem(cp.Maximize(cp.trace(C @ X)), constraints)\n",
    "\n",
    "\"\"\"\n",
    "Solve problem and print solution\n",
    "\"\"\"\n",
    "\n",
    "prob.solve()\n",
    "\n",
    "print(\"The optimal value is\", prob.value)\n",
    "print(\"A solution X is\")\n",
    "print(X.value)"
   ],
   "outputs": [
    {
     "name": "stdout",
     "output_type": "stream",
     "text": [
      "The optimal value is 0.8154248299108627\n",
      "A solution X is\n",
      "[[ 1.         -0.15        0.81542483]\n",
      " [-0.15        1.          0.45      ]\n",
      " [ 0.81542483  0.45        1.        ]]\n"
     ]
    }
   ],
   "execution_count": 14
  },
  {
   "cell_type": "markdown",
   "id": "d012a0b2",
   "metadata": {},
   "source": [
    "Instead of specifying specific values for $x_{12}$ and $x_{23}$, we could assume $-0.2 \\leq x_{12} \\leq -0.1$ and $0.4 \\leq x_{12} \\leq 0.5$. \n",
    "\n",
    "To add inequality constraints, we can add slack variables to the problem, e.g. $x_{12} \\leq -0.1$ can be implemented as \n",
    "\n",
    "$$\n",
    "\\text{tr} \\left(\\left(\\begin{array}{cccccc}\n",
    "0 & 1 & 0 & 0 & 0 & 0\\\\\n",
    "0 & 0 & 0 & 0 & 0 & 0\\\\\n",
    "0 & 0 & 0 & 0 & 0 & 0\\\\\n",
    "0 & 0 & 0 & 1 & 0 & 0\\\\\n",
    "0 & 0 & 0 & 0 & 0 & 0\\\\\n",
    "0 & 0 & 0 & 0 & 0 & 0\\end{array}\\right)\\cdot\\left(\\begin{array}{cccccc}\n",
    "1 & x_{12} & x_{13} & 0 & 0 & 0\\\\\n",
    "x_{12} & 1 & x_{23} & 0 & 0 & 0\\\\\n",
    "x_{13} & x_{23} & 1 & 0 & 0 & 0\\\\\n",
    "0 & 0 & 0 & s_{1} & 0 & 0\\\\\n",
    "0 & 0 & 0 & 0 & s_{2} & 0\\\\\n",
    "0 & 0 & 0 & 0 & 0 & s_{3}\\end{array}\\right)\\right)=x_{12} + s_{1}=-0.1\n",
    "$$\n",
    "\n",
    "Since $s_1$ is restricted to be positive, then $x_{12}$ have to be smaller than $-0.1$. "
   ]
  },
  {
   "cell_type": "code",
   "id": "5276fb40",
   "metadata": {
    "ExecuteTime": {
     "end_time": "2025-09-27T16:51:27.440708Z",
     "start_time": "2025-09-27T16:51:27.370203Z"
    }
   },
   "source": [
    "n = 3\n",
    "num_ineq = 4\n",
    "n_tot = n + num_ineq\n",
    "\n",
    "\"\"\"\n",
    "Define X matrix - optimization variable\n",
    "\"\"\"\n",
    "\n",
    "X = cp.Variable((n_tot, n_tot), symmetric=True) # tell cvxpy that X is a symmetric n x n matrix\n",
    "\n",
    "\"\"\"\n",
    "Define constraint matrices\n",
    "\"\"\"\n",
    "\n",
    "# positive definite constraint\n",
    "constraints = [X >> 0]\n",
    "\n",
    "# add diagonal constraints - diagonal must be equal to one\n",
    "for i in range(n):\n",
    "    A = np.zeros((n_tot, n_tot))\n",
    "    A[i, i] = 1.0\n",
    "    \n",
    "    constraints.append(cp.trace(A @ X) == 1.0)\n",
    "    \n",
    "# add constraints on x12\n",
    "A = np.zeros((n_tot, n_tot))\n",
    "A[0, 1] = 1.0\n",
    "A[3, 3] = 1.0\n",
    "\n",
    "constraints.append(cp.trace(A @ X) == -0.1)\n",
    "\n",
    "A = np.zeros((n_tot, n_tot))\n",
    "A[0, 1] = 1.0\n",
    "A[4, 4] = -1.0\n",
    "\n",
    "constraints.append(cp.trace(A @ X) == -0.2)\n",
    "\n",
    "# add constraints on x23\n",
    "A = np.zeros((n_tot, n_tot))\n",
    "A[1, 2] = 1.0\n",
    "A[5, 5] = 1.0\n",
    "\n",
    "constraints.append(cp.trace(A @ X) == 0.5)\n",
    "\n",
    "A = np.zeros((n_tot, n_tot))\n",
    "A[1, 2] = 1.0\n",
    "A[6, 6] = -1.0\n",
    "\n",
    "constraints.append(cp.trace(A @ X) == 0.4)\n",
    "\n",
    "\n",
    "\"\"\"\n",
    "Define problem \n",
    "\"\"\"\n",
    "\n",
    "C = np.zeros((n_tot, n_tot))\n",
    "C[0, 2] = C[2, 0] = 0.5\n",
    "\n",
    "prob = cp.Problem(cp.Maximize(cp.trace(C @ X)), constraints)\n",
    "\n",
    "\"\"\"\n",
    "Solve problem and print solution\n",
    "\"\"\"\n",
    "\n",
    "prob.solve(verbose=False)\n",
    "\n",
    "print(\"The optimal value is\", prob.value)\n",
    "print(\"A solution X is\")\n",
    "print(X.value[:3, :3])"
   ],
   "outputs": [
    {
     "name": "stdout",
     "output_type": "stream",
     "text": [
      "The optimal value is 0.8719398868309305\n",
      "A solution X is\n",
      "[[ 1.         -0.09998599  0.87193989]\n",
      " [-0.09998599  1.00000001  0.39998524]\n",
      " [ 0.87193989  0.39998524  1.        ]]\n"
     ]
    }
   ],
   "execution_count": 15
  },
  {
   "cell_type": "markdown",
   "id": "hourly-passion",
   "metadata": {},
   "source": [
    "# References\n",
    "\n",
    "## Lecture notes\n",
    "\n",
    "[Freund (2004)](https://ocw.mit.edu/courses/15-084j-nonlinear-programming-spring-2004/a632b565602fd2eb3be574c537eea095_lec23_semidef_opt.pdf)\n",
    "\n",
    "## Books\n",
    "\n",
    "[Convex Optimization, Boyd and Vandenberghe (2004)](https://web.stanford.edu/~boyd/cvxbook/bv_cvxbook.pdf)"
   ]
  }
 ],
 "metadata": {
  "kernelspec": {
   "display_name": "Python 3 (ipykernel)",
   "language": "python",
   "name": "python3"
  },
  "language_info": {
   "codemirror_mode": {
    "name": "ipython",
    "version": 3
   },
   "file_extension": ".py",
   "mimetype": "text/x-python",
   "name": "python",
   "nbconvert_exporter": "python",
   "pygments_lexer": "ipython3",
   "version": "3.11.9"
  }
 },
 "nbformat": 4,
 "nbformat_minor": 5
}
