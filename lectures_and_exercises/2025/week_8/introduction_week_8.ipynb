{
 "cells": [
  {
   "cell_type": "markdown",
   "id": "sustainable-funds",
   "metadata": {},
   "source": [
    "# Week 9: Introduction to modern portfolio theory \n",
    "\n",
    "In this week, we will look at the Markowitz approach to portfolio optimization. "
   ]
  },
  {
   "cell_type": "markdown",
   "id": "ahead-rebound",
   "metadata": {},
   "source": [
    "## Lectures and exercises\n",
    "\n",
    "The **lectures** cover\n",
    "\n",
    "* Classic Mean-Variance optimization \n",
    "* A discussion of the instability problem\n",
    "* Some solutions to the instability problem \n",
    "\n",
    "The **exercises** cover\n",
    "\n",
    "* Comparing the equally weighted and the value weighted portfolio\n",
    "* Satisfaction from portfolio optimization\n",
    "* Multi-year portfolio optimization"
   ]
  }
 ],
 "metadata": {
  "kernelspec": {
   "display_name": "Python 3 (ipykernel)",
   "language": "python",
   "name": "python3"
  },
  "language_info": {
   "codemirror_mode": {
    "name": "ipython",
    "version": 3
   },
   "file_extension": ".py",
   "mimetype": "text/x-python",
   "name": "python",
   "nbconvert_exporter": "python",
   "pygments_lexer": "ipython3",
   "version": "3.11.9"
  }
 },
 "nbformat": 4,
 "nbformat_minor": 5
}
