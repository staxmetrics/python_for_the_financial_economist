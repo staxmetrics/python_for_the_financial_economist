{
 "cells": [
  {
   "cell_type": "markdown",
   "id": "sustainable-funds",
   "metadata": {},
   "source": [
    "# Week 6: Estimation"
   ]
  },
  {
   "cell_type": "markdown",
   "id": "ahead-rebound",
   "metadata": {},
   "source": [
    "## Lectures and exercises\n",
    "\n",
    "The **lectures** will introduce concepts related to estimation. \n",
    "\n",
    "The **exercises** will  will look at \n",
    "\n",
    "* Estimation \n",
    "    * OLS vs. MLE\n",
    "    * Shrinkage estimator\n",
    "    * Time-varying correlation\n",
    "* Covariance matrix and shrinkage\n",
    "    * Simulating the gains of denoising the correlation / covariance matrix\n",
    "* Some optional exercises\n",
    "    * Recession forecasting\n",
    "    * Hypothesis testing\n",
    "    * Implementing Ledoit and Wolf (2003)\n"
   ]
  }
 ],
 "metadata": {
  "kernelspec": {
   "display_name": "Python 3 (ipykernel)",
   "language": "python",
   "name": "python3"
  },
  "language_info": {
   "codemirror_mode": {
    "name": "ipython",
    "version": 3
   },
   "file_extension": ".py",
   "mimetype": "text/x-python",
   "name": "python",
   "nbconvert_exporter": "python",
   "pygments_lexer": "ipython3",
   "version": "3.13.5"
  }
 },
 "nbformat": 4,
 "nbformat_minor": 5
}
