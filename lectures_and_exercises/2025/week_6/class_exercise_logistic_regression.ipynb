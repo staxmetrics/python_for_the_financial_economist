{
 "cells": [
  {
   "cell_type": "markdown",
   "id": "5729489a",
   "metadata": {},
   "source": [
    "# MLE of logistic regression model"
   ]
  },
  {
   "cell_type": "code",
   "execution_count": 1,
   "id": "c0c4e99c",
   "metadata": {},
   "outputs": [],
   "source": [
    "import sys\n",
    "sys.path.insert(0,'C:\\\\code\\\\python_for_the_financial_economist\\\\')\n",
    "\n",
    "# import relevant packages\n",
    "import numpy as np\n",
    "\n",
    "# packages for convex optimization\n",
    "import cvxpy as cp\n",
    "\n",
    "# for calculating evaluation metrics\n",
    "from sklearn.metrics import accuracy_score, confusion_matrix\n",
    "\n",
    "from codelib.visualization.layout import DefaultStyle\n",
    "DefaultStyle();"
   ]
  },
  {
   "cell_type": "markdown",
   "id": "61b1bfca-6cb1-4c35-aa37-b44e034852aa",
   "metadata": {},
   "source": [
    "The logistic regression model specifies the probability that a binary outcome variable $y$ equal 1 as \n",
    "\n",
    "$$\n",
    "P(y=1 \\vert \\mathbf{x}) = \\frac{1}{1 + e^{-\\mathbf{x}^\\top \\boldsymbol{\\beta}}}\n",
    "$$\n",
    "\n",
    "where $\\boldsymbol{\\beta}$ is the vector of coefficients to be estimated. \n",
    "\n",
    "Below we simulate data from a logistic model with two explanatory variables. "
   ]
  },
  {
   "cell_type": "code",
   "execution_count": 2,
   "id": "58ae953f-80df-4e04-bc96-d23e68dd5d5c",
   "metadata": {},
   "outputs": [],
   "source": [
    "# set random seed\n",
    "np.random.seed(42)\n",
    "\n",
    "# number of simulations\n",
    "num_sim = 100\n",
    "\n",
    "# coefficients\n",
    "beta0 = -1.0\n",
    "beta1 = 2.0\n",
    "beta2 =  -3.0\n",
    "\n",
    "# generate explanatory variables\n",
    "x1 = np.random.normal(loc=0, scale=1, size=num_sim)\n",
    "x2 = np.random.normal(loc=0, scale=1, size=num_sim)\n",
    "\n",
    "# generate probabilties\n",
    "probs = 1 / (1 + np.exp(-(beta0 + beta1 * x1 + beta2 * x2)))\n",
    "\n",
    "# simulate y values\n",
    "y = np.random.binomial(1, probs, size=num_sim)"
   ]
  },
  {
   "cell_type": "code",
   "execution_count": 3,
   "id": "42c376ce-db59-44ec-bc4d-04865757f4b7",
   "metadata": {},
   "outputs": [
    {
     "data": {
      "text/plain": [
       "array([1, 1, 1, 1, 0, 0, 0, 0, 0, 0, 1, 0, 1, 0, 0, 0, 0, 1, 0, 0, 0, 1,\n",
       "       0, 1, 0, 0, 0, 1, 0, 0, 1, 1, 1, 0, 1, 0, 1, 0, 0, 1, 1, 0, 1, 0,\n",
       "       0, 0, 1, 1, 0, 0, 1, 0, 0, 0, 1, 1, 0, 0, 1, 0, 0, 0, 0, 0, 0, 1,\n",
       "       0, 0, 1, 0, 1, 1, 1, 1, 0, 0, 0, 0, 0, 0, 0, 1, 1, 0, 0, 0, 0, 1,\n",
       "       0, 1, 1, 0, 0, 1, 1, 0, 1, 0, 0, 1])"
      ]
     },
     "execution_count": 3,
     "metadata": {},
     "output_type": "execute_result"
    }
   ],
   "source": [
    "y"
   ]
  },
  {
   "cell_type": "markdown",
   "id": "0e098073-5124-47f5-b332-5cfa2d07b0dd",
   "metadata": {},
   "source": [
    "## Problem 1\n",
    "\n",
    "The log-likelihood function is given by\n",
    "\n",
    "$$\n",
    "\\ell(\\boldsymbol{\\beta}) = \\sum_{i=1}^N [y_i \\log \\frac{1}{1 + e^{-\\mathbf{x}^\\top \\boldsymbol{\\beta}}} + (1 - y_i) \\log (1 - \\frac{1}{1 + e^{-\\mathbf{x}^\\top \\boldsymbol{\\beta}}})]\n",
    "$$\n",
    "\n",
    "which is a convex function in $\\boldsymbol{\\beta}$.\n",
    "\n",
    "Use the `CVXPY` package to estimate the coefficients by maximizing the log-likelihood function. "
   ]
  },
  {
   "cell_type": "markdown",
   "id": "20ca35b5-26f2-4ff0-ae68-f1cb059188f1",
   "metadata": {},
   "source": [
    "## Problem 2\n",
    "\n",
    "Calculate the predicted probabilities. Classify $y$ based on a  50% threshold. In addition calculate the accuracy score and the confusion matrix (use metrics.accuracy_score and metrics.confusion_matrix from `scikit-learn`)."
   ]
  },
  {
   "cell_type": "markdown",
   "id": "0c6a4885-573e-421b-8c76-ce506c65def5",
   "metadata": {},
   "source": [
    "## Problem 3\n",
    "\n",
    "To be able to perform variable selection, we can add an L1 penalty to the log-likelihood\n",
    "\n",
    "$$\n",
    "\\ell_{reg}(\\boldsymbol{\\beta}) = \\ell(\\boldsymbol{\\beta}) - \\lambda \\Vert \\boldsymbol{\\beta} \\Vert_1 , \\; \\; \\lambda > 0\n",
    "$$\n",
    "\n",
    "Again, estimate the parameters using `CVXPY` and evaluate the model. "
   ]
  },
  {
   "cell_type": "markdown",
   "id": "779288fe-5417-466a-b57e-7d3c02df40e5",
   "metadata": {},
   "source": [
    "### Links\n",
    "\n",
    "Logistic regression model with maximum likelihood: [Statlect.com](https://www.statlect.com/fundamentals-of-statistics/logistic-model-maximum-likelihood)"
   ]
  }
 ],
 "metadata": {
  "kernelspec": {
   "display_name": "Python 3 (ipykernel)",
   "language": "python",
   "name": "python3"
  },
  "language_info": {
   "codemirror_mode": {
    "name": "ipython",
    "version": 3
   },
   "file_extension": ".py",
   "mimetype": "text/x-python",
   "name": "python",
   "nbconvert_exporter": "python",
   "pygments_lexer": "ipython3",
   "version": "3.11.9"
  }
 },
 "nbformat": 4,
 "nbformat_minor": 5
}
