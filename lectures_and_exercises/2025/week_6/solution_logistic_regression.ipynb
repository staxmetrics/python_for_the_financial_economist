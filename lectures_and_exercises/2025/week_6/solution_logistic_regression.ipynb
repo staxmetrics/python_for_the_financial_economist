{
 "cells": [
  {
   "metadata": {},
   "cell_type": "markdown",
   "source": "# MLE of logistic regression model",
   "id": "be248d6563716769"
  },
  {
   "metadata": {
    "ExecuteTime": {
     "end_time": "2025-10-04T11:40:20.992021Z",
     "start_time": "2025-10-04T11:40:20.987245Z"
    }
   },
   "cell_type": "code",
   "source": [
    "import sys\n",
    "sys.path.insert(0,'C:\\\\code\\\\python_for_the_financial_economist\\\\')\n",
    "\n",
    "# import relevant packages\n",
    "import numpy as np\n",
    "\n",
    "# packages for convex optimization\n",
    "import cvxpy as cp\n",
    "\n",
    "# for calculating evaluation metrics\n",
    "from sklearn.metrics import accuracy_score, confusion_matrix\n",
    "\n",
    "from codelib.visualization.layout import DefaultStyle\n",
    "DefaultStyle();"
   ],
   "id": "5ee966101f0e165b",
   "outputs": [],
   "execution_count": 9
  },
  {
   "metadata": {},
   "cell_type": "markdown",
   "source": [
    "The logistic regression model specifies the probability that a binary outcome variable $y$ equal 1 as\n",
    "\n",
    "$$\n",
    "P(y=1 \\vert \\mathbf{x}) = \\frac{1}{1 + e^{-\\mathbf{x}^\\top \\boldsymbol{\\beta}}}\n",
    "$$\n",
    "\n",
    "where $\\boldsymbol{\\beta}$ is the vector of coefficients to be estimated.\n",
    "\n",
    "Below we simulate data from a logistic model with two explanatory variables."
   ],
   "id": "c23868ea1c5bdc8b"
  },
  {
   "metadata": {
    "ExecuteTime": {
     "end_time": "2025-10-04T11:40:21.029029Z",
     "start_time": "2025-10-04T11:40:21.022083Z"
    }
   },
   "cell_type": "code",
   "source": [
    "# set random seed\n",
    "np.random.seed(42)\n",
    "\n",
    "# number of simulations\n",
    "num_sim = 100\n",
    "\n",
    "# coefficients\n",
    "beta0 = -1.0\n",
    "beta1 = 2.0\n",
    "beta2 =  -3.0\n",
    "\n",
    "# generate explanatory variables\n",
    "x1 = np.random.normal(loc=0, scale=1, size=num_sim)\n",
    "x2 = np.random.normal(loc=0, scale=1, size=num_sim)\n",
    "\n",
    "# generate probabilties\n",
    "probs = 1 / (1 + np.exp(-(beta0 + beta1 * x1 + beta2 * x2)))\n",
    "\n",
    "# simulate y values\n",
    "y = np.random.binomial(1, probs, size=num_sim)"
   ],
   "id": "d9b48450a99f5515",
   "outputs": [],
   "execution_count": 10
  },
  {
   "metadata": {},
   "cell_type": "markdown",
   "source": [
    "## Problem 1\n",
    "\n",
    "The log-likelihood function is given by\n",
    "\n",
    "$$\n",
    "\\ell(\\boldsymbol{\\beta}) = \\sum_{i=1}^N [y_i \\log \\frac{1}{1 + e^{-\\mathbf{x}^\\top \\boldsymbol{\\beta}}} + (1 - y_i) \\log (1 - \\frac{1}{1 + e^{-\\mathbf{x}^\\top \\boldsymbol{\\beta}}})]\n",
    "$$\n",
    "\n",
    "which is a convex function in $\\boldsymbol{\\beta}$.\n",
    "\n",
    "Use the `CVXPY` package to estimate the coefficients by maximizing the log-likelihood function.\n",
    "\n",
    "### Solution\n",
    "## Problem 1\n",
    "\n",
    "The log-likelihood function is given by\n",
    "\n",
    "$$\n",
    "\\ell(\\boldsymbol{\\beta}) = \\sum_{i=1}^N [y_i \\log \\frac{1}{1 + e^{-\\mathbf{x}^\\top \\boldsymbol{\\beta}}} + (1 - y_i) \\log (1 - \\frac{1}{1 + e^{-\\mathbf{x}^\\top \\boldsymbol{\\beta}}})]\n",
    "$$\n",
    "\n",
    "which is a convex function in $\\boldsymbol{\\beta}$.\n",
    "\n",
    "Use the `CVXPY` package to estimate the coefficients by maximizing the log-likelihood function.\n",
    "\n",
    "### Solution\n"
   ],
   "id": "d885116394373df7"
  },
  {
   "metadata": {
    "ExecuteTime": {
     "end_time": "2025-10-04T11:40:21.101453Z",
     "start_time": "2025-10-04T11:40:21.076210Z"
    }
   },
   "cell_type": "code",
   "source": [
    "\"\"\"\n",
    "Solving with CVXPY\n",
    "\"\"\"\n",
    "\n",
    "x_mat = np.vstack((x1, x2)).T\n",
    "\n",
    "# define optimization variables\n",
    "beta = cp.Variable(2)\n",
    "intercept = cp.Variable()\n",
    "\n",
    "# define objective\n",
    "log_likelihood = cp.sum(cp.multiply(y, x_mat @ beta + intercept) - cp.logistic(x_mat @ beta + intercept))\n",
    "objective = cp.Maximize(log_likelihood)\n",
    "\n",
    "# define problem\n",
    "problem = cp.Problem(objective)\n",
    "\n",
    "# solve problem\n",
    "problem.solve()\n",
    "\n",
    "# solution\n",
    "beta_est = beta.value\n",
    "beta_est"
   ],
   "id": "9f858997812e4f0e",
   "outputs": [
    {
     "data": {
      "text/plain": [
       "array([ 3.30649047, -4.33761934])"
      ]
     },
     "execution_count": 11,
     "metadata": {},
     "output_type": "execute_result"
    }
   ],
   "execution_count": 11
  },
  {
   "metadata": {
    "ExecuteTime": {
     "end_time": "2025-10-04T11:40:21.156575Z",
     "start_time": "2025-10-04T11:40:21.150025Z"
    }
   },
   "cell_type": "code",
   "source": [
    "# intercept\n",
    "intercept_est = intercept.value\n",
    "intercept_est"
   ],
   "id": "be337f1115f7b441",
   "outputs": [
    {
     "data": {
      "text/plain": [
       "array(-1.47863114)"
      ]
     },
     "execution_count": 12,
     "metadata": {},
     "output_type": "execute_result"
    }
   ],
   "execution_count": 12
  },
  {
   "metadata": {},
   "cell_type": "markdown",
   "source": [
    "## Problem 2\n",
    "\n",
    "Calculate the predicted probabilities. Classify $y$ based on a  50% threshold. In addition calculate the accuracy score and the confusion matrix (use metrics.accuracy_score and metrics.confusion_matrix from `scikit-learn`).\n",
    "\n",
    "### Solution"
   ],
   "id": "9a3a98e5001b886f"
  },
  {
   "metadata": {
    "ExecuteTime": {
     "end_time": "2025-10-04T11:40:21.202375Z",
     "start_time": "2025-10-04T11:40:21.193196Z"
    }
   },
   "cell_type": "code",
   "source": [
    "probs_pred = 1 / (1 + np.exp(- (x_mat @ beta_est + intercept_est)))\n",
    "\n",
    "# Classify based on a threshold (e.g., 0.5)\n",
    "y_pred = (probs_pred >= 0.5).astype(int)\n",
    "\n",
    "# Evaluate the model\n",
    "accuracy = accuracy_score(y, y_pred)\n",
    "conf_matrix = confusion_matrix(y, y_pred)\n",
    "\n",
    "print(f\"\\nAccuracy: {accuracy}\")\n",
    "print(\"Confusion Matrix:\")\n",
    "print(conf_matrix)"
   ],
   "id": "95ffdb27aedf12cf",
   "outputs": [
    {
     "name": "stdout",
     "output_type": "stream",
     "text": [
      "\n",
      "Accuracy: 0.88\n",
      "Confusion Matrix:\n",
      "[[57  4]\n",
      " [ 8 31]]\n"
     ]
    }
   ],
   "execution_count": 13
  },
  {
   "metadata": {},
   "cell_type": "markdown",
   "source": [
    "The accuracy score is the fraction of correct predictions.\n",
    "\n",
    "We interpret the confusion matrix as follows\n",
    "\n",
    "<table><tbody>\n",
    "  <tr>\n",
    "    <td>True Negative</td>\n",
    "    <td>False Positive</td>\n",
    "  </tr>\n",
    "  <tr>\n",
    "    <td>False Negative</td>\n",
    "    <td>True Positive</td>\n",
    "  </tr>\n",
    "</tbody>\n",
    "</table>  </tr>\n",
    "</tbody>"
   ],
   "id": "44759a77cf7d42d"
  },
  {
   "metadata": {},
   "cell_type": "markdown",
   "source": [
    "## Problem 3\n",
    "\n",
    "To be able to perform variable selection, we can add an L1 penalty to the log-likelihood\n",
    "\n",
    "$$\n",
    "\\ell_{reg}(\\boldsymbol{\\beta}) = \\ell(\\boldsymbol{\\beta}) - \\lambda \\Vert \\boldsymbol{\\beta} \\Vert_1 , \\; \\; \\lambda > 0\n",
    "$$\n",
    "\n",
    "Again, estimate the parameters using `CVXPY` and evaluate the model.\n",
    "\n",
    "### Solution"
   ],
   "id": "de5f74c4e85d2b7"
  },
  {
   "metadata": {
    "ExecuteTime": {
     "end_time": "2025-10-04T11:40:21.272256Z",
     "start_time": "2025-10-04T11:40:21.246943Z"
    }
   },
   "cell_type": "code",
   "source": [
    "\"\"\"\n",
    "Solving with CVXPY\n",
    "\"\"\"\n",
    "\n",
    "lambda_reg = cp.Parameter(nonneg=True)\n",
    "lambda_reg.value = 3 # you can change this parameter to change the regularization\n",
    "\n",
    "# define optimization variables\n",
    "beta = cp.Variable(2)\n",
    "intercept = cp.Variable()\n",
    "\n",
    "# define objective\n",
    "log_likelihood = cp.sum(cp.multiply(y, x_mat @ beta + intercept) - cp.logistic(x_mat @ beta + intercept)) - lambda_reg * cp.norm1(beta)\n",
    "objective = cp.Maximize(log_likelihood)\n",
    "\n",
    "# define problem\n",
    "problem = cp.Problem(objective)\n",
    "\n",
    "# solve problem\n",
    "problem.solve()\n",
    "\n",
    "# solution\n",
    "beta_reg_est = beta.value\n",
    "beta_reg_est"
   ],
   "id": "bf046808ba00e12e",
   "outputs": [
    {
     "data": {
      "text/plain": [
       "array([ 1.47723654, -2.20536778])"
      ]
     },
     "execution_count": 14,
     "metadata": {},
     "output_type": "execute_result"
    }
   ],
   "execution_count": 14
  },
  {
   "metadata": {
    "ExecuteTime": {
     "end_time": "2025-10-04T11:40:21.323203Z",
     "start_time": "2025-10-04T11:40:21.317445Z"
    }
   },
   "cell_type": "code",
   "source": [
    "# intercept\n",
    "intercept_reg_est = intercept.value\n",
    "intercept_reg_est"
   ],
   "id": "80200b178c2e1400",
   "outputs": [
    {
     "data": {
      "text/plain": [
       "array(-0.80437535)"
      ]
     },
     "execution_count": 15,
     "metadata": {},
     "output_type": "execute_result"
    }
   ],
   "execution_count": 15
  },
  {
   "metadata": {
    "ExecuteTime": {
     "end_time": "2025-10-04T11:40:21.359919Z",
     "start_time": "2025-10-04T11:40:21.352941Z"
    }
   },
   "cell_type": "code",
   "source": [
    "probs_pred = 1 / (1 + np.exp(- (x_mat @ beta_reg_est + intercept_reg_est)))\n",
    "\n",
    "# Classify based on a threshold (e.g., 0.5)\n",
    "y_pred = (probs_pred >= 0.5).astype(int)\n",
    "\n",
    "# Evaluate the model\n",
    "accuracy = accuracy_score(y, y_pred)\n",
    "conf_matrix = confusion_matrix(y, y_pred)\n",
    "\n",
    "print(f\"\\nAccuracy: {accuracy}\")\n",
    "print(\"Confusion Matrix:\")\n",
    "print(conf_matrix)"
   ],
   "id": "e0a5505d2c2a6b65",
   "outputs": [
    {
     "name": "stdout",
     "output_type": "stream",
     "text": [
      "\n",
      "Accuracy: 0.9\n",
      "Confusion Matrix:\n",
      "[[58  3]\n",
      " [ 7 32]]\n"
     ]
    }
   ],
   "execution_count": 16
  },
  {
   "metadata": {},
   "cell_type": "markdown",
   "source": [
    "### Links\n",
    "\n",
    "Logistic regression model with maximum likelihood: [Statlect.com](https://www.statlect.com/fundamentals-of-statistics/logistic-model-maximum-likelihood)"
   ],
   "id": "390e024cbff432cd"
  }
 ],
 "metadata": {
  "kernelspec": {
   "display_name": "Python 3",
   "language": "python",
   "name": "python3"
  },
  "language_info": {
   "codemirror_mode": {
    "name": "ipython",
    "version": 2
   },
   "file_extension": ".py",
   "mimetype": "text/x-python",
   "name": "python",
   "nbconvert_exporter": "python",
   "pygments_lexer": "ipython2",
   "version": "2.7.6"
  }
 },
 "nbformat": 4,
 "nbformat_minor": 5
}
