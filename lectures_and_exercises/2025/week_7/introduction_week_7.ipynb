{
 "cells": [
  {
   "cell_type": "markdown",
   "id": "sustainable-funds",
   "metadata": {},
   "source": [
    "# Week 7: Fixed income modelling"
   ]
  },
  {
   "cell_type": "markdown",
   "id": "domestic-split",
   "metadata": {},
   "source": [
    "## Introduction to object oriented programming\n",
    "\n",
    "Please take the DataCamp course [Object Oriented Programming in Python](https://app.datacamp.com/learn/courses/object-oriented-programming-in-python). Alternativly you can take [Introduction to Object Oriented Programming in Python](https://app.datacamp.com/learn/courses/introduction-to-object-oriented-programming-in-python)."
   ]
  },
  {
   "cell_type": "markdown",
   "id": "ahead-rebound",
   "metadata": {},
   "source": [
    "## Lectures and exercises\n",
    "\n",
    "The **lectures** will introduce concepts related to fixed income\n",
    "\n",
    "* Yield curve extraction\n",
    "* Curve and cash flow objects\n",
    "\n",
    "The **exercises** will cover\n",
    "\n",
    "* The Vasicek model\n",
    "* Dynamic Nelson-Siegel model\n",
    "* Principal components"
   ]
  }
 ],
 "metadata": {
  "kernelspec": {
   "display_name": "Python 3 (ipykernel)",
   "language": "python",
   "name": "python3"
  },
  "language_info": {
   "codemirror_mode": {
    "name": "ipython",
    "version": 3
   },
   "file_extension": ".py",
   "mimetype": "text/x-python",
   "name": "python",
   "nbconvert_exporter": "python",
   "pygments_lexer": "ipython3",
   "version": "3.11.9"
  }
 },
 "nbformat": 4,
 "nbformat_minor": 5
}
